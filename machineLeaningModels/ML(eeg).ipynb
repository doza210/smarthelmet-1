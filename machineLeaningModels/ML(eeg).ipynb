{
 "cells": [
  {
   "attachments": {},
   "cell_type": "markdown",
   "metadata": {},
   "source": [
    "### MODEL FOR EEG NEURAL NET"
   ]
  },
  {
   "cell_type": "code",
   "execution_count": 1,
   "metadata": {},
   "outputs": [],
   "source": [
    "from __future__ import print_function\n",
    "from matplotlib import pyplot as plt\n",
    "import numpy as np\n",
    "import pandas as pd\n",
    "import seaborn as sns\n",
    "from scipy import stats\n",
    "from IPython.display import display, HTML\n",
    "import sys\n",
    "\n",
    "from sklearn import metrics\n",
    "from sklearn.metrics import classification_report\n",
    "from sklearn import preprocessing\n",
    "\n",
    "import keras\n",
    "from keras.models import Sequential\n",
    "from keras.layers import Dense, Dropout, Flatten, Reshape\n",
    "from keras.layers import Conv2D, MaxPooling2D\n",
    "from keras.utils import np_utils\n",
    "from keras.layers import BatchNormalization\n",
    "from keras.optimizers import Adam\n",
    "from keras import backend as K\n"
   ]
  },
  {
   "attachments": {},
   "cell_type": "markdown",
   "metadata": {},
   "source": [
    "### GETTING Data"
   ]
  },
  {
   "cell_type": "code",
   "execution_count": 2,
   "metadata": {},
   "outputs": [],
   "source": [
    "# dfAwake_train = pd.read_csv('Data/Poor EEG Data/poor_AData.txt', header=None, delim_whitespace=True)\n",
    "\n",
    "dfAwake_train = pd.read_csv('Data/training_AData.txt', header=None, delim_whitespace=True)\n",
    "dfDrowsy_train = pd.read_csv('Data/training_DData.txt', header=None, delim_whitespace=True)\n",
    "\n",
    "# dfAwake_test1 = pd.read_csv('Data/Validation/validation_AData.txt', header=None, delim_whitespace=True)\n",
    "# dfDrowsy_test1 = pd.read_csv('Data/Validation/validation_DData.txt', header=None, delim_whitespace=True)\n",
    "# dfAwake_test2 = pd.read_csv('Data/Data for 2nd Level Classification/testing2_AData.txt', header=None, delim_whitespace=True)\n",
    "# dfDrowsy_test2 = pd.read_csv('Data/Data for 2nd Level Classification/testing2_DData.txt', header=None, delim_whitespace=True)\n",
    "\n",
    "dfAwake_test = pd.read_csv('Data/testing_AData.txt', header=None, delim_whitespace=True)\n",
    "dfDrowsy_test = pd.read_csv('Data/testing_DData.txt', header=None, delim_whitespace=True)"
   ]
  },
  {
   "cell_type": "code",
   "execution_count": null,
   "metadata": {},
   "outputs": [],
   "source": [
    "# Awake_frames = [dfAwake_test1, dfAwake_test2]\n",
    "# Drowsy_frames = [dfDrowsy_test1, dfDrowsy_test2]\n",
    "# dfAwake_test = pd.concat(Awake_frames)\n",
    "# dfDrowsy_test = pd.concat(Drowsy_frames)"
   ]
  },
  {
   "attachments": {},
   "cell_type": "markdown",
   "metadata": {},
   "source": [
    "### Printing Retrieved Data informations"
   ]
  },
  {
   "cell_type": "code",
   "execution_count": 3,
   "metadata": {},
   "outputs": [
    {
     "name": "stdout",
     "output_type": "stream",
     "text": [
      "(3240000, 15)\n",
      "(3240000, 15)\n",
      "(1620000, 15)\n",
      "(1620000, 15)\n"
     ]
    }
   ],
   "source": [
    "print(dfAwake_train.shape)\n",
    "print(dfDrowsy_train.shape)\n",
    "print(dfAwake_test.shape)\n",
    "print(dfDrowsy_test.shape)"
   ]
  },
  {
   "attachments": {},
   "cell_type": "markdown",
   "metadata": {},
   "source": [
    "### Dropping Not Needed Columns Keeping EEG"
   ]
  },
  {
   "cell_type": "code",
   "execution_count": 4,
   "metadata": {},
   "outputs": [],
   "source": [
    "dfAwake_train = dfAwake_train.drop(dfAwake_train.iloc[:,11:15],axis = 1)\n",
    "dfAwake_train = dfAwake_train.drop(dfAwake_train.iloc[:,0:3],axis = 1)\n",
    "dfDrowsy_train = dfDrowsy_train.drop(dfDrowsy_train.iloc[:,11:15],axis = 1)\n",
    "dfDrowsy_train = dfDrowsy_train.drop(dfDrowsy_train.iloc[:,0:3],axis = 1)\n",
    "dfAwake_test = dfAwake_test.drop(dfAwake_test.iloc[:,11:15],axis = 1)\n",
    "dfAwake_test = dfAwake_test.drop(dfAwake_test.iloc[:,0:3],axis = 1)\n",
    "dfDrowsy_test = dfDrowsy_test.drop(dfDrowsy_test.iloc[:,11:15],axis = 1)\n",
    "dfDrowsy_test = dfDrowsy_test.drop(dfDrowsy_test.iloc[:,0:3],axis = 1)\n",
    "\n",
    "#for poor Data\n",
    "# dfAwake_train = dfAwake_train.drop(dfAwake_train.iloc[:,0:3],axis = 1)"
   ]
  },
  {
   "cell_type": "code",
   "execution_count": 5,
   "metadata": {},
   "outputs": [
    {
     "name": "stdout",
     "output_type": "stream",
     "text": [
      "(3240000, 8)\n",
      "(3240000, 8)\n",
      "(1620000, 8)\n",
      "(1620000, 8)\n"
     ]
    }
   ],
   "source": [
    "# dfAwake_train = dfAwake_train.dropna(axis = 0, how ='any')\n",
    "\n",
    "print(dfAwake_train.shape)\n",
    "print(dfDrowsy_train.shape)\n",
    "print(dfAwake_test.shape)\n",
    "print(dfDrowsy_test.shape)"
   ]
  },
  {
   "attachments": {},
   "cell_type": "markdown",
   "metadata": {},
   "source": [
    "### RESHAPING DATA"
   ]
  },
  {
   "cell_type": "code",
   "execution_count": 6,
   "metadata": {},
   "outputs": [
    {
     "name": "stdout",
     "output_type": "stream",
     "text": [
      "(3600, 900, 8)\n",
      "(3600, 900, 8)\n",
      "(1800, 900, 8)\n",
      "(1800, 900, 8)\n"
     ]
    }
   ],
   "source": [
    "dfAwake_train = dfAwake_train.to_numpy()\n",
    "dfDrowsy_train = dfDrowsy_train.to_numpy()\n",
    "dfAwake_train = dfAwake_train.reshape(3600,900,8)\n",
    "dfDrowsy_train = dfDrowsy_train.reshape(3600,900,8)\n",
    "dfAwake_test = dfAwake_test.to_numpy()\n",
    "dfDrowsy_test = dfDrowsy_test.to_numpy()\n",
    "dfAwake_test = dfAwake_test.reshape(1800,900,8)\n",
    "dfDrowsy_test = dfDrowsy_test.reshape(1800,900,8)\n",
    "print(dfAwake_train.shape)\n",
    "print(dfDrowsy_train.shape)\n",
    "print(dfAwake_test.shape)\n",
    "print(dfDrowsy_test.shape)\n",
    "# print(dfAwake.head)\n",
    "# print(dfDrowsy.head)"
   ]
  },
  {
   "attachments": {},
   "cell_type": "markdown",
   "metadata": {},
   "source": [
    "### CREATING LABELS"
   ]
  },
  {
   "cell_type": "code",
   "execution_count": 7,
   "metadata": {},
   "outputs": [
    {
     "name": "stdout",
     "output_type": "stream",
     "text": [
      "(3600,)\n",
      "(3600,)\n",
      "(1800,)\n",
      "(1800,)\n"
     ]
    }
   ],
   "source": [
    "dfAwake_trainLabels = np.zeros(3600)\n",
    "print(dfAwake_trainLabels.shape)\n",
    "dfDrowsy_trainLabels = np.ones(3600)\n",
    "print(dfDrowsy_trainLabels.shape)\n",
    "dfAwake_testLabels = np.zeros(1800)\n",
    "print(dfAwake_testLabels.shape)\n",
    "dfDrowsy_testLabels = np.ones(1800)\n",
    "print(dfDrowsy_testLabels.shape)"
   ]
  },
  {
   "cell_type": "code",
   "execution_count": 8,
   "metadata": {},
   "outputs": [
    {
     "name": "stdout",
     "output_type": "stream",
     "text": [
      "[0. 0. 0. ... 0. 0. 0.]\n",
      "[1. 1. 1. ... 1. 1. 1.]\n",
      "[0. 0. 0. ... 0. 0. 0.]\n",
      "[1. 1. 1. ... 1. 1. 1.]\n"
     ]
    }
   ],
   "source": [
    "print(dfAwake_trainLabels)\n",
    "print(dfDrowsy_trainLabels)\n",
    "print(dfAwake_testLabels)\n",
    "print(dfDrowsy_testLabels)"
   ]
  },
  {
   "attachments": {},
   "cell_type": "markdown",
   "metadata": {},
   "source": [
    "### Combining Awake Data and Drowsy Data"
   ]
  },
  {
   "cell_type": "code",
   "execution_count": 9,
   "metadata": {},
   "outputs": [
    {
     "name": "stdout",
     "output_type": "stream",
     "text": [
      "(7200, 900, 8)\n",
      "(7200,)\n",
      "[[[1.       2.757393 1.724006 ... 3.274563 1.257075 0.776789]\n",
      "  [1.       0.504561 0.813233 ... 2.520921 0.771536 0.800058]\n",
      "  [1.       0.504561 0.813233 ... 2.520921 0.771536 0.800058]\n",
      "  ...\n",
      "  [1.       0.62141  0.093751 ... 0.136937 0.070096 0.032042]\n",
      "  [1.       0.62141  0.093751 ... 0.136937 0.070096 0.032042]\n",
      "  [1.       0.040544 0.009582 ... 0.049356 0.027714 0.009525]]\n",
      "\n",
      " [[1.       0.504561 0.813233 ... 2.520921 0.771536 0.800058]\n",
      "  [1.       0.504561 0.813233 ... 2.520921 0.771536 0.800058]\n",
      "  [1.       0.504561 0.813233 ... 2.520921 0.771536 0.800058]\n",
      "  ...\n",
      "  [1.       0.62141  0.093751 ... 0.136937 0.070096 0.032042]\n",
      "  [1.       0.040544 0.009582 ... 0.049356 0.027714 0.009525]\n",
      "  [1.       0.040544 0.009582 ... 0.049356 0.027714 0.009525]]\n",
      "\n",
      " [[1.       0.504561 0.813233 ... 2.520921 0.771536 0.800058]\n",
      "  [1.       0.504561 0.813233 ... 2.520921 0.771536 0.800058]\n",
      "  [1.       0.504561 0.813233 ... 2.520921 0.771536 0.800058]\n",
      "  ...\n",
      "  [1.       0.040544 0.009582 ... 0.049356 0.027714 0.009525]\n",
      "  [1.       0.040544 0.009582 ... 0.049356 0.027714 0.009525]\n",
      "  [1.       0.040544 0.009582 ... 0.049356 0.027714 0.009525]]\n",
      "\n",
      " ...\n",
      "\n",
      " [[1.       3.41675  0.580073 ... 0.691625 0.63723  0.542324]\n",
      "  [1.       3.41675  0.580073 ... 0.691625 0.63723  0.542324]\n",
      "  [1.       3.41675  0.580073 ... 0.691625 0.63723  0.542324]\n",
      "  ...\n",
      "  [1.       2.22614  1.133739 ... 1.04539  0.773455 0.664235]\n",
      "  [1.       0.629168 0.326487 ... 0.746906 0.399622 0.161568]\n",
      "  [1.       0.629168 0.326487 ... 0.746906 0.399622 0.161568]]\n",
      "\n",
      " [[1.       3.41675  0.580073 ... 0.691625 0.63723  0.542324]\n",
      "  [1.       3.41675  0.580073 ... 0.691625 0.63723  0.542324]\n",
      "  [1.       0.838372 0.674698 ... 0.843988 0.431563 0.299334]\n",
      "  ...\n",
      "  [1.       0.629168 0.326487 ... 0.746906 0.399622 0.161568]\n",
      "  [1.       0.629168 0.326487 ... 0.746906 0.399622 0.161568]\n",
      "  [1.       0.629168 0.326487 ... 0.746906 0.399622 0.161568]]\n",
      "\n",
      " [[1.       3.41675  0.580073 ... 0.691625 0.63723  0.542324]\n",
      "  [1.       0.838372 0.674698 ... 0.843988 0.431563 0.299334]\n",
      "  [1.       0.838372 0.674698 ... 0.843988 0.431563 0.299334]\n",
      "  ...\n",
      "  [1.       0.629168 0.326487 ... 0.746906 0.399622 0.161568]\n",
      "  [1.       0.629168 0.326487 ... 0.746906 0.399622 0.161568]\n",
      "  [1.       1.283944 0.686829 ... 0.618664 0.507769 0.265631]]]\n",
      "[0. 0. 0. ... 1. 1. 1.]\n"
     ]
    }
   ],
   "source": [
    "dftrain = np.concatenate((dfAwake_train, dfDrowsy_train))\n",
    "dftrainlabels =np.concatenate((dfAwake_trainLabels, dfDrowsy_trainLabels))\n",
    "print(dftrain.shape)\n",
    "print(dftrainlabels.shape)\n",
    "print(dftrain)\n",
    "print(dftrainlabels)\n",
    "\n",
    "# dftrain = dfAwake_train\n",
    "# dftrainlabels = dfAwake_trainLabels\n",
    "# print(dftrain.shape)\n",
    "# print(dftrainlabels.shape)\n",
    "# print(dftrain)\n",
    "# print(dftrainlabels)"
   ]
  },
  {
   "attachments": {},
   "cell_type": "markdown",
   "metadata": {},
   "source": [
    "### SHUFFLING DATA"
   ]
  },
  {
   "cell_type": "code",
   "execution_count": 10,
   "metadata": {},
   "outputs": [
    {
     "name": "stdout",
     "output_type": "stream",
     "text": [
      "[  72 6238  567 ... 1841 5266 2919]\n"
     ]
    }
   ],
   "source": [
    "idx = np.random.permutation(len(dftrainlabels))\n",
    "print(idx)"
   ]
  },
  {
   "cell_type": "code",
   "execution_count": 11,
   "metadata": {},
   "outputs": [],
   "source": [
    "dftrain=dftrain[idx]\n",
    "dftrainlabels=dftrainlabels[idx]"
   ]
  },
  {
   "cell_type": "code",
   "execution_count": 12,
   "metadata": {},
   "outputs": [
    {
     "name": "stdout",
     "output_type": "stream",
     "text": [
      "(7200, 900, 8)\n",
      "(7200,)\n",
      "[[[1.0000000e+00 3.4041000e-01 1.3586000e-01 ... 1.2870340e+00\n",
      "   6.6342800e-01 4.1014000e-01]\n",
      "  [1.0000000e+00 3.4041000e-01 1.3586000e-01 ... 1.2870340e+00\n",
      "   6.6342800e-01 4.1014000e-01]\n",
      "  [1.0000000e+00 3.4041000e-01 1.3586000e-01 ... 1.2870340e+00\n",
      "   6.6342800e-01 4.1014000e-01]\n",
      "  ...\n",
      "  [1.0000000e+00 2.4533660e+00 6.7412200e-01 ... 2.0693360e+00\n",
      "   1.0782820e+00 1.6306200e+00]\n",
      "  [1.0000000e+00 2.4533660e+00 6.7412200e-01 ... 2.0693360e+00\n",
      "   1.0782820e+00 1.6306200e+00]\n",
      "  [1.0000000e+00 1.6002470e+00 5.0553900e-01 ... 1.0907400e+00\n",
      "   2.5836000e-01 4.1309800e-01]]\n",
      "\n",
      " [[1.0000000e+00 5.2615200e-01 2.9175100e-01 ... 1.2260510e+00\n",
      "   5.0128500e-01 6.1873700e-01]\n",
      "  [1.0000000e+00 5.2615200e-01 2.9175100e-01 ... 1.2260510e+00\n",
      "   5.0128500e-01 6.1873700e-01]\n",
      "  [1.0000000e+00 5.2615200e-01 2.9175100e-01 ... 1.2260510e+00\n",
      "   5.0128500e-01 6.1873700e-01]\n",
      "  ...\n",
      "  [1.0000000e+00 9.3141000e-02 3.4029000e-02 ... 4.5391000e-02\n",
      "   4.3551000e-02 3.8262000e-02]\n",
      "  [1.0000000e+00 9.3141000e-02 3.4029000e-02 ... 4.5391000e-02\n",
      "   4.3551000e-02 3.8262000e-02]\n",
      "  [1.0000000e+00 4.0516000e-01 9.4420000e-03 ... 1.1427000e-01\n",
      "   1.3243800e-01 3.9325000e-02]]\n",
      "\n",
      " [[1.0000000e+00 1.1195700e-01 9.8510000e-03 ... 5.5707000e-02\n",
      "   1.8387000e-02 2.3223000e-02]\n",
      "  [1.0000000e+00 5.8532000e-02 1.0106400e-01 ... 5.0953000e-02\n",
      "   2.9659000e-02 2.2858000e-02]\n",
      "  [1.0000000e+00 5.8532000e-02 1.0106400e-01 ... 5.0953000e-02\n",
      "   2.9659000e-02 2.2858000e-02]\n",
      "  ...\n",
      "  [1.0000000e+00 8.7663100e-01 3.3428200e-01 ... 1.5104864e+01\n",
      "   2.8059310e+00 2.4336890e+00]\n",
      "  [1.0000000e+00 8.7663100e-01 3.3428200e-01 ... 1.5104864e+01\n",
      "   2.8059310e+00 2.4336890e+00]\n",
      "  [1.0000000e+00 8.7663100e-01 3.3428200e-01 ... 1.5104864e+01\n",
      "   2.8059310e+00 2.4336890e+00]]\n",
      "\n",
      " ...\n",
      "\n",
      " [[1.0000000e+00 3.9894800e-01 2.1798000e-02 ... 9.4971000e-02\n",
      "   2.7541000e-02 2.2420000e-02]\n",
      "  [1.0000000e+00 7.4911000e-02 5.5757000e-02 ... 2.9358000e-02\n",
      "   2.7776000e-02 1.3188000e-02]\n",
      "  [1.0000000e+00 7.4911000e-02 5.5757000e-02 ... 2.9358000e-02\n",
      "   2.7776000e-02 1.3188000e-02]\n",
      "  ...\n",
      "  [1.0000000e+00 2.1009099e+01 5.8739170e+00 ... 4.1282500e+00\n",
      "   6.1282500e+00 2.9003470e+00]\n",
      "  [1.0000000e+00 2.1009099e+01 5.8739170e+00 ... 4.1282500e+00\n",
      "   6.1282500e+00 2.9003470e+00]\n",
      "  [1.0000000e+00 2.4324780e+00 3.4799110e+00 ... 9.6250000e+00\n",
      "   8.7393970e+00 1.5703130e+00]]\n",
      "\n",
      " [[1.0000000e+00 2.4803430e+00 1.1861990e+00 ... 5.4872700e-01\n",
      "   4.5521300e-01 4.8357800e-01]\n",
      "  [1.0000000e+00 2.4803430e+00 1.1861990e+00 ... 5.4872700e-01\n",
      "   4.5521300e-01 4.8357800e-01]\n",
      "  [1.0000000e+00 3.3782030e+00 1.0828230e+00 ... 2.9210780e+00\n",
      "   1.7777780e+00 6.0955900e-01]\n",
      "  ...\n",
      "  [1.0000000e+00 1.6420320e+00 1.2119830e+00 ... 2.1213500e+00\n",
      "   3.5751220e+00 1.2843670e+00]\n",
      "  [1.0000000e+00 1.6420320e+00 1.2119830e+00 ... 2.1213500e+00\n",
      "   3.5751220e+00 1.2843670e+00]\n",
      "  [1.0000000e+00 1.6420320e+00 1.2119830e+00 ... 2.1213500e+00\n",
      "   3.5751220e+00 1.2843670e+00]]\n",
      "\n",
      " [[1.0000000e+00 4.6380700e-01 3.8923800e-01 ... 3.3918000e-02\n",
      "   1.6795000e-02 1.7775000e-02]\n",
      "  [1.0000000e+00 4.6380700e-01 3.8923800e-01 ... 3.3918000e-02\n",
      "   1.6795000e-02 1.7775000e-02]\n",
      "  [1.0000000e+00 5.1811400e-01 8.3690000e-02 ... 2.9370000e-02\n",
      "   1.5384000e-02 7.6960000e-03]\n",
      "  ...\n",
      "  [1.0000000e+00 5.5339000e-02 2.8220000e-02 ... 1.0984000e-02\n",
      "   5.4100000e-03 6.6740000e-03]\n",
      "  [1.0000000e+00 5.5339000e-02 2.8220000e-02 ... 1.0984000e-02\n",
      "   5.4100000e-03 6.6740000e-03]\n",
      "  [1.0000000e+00 5.5339000e-02 2.8220000e-02 ... 1.0984000e-02\n",
      "   5.4100000e-03 6.6740000e-03]]]\n",
      "[0. 1. 0. ... 0. 1. 0.]\n"
     ]
    }
   ],
   "source": [
    "print(dftrain.shape)\n",
    "print(dftrainlabels.shape)\n",
    "print(dftrain)\n",
    "print(dftrainlabels)"
   ]
  },
  {
   "cell_type": "code",
   "execution_count": 13,
   "metadata": {},
   "outputs": [
    {
     "name": "stdout",
     "output_type": "stream",
     "text": [
      "(3600, 900, 8)\n",
      "(3600,)\n",
      "[[[1.       0.059297 0.020334 ... 0.034427 0.027672 0.010734]\n",
      "  [1.       0.288129 0.058108 ... 0.162441 0.08683  0.028186]\n",
      "  [1.       0.288129 0.058108 ... 0.162441 0.08683  0.028186]\n",
      "  ...\n",
      "  [1.       0.066271 0.031542 ... 0.065743 0.037426 0.029351]\n",
      "  [1.       0.266998 0.129318 ... 0.38657  0.157538 0.060398]\n",
      "  [1.       0.266998 0.129318 ... 0.38657  0.157538 0.060398]]\n",
      "\n",
      " [[1.       0.288129 0.058108 ... 0.162441 0.08683  0.028186]\n",
      "  [1.       0.288129 0.058108 ... 0.162441 0.08683  0.028186]\n",
      "  [1.       0.288129 0.058108 ... 0.162441 0.08683  0.028186]\n",
      "  ...\n",
      "  [1.       0.266998 0.129318 ... 0.38657  0.157538 0.060398]\n",
      "  [1.       0.266998 0.129318 ... 0.38657  0.157538 0.060398]\n",
      "  [1.       0.266998 0.129318 ... 0.38657  0.157538 0.060398]]\n",
      "\n",
      " [[1.       0.288129 0.058108 ... 0.162441 0.08683  0.028186]\n",
      "  [1.       0.288129 0.058108 ... 0.162441 0.08683  0.028186]\n",
      "  [1.       0.288129 0.058108 ... 0.162441 0.08683  0.028186]\n",
      "  ...\n",
      "  [1.       0.266998 0.129318 ... 0.38657  0.157538 0.060398]\n",
      "  [1.       0.266998 0.129318 ... 0.38657  0.157538 0.060398]\n",
      "  [1.       0.266998 0.129318 ... 0.38657  0.157538 0.060398]]\n",
      "\n",
      " ...\n",
      "\n",
      " [[1.       2.605624 0.15739  ... 0.596198 0.337075 0.20237 ]\n",
      "  [1.       1.59252  4.185845 ... 2.112563 0.683071 0.821671]\n",
      "  [1.       1.59252  4.185845 ... 2.112563 0.683071 0.821671]\n",
      "  ...\n",
      "  [1.       0.978712 0.207823 ... 0.464077 0.466472 0.340607]\n",
      "  [1.       0.978712 0.207823 ... 0.464077 0.466472 0.340607]\n",
      "  [1.       0.193527 0.410979 ... 0.499722 0.374073 0.171458]]\n",
      "\n",
      " [[1.       1.59252  4.185845 ... 2.112563 0.683071 0.821671]\n",
      "  [1.       1.59252  4.185845 ... 2.112563 0.683071 0.821671]\n",
      "  [1.       1.59252  4.185845 ... 2.112563 0.683071 0.821671]\n",
      "  ...\n",
      "  [1.       0.978712 0.207823 ... 0.464077 0.466472 0.340607]\n",
      "  [1.       0.193527 0.410979 ... 0.499722 0.374073 0.171458]\n",
      "  [1.       0.193527 0.410979 ... 0.499722 0.374073 0.171458]]\n",
      "\n",
      " [[1.       1.59252  4.185845 ... 2.112563 0.683071 0.821671]\n",
      "  [1.       1.59252  4.185845 ... 2.112563 0.683071 0.821671]\n",
      "  [1.       1.198376 2.909016 ... 4.854491 2.695061 1.489228]\n",
      "  ...\n",
      "  [1.       0.193527 0.410979 ... 0.499722 0.374073 0.171458]\n",
      "  [1.       0.193527 0.410979 ... 0.499722 0.374073 0.171458]\n",
      "  [1.       0.193527 0.410979 ... 0.499722 0.374073 0.171458]]]\n",
      "[0. 0. 0. ... 1. 1. 1.]\n"
     ]
    }
   ],
   "source": [
    "dftest = np.concatenate((dfAwake_test, dfDrowsy_test))\n",
    "dftestlabels =np.concatenate((dfAwake_testLabels, dfDrowsy_testLabels))\n",
    "print(dftest.shape)\n",
    "print(dftestlabels.shape)\n",
    "print(dftest)\n",
    "print(dftestlabels)"
   ]
  },
  {
   "cell_type": "code",
   "execution_count": 14,
   "metadata": {},
   "outputs": [
    {
     "name": "stdout",
     "output_type": "stream",
     "text": [
      "(3600, 900, 8)\n",
      "(3600,)\n",
      "(7200, 900, 8)\n",
      "(7200,)\n"
     ]
    }
   ],
   "source": [
    "print(dftest.shape)\n",
    "print(dftestlabels.shape)\n",
    "print(dftrain.shape)\n",
    "print(dftrainlabels.shape)"
   ]
  },
  {
   "attachments": {},
   "cell_type": "markdown",
   "metadata": {},
   "source": [
    "### Set input and output dimensions"
   ]
  },
  {
   "cell_type": "code",
   "execution_count": 15,
   "metadata": {},
   "outputs": [
    {
     "name": "stdout",
     "output_type": "stream",
     "text": [
      "dftrain shape: (7200, 900, 8)\n",
      "input_shape: 7200\n"
     ]
    }
   ],
   "source": [
    "input_shape = 900*8\n",
    "num_classes = 2\n",
    "# dftrain = dftrain.reshape(dftrain.shape[0],input_shape)\n",
    "print('dftrain shape:', dftrain.shape)\n",
    "print('input_shape:', input_shape)"
   ]
  },
  {
   "cell_type": "code",
   "execution_count": 16,
   "metadata": {},
   "outputs": [],
   "source": [
    "dftrain = dftrain.astype('float32')\n",
    "dftrainlabels = dftrainlabels.astype('float32')"
   ]
  },
  {
   "cell_type": "code",
   "execution_count": 17,
   "metadata": {},
   "outputs": [
    {
     "name": "stdout",
     "output_type": "stream",
     "text": [
      "New dfttrainlabels shape:  [[1. 0.]\n",
      " [0. 1.]\n",
      " [1. 0.]\n",
      " ...\n",
      " [1. 0.]\n",
      " [0. 1.]\n",
      " [1. 0.]]\n"
     ]
    }
   ],
   "source": [
    "dftrainlabels_hot = np_utils.to_categorical(dftrainlabels,num_classes)\n",
    "print('New dfttrainlabels shape: ', dftrainlabels_hot)"
   ]
  },
  {
   "cell_type": "code",
   "execution_count": 18,
   "metadata": {},
   "outputs": [
    {
     "name": "stdout",
     "output_type": "stream",
     "text": [
      "New dfttrainlabels shape:  (7200, 2)\n",
      "[0. 1. 0. ... 0. 1. 0.]\n"
     ]
    }
   ],
   "source": [
    "print('New dfttrainlabels shape: ', dftrainlabels_hot.shape)\n",
    "print(dftrainlabels)"
   ]
  },
  {
   "attachments": {},
   "cell_type": "markdown",
   "metadata": {},
   "source": [
    "#### Evaluating Training Data"
   ]
  },
  {
   "cell_type": "code",
   "execution_count": 19,
   "metadata": {},
   "outputs": [
    {
     "name": "stdout",
     "output_type": "stream",
     "text": [
      "225/225 [==============================] - 1s 3ms/step - loss: 0.1651 - sparse_categorical_accuracy: 0.9860\n",
      "Test accuracy 0.9859722256660461\n",
      "Test loss 0.165070578455925\n",
      "225/225 [==============================] - 1s 3ms/step\n",
      "              precision    recall  f1-score   support\n",
      "\n",
      "         0.0       1.00      0.97      0.99      3600\n",
      "         1.0       0.97      1.00      0.99      3600\n",
      "\n",
      "    accuracy                           0.99      7200\n",
      "   macro avg       0.99      0.99      0.99      7200\n",
      "weighted avg       0.99      0.99      0.99      7200\n",
      "\n"
     ]
    }
   ],
   "source": [
    "model = keras.models.load_model(\"best_model(eegv2).h5\")\n",
    "\n",
    "test_loss, test_acc = model.evaluate(dftrain, dftrainlabels,verbose=1)\n",
    "\n",
    "print(\"Test accuracy\", test_acc)\n",
    "print(\"Test loss\", test_loss)\n",
    "\n",
    "# Print confusion matrix for training data\n",
    "y_pred_train = model.predict(dftrain)\n",
    "# Take the class with the highest probability from the train predictions\n",
    "max_y_pred_train = np.argmax(y_pred_train, axis=1)\n",
    "print(classification_report(dftrainlabels, max_y_pred_train))"
   ]
  },
  {
   "cell_type": "code",
   "execution_count": null,
   "metadata": {},
   "outputs": [],
   "source": [
    "print(dftrain)"
   ]
  },
  {
   "attachments": {},
   "cell_type": "markdown",
   "metadata": {},
   "source": [
    "### Building the MODEL"
   ]
  },
  {
   "cell_type": "code",
   "execution_count": null,
   "metadata": {},
   "outputs": [],
   "source": [
    "# model_m = Sequential()\n",
    "# # Remark: since coreml cannot accept vector shapes of complex shape like\n",
    "# # [80,3] this workaround is used in order to reshape the vector internally\n",
    "# # prior feeding it into the network\n",
    "# model_m.add(Reshape((900, 1), input_shape=(input_shape,)))\n",
    "# model_m.add(Dense(100, activation='relu'))\n",
    "# # model_m.add(BatchNormalization()) # V2 addition\n",
    "# model_m.add(Dense(100, activation='relu'))\n",
    "# # model_m.add(BatchNormalization()) # V2 addition\n",
    "# model_m.add(Dense(100, activation='relu'))\n",
    "# # model_m.add(BatchNormalization()) # V2 addition \n",
    "# model_m.add(Flatten())\n",
    "# model_m.add(Dense(num_classes, activation='softmax'))\n",
    "# print(model_m.summary())"
   ]
  },
  {
   "cell_type": "code",
   "execution_count": null,
   "metadata": {},
   "outputs": [],
   "source": [
    "def make_model(input_shape):\n",
    "    input_layer = keras.layers.Input(input_shape)\n",
    "\n",
    "    conv1 = keras.layers.Conv1D(filters=64, kernel_size=3, padding=\"same\")(input_layer)\n",
    "    conv1 = keras.layers.BatchNormalization()(conv1)\n",
    "    conv1 = keras.layers.ReLU()(conv1)\n",
    "\n",
    "    # conv2 = keras.layers.Conv1D(filters=64, kernel_size=3, padding=\"same\")(conv1)\n",
    "    # conv2 = keras.layers.BatchNormalization()(conv2)\n",
    "    # conv2 = keras.layers.ReLU()(conv2)\n",
    "\n",
    "    # conv3 = keras.layers.Conv1D(filters=64, kernel_size=3, padding=\"same\")(conv2)\n",
    "    # conv3 = keras.layers.BatchNormalization()(conv3)\n",
    "    # conv3 = keras.layers.ReLU()(conv3)\n",
    "\n",
    "    gap = keras.layers.GlobalAveragePooling1D()(conv1)\n",
    "\n",
    "    output_layer = keras.layers.Dense(1, activation=\"sigmoid\")(gap)\n",
    "\n",
    "    return keras.models.Model(inputs=input_layer, outputs=output_layer)\n",
    "\n",
    "\n",
    "model = make_model(input_shape=dftrain.shape[1:])\n",
    "keras.utils.plot_model(model, show_shapes=True)"
   ]
  },
  {
   "attachments": {},
   "cell_type": "markdown",
   "metadata": {},
   "source": [
    "### FITTING Deep neural network Model in KERAS"
   ]
  },
  {
   "cell_type": "code",
   "execution_count": null,
   "metadata": {},
   "outputs": [],
   "source": [
    "# callbacks_list = [\n",
    "#     keras.callbacks.ModelCheckpoint(\n",
    "#         filepath='best_model.{epoch:02d}-{val_loss:.2f}.h5',\n",
    "#         monitor='val_loss', save_best_only=True),\n",
    "#     keras.callbacks.EarlyStopping(monitor='accuracy', patience=1)\n",
    "# ]\n",
    "\n",
    "\n",
    "\n",
    "# model_m.compile(loss='categorical_crossentropy',\n",
    "#                 optimizer=Adam(learning_rate=0.001), metrics=['accuracy'])\n",
    "\n",
    "# # Hyper-parameters\n",
    "# BATCH_SIZE = 400 # V3 changed to 2160\n",
    "# EPOCHS = 50\n",
    "\n",
    "\n",
    "# # Enable validation to use ModelCheckpoint and EarlyStopping callbacks.\n",
    "# # v1\n",
    "# history = model_m.fit(dftrain,\n",
    "#                       dftrainlabels_hot,\n",
    "#                       batch_size=BATCH_SIZE,\n",
    "#                       epochs=EPOCHS,\n",
    "#                       callbacks=callbacks_list,\n",
    "#                       validation_split=0.2,\n",
    "#                       verbose=1)\n",
    "\n",
    "# # # v1 completing all epochs\n",
    "# # history = model_m.fit(dftrain,\n",
    "# #                       dftrainlabels_hot,\n",
    "# #                       batch_size=BATCH_SIZE,\n",
    "# #                       epochs=EPOCHS,\n",
    "# #                       validation_split=0.2,\n",
    "# #                       verbose=1)\n",
    "\n",
    "# # v3\n",
    "# # history = model_m.fit(dftrain,\n",
    "# #                       dftrainlabels_hot,\n",
    "# #                       batch_size=BATCH_SIZE,\n",
    "# #                       epochs=EPOCHS,\n",
    "# #                       shuffle=True,\n",
    "# #                       validation_split=0.2,\n",
    "# #                       verbose=1)\n"
   ]
  },
  {
   "cell_type": "code",
   "execution_count": null,
   "metadata": {},
   "outputs": [],
   "source": [
    "epochs = 30\n",
    "batch_size = 250\n",
    "\n",
    "callbacks = [\n",
    "    keras.callbacks.ModelCheckpoint(\n",
    "        \"best_model(eeg).h5\", save_best_only=True, monitor=\"val_loss\"\n",
    "    ),\n",
    "    keras.callbacks.ReduceLROnPlateau(\n",
    "        monitor=\"val_loss\", factor=0.5, patience=5, min_lr=0.0001\n",
    "    ),\n",
    "    keras.callbacks.EarlyStopping(monitor=\"val_loss\", patience=12, verbose=1),\n",
    "]\n",
    "# model.compile(\n",
    "#     optimizer=\"adam\",\n",
    "#     loss=\"sparse_categorical_crossentropy\",\n",
    "#     metrics=[\"sparse_categorical_accuracy\"],\n",
    "# )\n",
    "model.compile(\n",
    "    optimizer=\"adam\",\n",
    "    loss=\"binary_crossentropy\",\n",
    "    metrics=[\"accuracy\"],\n",
    ")\n",
    "history = model.fit(\n",
    "    dftrain,\n",
    "    dftrainlabels,\n",
    "    batch_size=batch_size,\n",
    "    epochs=epochs,\n",
    "    callbacks=callbacks,\n",
    "    validation_split=0.2,\n",
    "    verbose=1,\n",
    ")"
   ]
  },
  {
   "cell_type": "code",
   "execution_count": null,
   "metadata": {},
   "outputs": [],
   "source": [
    "plt.figure(figsize=(6, 4))\n",
    "plt.plot(history.history['accuracy'], 'r', label='Accuracy of training data')\n",
    "plt.plot(history.history['val_accuracy'], 'b', label='Accuracy of validation data')\n",
    "plt.plot(history.history['loss'], 'r--', label='Loss of training data')\n",
    "plt.plot(history.history['val_loss'], 'b--', label='Loss of validation data')\n",
    "plt.title('Model Accuracy and Loss')\n",
    "plt.ylabel('Accuracy and Loss')\n",
    "plt.xlabel('Training Epoch')\n",
    "plt.ylim(0)\n",
    "plt.legend()\n",
    "plt.show()\n",
    "\n",
    "# metric = \"sparse_categorical_accuracy\"\n",
    "# plt.figure()\n",
    "# plt.plot(history.history[metric])\n",
    "# plt.plot(history.history[\"val_\" + metric])\n",
    "# plt.plot(history.history['loss'], 'r--', label='Loss of training data')\n",
    "# plt.plot(history.history['val_loss'], 'b--', label='Loss of validation data')\n",
    "# plt.title(\"model \" + metric)\n",
    "# plt.ylabel(metric, fontsize=\"large\")\n",
    "# plt.xlabel(\"epoch\", fontsize=\"large\")\n",
    "# plt.legend([\"train\", \"val\"], loc=\"best\")\n",
    "# plt.show()\n",
    "# plt.close()\n",
    "\n",
    "# Print confusion matrix for training data\n",
    "y_pred_train = model.predict(dftrain)\n",
    "# Take the class with the highest probability from the train predictions\n",
    "max_y_pred_train = np.rint(y_pred_train)\n",
    "# max_y_pred_train = np.argmax(y_pred_train, axis=1)\n",
    "print(classification_report(dftrainlabels, max_y_pred_train))"
   ]
  },
  {
   "attachments": {},
   "cell_type": "markdown",
   "metadata": {},
   "source": [
    "### Checking against Testing Data"
   ]
  },
  {
   "cell_type": "code",
   "execution_count": 16,
   "metadata": {},
   "outputs": [],
   "source": [
    "\n",
    "# Set input_shape / reshape for Keras\n",
    "# dftest = dftest.reshape(dftest.shape[0], input_shape)\n",
    "\n",
    "dftest = dftest.astype('float32')\n",
    "dftestlabels = dftestlabels.astype('float32')\n",
    "\n",
    "dftestlabels_hot = np_utils.to_categorical(dftestlabels, num_classes)\n"
   ]
  },
  {
   "cell_type": "code",
   "execution_count": 17,
   "metadata": {},
   "outputs": [
    {
     "name": "stdout",
     "output_type": "stream",
     "text": [
      "New dfttrainlabels shape:  [[1. 0.]\n",
      " [1. 0.]\n",
      " [1. 0.]\n",
      " ...\n",
      " [0. 1.]\n",
      " [0. 1.]\n",
      " [0. 1.]]\n",
      "New dfttrainlabels shape:  (3600,)\n",
      "New dfttrainlabels shape:  [0. 0. 0. ... 1. 1. 1.]\n"
     ]
    }
   ],
   "source": [
    "print('New dfttrainlabels shape: ', dftestlabels_hot)\n",
    "print('New dfttrainlabels shape: ', dftestlabels.shape)\n",
    "print('New dfttrainlabels shape: ', dftestlabels)"
   ]
  },
  {
   "cell_type": "code",
   "execution_count": null,
   "metadata": {},
   "outputs": [],
   "source": [
    "# score = model_m.evaluate(dftest, dftestlabels_hot, verbose=1)\n",
    "\n",
    "# print('\\nAccuracy on test data: %0.2f' % score[1])\n",
    "# print('\\nLoss on test data: %0.2f' % score[0])"
   ]
  },
  {
   "cell_type": "code",
   "execution_count": 18,
   "metadata": {},
   "outputs": [],
   "source": [
    "LABELS = ['Awake','Drowsy']"
   ]
  },
  {
   "cell_type": "code",
   "execution_count": null,
   "metadata": {},
   "outputs": [],
   "source": [
    "# metric = \"sparse_categorical_accuracy\"\n",
    "# plt.figure()\n",
    "# plt.plot(history.history[metric])\n",
    "# plt.plot(history.history[\"val_\" + metric])\n",
    "# plt.title(\"model \" + metric)\n",
    "# plt.ylabel(metric, fontsize=\"large\")\n",
    "# plt.xlabel(\"epoch\", fontsize=\"large\")\n",
    "# plt.legend([\"train\", \"val\"], loc=\"best\")\n",
    "# plt.show()\n",
    "# plt.close()"
   ]
  },
  {
   "cell_type": "code",
   "execution_count": 21,
   "metadata": {},
   "outputs": [
    {
     "name": "stdout",
     "output_type": "stream",
     "text": [
      "113/113 [==============================] - 0s 3ms/step - loss: 0.3322 - sparse_categorical_accuracy: 0.9167\n",
      "Test accuracy 0.9166666865348816\n",
      "Test loss 0.3322135806083679\n"
     ]
    }
   ],
   "source": [
    "model = keras.models.load_model(\"best_model(eegv2).h5\")\n",
    "\n",
    "test_loss, test_acc = model.evaluate(dftest, dftestlabels,verbose=1)\n",
    "\n",
    "print(\"Test accuracy\", test_acc)\n",
    "print(\"Test loss\", test_loss)"
   ]
  },
  {
   "cell_type": "code",
   "execution_count": null,
   "metadata": {},
   "outputs": [],
   "source": [
    "# # Print confusion matrix for training data\n",
    "# y_pred_train = model.predict(dftest)\n",
    "# # Take the class with the highest probability from the train predictions\n",
    "# max_y_pred_train = np.argmax(y_pred_train, axis=1)\n",
    "# print(classification_report(dftestlabels, max_y_pred_train))"
   ]
  },
  {
   "cell_type": "code",
   "execution_count": 23,
   "metadata": {},
   "outputs": [
    {
     "name": "stdout",
     "output_type": "stream",
     "text": [
      "113/113 [==============================] - 0s 3ms/step\n"
     ]
    },
    {
     "data": {
      "image/png": "[encoded data removed]",
      "text/plain": [
       "<Figure size 600x400 with 2 Axes>"
      ]
     },
     "metadata": {},
     "output_type": "display_data"
    },
    {
     "name": "stdout",
     "output_type": "stream",
     "text": [
      "              precision    recall  f1-score   support\n",
      "\n",
      "           0       1.00      0.83      0.91      1800\n",
      "           1       0.86      1.00      0.92      1800\n",
      "\n",
      "    accuracy                           0.92      3600\n",
      "   macro avg       0.93      0.92      0.92      3600\n",
      "weighted avg       0.93      0.92      0.92      3600\n",
      "\n"
     ]
    }
   ],
   "source": [
    "def show_confusion_matrix(validations, predictions):\n",
    "\n",
    "    matrix = metrics.confusion_matrix(validations, predictions)\n",
    "    plt.figure(figsize=(6, 4))\n",
    "    sns.heatmap(matrix,\n",
    "                cmap='coolwarm',\n",
    "                linecolor='white',\n",
    "                linewidths=1,\n",
    "                xticklabels=LABELS,\n",
    "                yticklabels=LABELS,\n",
    "                annot=True,\n",
    "                fmt='d')\n",
    "    plt.title('Confusion Matrix')\n",
    "    plt.ylabel('True Label')\n",
    "    plt.xlabel('Predicted Label')\n",
    "    plt.show()\n",
    "\n",
    "y_pred_test = model.predict(dftest)\n",
    "# Take the class with the highest probability from the test predictions\n",
    "max_y_pred_test = np.argmax(y_pred_test, axis=1)\n",
    "# max_y_pred_test = np.rint(y_pred_test)\n",
    "max_y_test = np.argmax(dftestlabels_hot, axis=1)\n",
    "\n",
    "show_confusion_matrix(max_y_test, max_y_pred_test)\n",
    "\n",
    "print(classification_report(max_y_test, max_y_pred_test))"
   ]
  },
  {
   "attachments": {},
   "cell_type": "markdown",
   "metadata": {},
   "source": [
    "### ROC and AUC"
   ]
  },
  {
   "cell_type": "code",
   "execution_count": 37,
   "metadata": {},
   "outputs": [
    {
     "name": "stdout",
     "output_type": "stream",
     "text": [
      "113/113 [==============================] - 0s 3ms/step\n",
      "[[0.8011835  0.1988164 ]\n",
      " [0.80175424 0.19824573]\n",
      " [0.8021337  0.19786635]\n",
      " ...\n",
      " [0.3273265  0.6726735 ]\n",
      " [0.32502058 0.67497945]\n",
      " [0.3143673  0.6856327 ]]\n"
     ]
    }
   ],
   "source": [
    "from sklearn.metrics import roc_curve\n",
    "from sklearn.metrics import roc_auc_score\n",
    "y_scores = model.predict(dftest)\n",
    "print(y_scores)"
   ]
  },
  {
   "cell_type": "code",
   "execution_count": 64,
   "metadata": {},
   "outputs": [
    {
     "name": "stdout",
     "output_type": "stream",
     "text": [
      "[1. 1. 1. ... 0. 0. 0.]\n",
      "[0.8011835  0.80175424 0.8021337  ... 0.3273265  0.32502058 0.3143673 ]\n"
     ]
    }
   ],
   "source": [
    "print(dftestlabels_hot[:,0])\n",
    "print(y_scores[:,0])"
   ]
  },
  {
   "cell_type": "code",
   "execution_count": 68,
   "metadata": {},
   "outputs": [
    {
     "name": "stderr",
     "output_type": "stream",
     "text": [
      "C:\\Users\\admin\\AppData\\Local\\Temp\\ipykernel_17540\\2496615365.py:29: DeprecationWarning: scipy.interp is deprecated and will be removed in SciPy 2.0.0, use numpy.interp instead\n",
      "  mean_tpr += interp(all_fpr, fpr[i], tpr[i])\n"
     ]
    },
    {
     "data": {
      "image/png": "[encoded data removed]",
      "text/plain": [
       "<Figure size 640x480 with 1 Axes>"
      ]
     },
     "metadata": {},
     "output_type": "display_data"
    },
    {
     "data": {
      "image/png": "[encoded data removed]",
      "text/plain": [
       "<Figure size 640x480 with 1 Axes>"
      ]
     },
     "metadata": {},
     "output_type": "display_data"
    }
   ],
   "source": [
    "import numpy as np\n",
    "from scipy import interp\n",
    "import matplotlib.pyplot as plt\n",
    "from itertools import cycle\n",
    "from sklearn.metrics import roc_curve, auc\n",
    "\n",
    "from sklearn.metrics import roc_curve\n",
    "from sklearn.metrics import roc_auc_score\n",
    "y_scores = model.predict(dftest)\n",
    "print(y_scores)\n",
    "\n",
    "lw = 2\n",
    "\n",
    "# Compute ROC curve and ROC area for each class\n",
    "fpr = dict()\n",
    "tpr = dict()\n",
    "roc_auc = dict()\n",
    "for i in range(2):\n",
    "    fpr[i], tpr[i], _ = roc_curve(dftestlabels_hot[:, i], y_scores[:, i])\n",
    "    roc_auc[i] = auc(fpr[i], tpr[i])\n",
    "\n",
    "# Compute micro-average ROC curve and ROC area\n",
    "fpr[\"micro\"], tpr[\"micro\"], _ = roc_curve(dftestlabels_hot.ravel(), y_scores.ravel())\n",
    "roc_auc[\"micro\"] = auc(fpr[\"micro\"], tpr[\"micro\"])\n",
    "\n",
    "# Compute macro-average ROC curve and ROC area\n",
    "\n",
    "# First aggregate all false positive rates\n",
    "all_fpr = np.unique(np.concatenate([fpr[i] for i in range(2)]))\n",
    "\n",
    "# Then interpolate all ROC curves at this points\n",
    "mean_tpr = np.zeros_like(all_fpr)\n",
    "for i in range(2):\n",
    "    mean_tpr += interp(all_fpr, fpr[i], tpr[i])\n",
    "\n",
    "# Finally average it and compute AUC\n",
    "mean_tpr /= 2\n",
    "\n",
    "fpr[\"macro\"] = all_fpr\n",
    "tpr[\"macro\"] = mean_tpr\n",
    "roc_auc[\"macro\"] = auc(fpr[\"macro\"], tpr[\"macro\"])\n",
    "\n",
    "# Plot all ROC curves\n",
    "plt.figure(1)\n",
    "plt.plot(fpr[\"micro\"], tpr[\"micro\"],\n",
    "         label='micro-average ROC curve (area = {0:0.2f})'\n",
    "               ''.format(roc_auc[\"micro\"]),\n",
    "         color='deeppink', linestyle=':', linewidth=4)\n",
    "\n",
    "plt.plot(fpr[\"macro\"], tpr[\"macro\"],\n",
    "         label='macro-average ROC curve (area = {0:0.2f})'\n",
    "               ''.format(roc_auc[\"macro\"]),\n",
    "         color='navy', linestyle=':', linewidth=4)\n",
    "\n",
    "colors = cycle(['aqua', 'darkorange', 'cornflowerblue'])\n",
    "for i, color in zip(range(2), colors):\n",
    "    plt.plot(fpr[i], tpr[i], color=color, lw=lw,\n",
    "             label='ROC curve of class {0} (area = {1:0.2f})'\n",
    "             ''.format(i, roc_auc[i]))\n",
    "\n",
    "plt.plot([0, 1], [0, 1], 'k--', lw=lw)\n",
    "plt.xlim([0.0, 1.0])\n",
    "plt.ylim([0.0, 1.05])\n",
    "plt.xlabel('False Positive Rate')\n",
    "plt.ylabel('True Positive Rate')\n",
    "plt.title('Some extension of Receiver operating characteristic to multi-class')\n",
    "plt.legend(loc=\"lower right\")\n",
    "plt.show()\n",
    "\n",
    "\n",
    "# Zoom in view of the upper left corner.\n",
    "plt.figure(2)\n",
    "plt.xlim(0, 0.2)\n",
    "plt.ylim(0.8, 1)\n",
    "plt.plot(fpr[\"micro\"], tpr[\"micro\"],\n",
    "         label='micro-average ROC curve (area = {0:0.2f})'\n",
    "               ''.format(roc_auc[\"micro\"]),\n",
    "         color='deeppink', linestyle=':', linewidth=4)\n",
    "\n",
    "plt.plot(fpr[\"macro\"], tpr[\"macro\"],\n",
    "         label='macro-average ROC curve (area = {0:0.2f})'\n",
    "               ''.format(roc_auc[\"macro\"]),\n",
    "         color='navy', linestyle=':', linewidth=4)\n",
    "\n",
    "colors = cycle(['aqua', 'darkorange', 'cornflowerblue'])\n",
    "for i, color in zip(range(2), colors):\n",
    "    plt.plot(fpr[i], tpr[i], color=color, lw=lw,\n",
    "             label='ROC curve of class {0} (area = {1:0.2f})'\n",
    "             ''.format(i, roc_auc[i]))\n",
    "\n",
    "plt.plot([0, 1], [0, 1], 'k--', lw=lw)\n",
    "plt.xlabel('False Positive Rate')\n",
    "plt.ylabel('True Positive Rate')\n",
    "plt.title('Some extension of Receiver operating characteristic to multi-class')\n",
    "plt.legend(loc=\"lower right\")\n",
    "plt.show()"
   ]
  },
  {
   "attachments": {},
   "cell_type": "markdown",
   "metadata": {},
   "source": [
    "#### EXTRA TESTING DATA"
   ]
  },
  {
   "cell_type": "code",
   "execution_count": null,
   "metadata": {},
   "outputs": [],
   "source": [
    "dfAwake_test1 = pd.read_csv('Data/Validation/validation_AData.txt', header=None, delim_whitespace=True)\n",
    "dfDrowsy_test1 = pd.read_csv('Data/Validation/validation_DData.txt', header=None, delim_whitespace=True)\n",
    "\n",
    "dfAwake_test1 = dfAwake_test1.drop(dfAwake_test1.iloc[:,11:15],axis = 1)\n",
    "dfAwake_test1 = dfAwake_test1.drop(dfAwake_test1.iloc[:,0:3],axis = 1)\n",
    "dfDrowsy_test1 = dfDrowsy_test1.drop(dfDrowsy_test1.iloc[:,11:15],axis = 1)\n",
    "dfDrowsy_test1 = dfDrowsy_test1.drop(dfDrowsy_test1.iloc[:,0:3],axis = 1)\n",
    "\n",
    "dfAwake_test1 = dfAwake_test1.to_numpy()\n",
    "dfDrowsy_test1 = dfDrowsy_test1.to_numpy()\n",
    "dfAwake_test1 = dfAwake_test1.reshape(1800,900,8)\n",
    "dfDrowsy_test1 = dfDrowsy_test1.reshape(1800,900,8)\n",
    "\n",
    "dfAwake_testLabels1 = np.zeros(1800)\n",
    "dfDrowsy_testLabels1 = np.ones(1800)\n",
    "\n",
    "dftest1 = np.concatenate((dfAwake_test1, dfDrowsy_test1))\n",
    "dftestlabels1 =np.concatenate((dfAwake_testLabels1, dfDrowsy_testLabels1))\n",
    "\n",
    "dftest1 = dftest1.astype('float32')\n",
    "dftestlabels1 = dftestlabels1.astype('float32')\n",
    "\n",
    "dftestlabels_hot1 = np_utils.to_categorical(dftestlabels1, num_classes)\n",
    "\n",
    "# model = keras.models.load_model(\"best_model(eeg).h5\")\n",
    "\n",
    "test_loss1, test_acc1 = model.evaluate(dftest1, dftestlabels1,verbose=1)\n",
    "\n",
    "print(\"Test accuracy\", test_acc1)\n",
    "print(\"Test loss\", test_loss1)\n",
    "\n",
    "y_pred_test1 = model.predict(dftest1)\n",
    "# Take the class with the highest probability from the test predictions\n",
    "# max_y_pred_test = np.argmax(y_pred_test, axis=1)\n",
    "max_y_pred_test1 = np.rint(y_pred_test1)\n",
    "max_y_test1 = np.argmax(dftestlabels_hot1, axis=1)\n",
    "\n",
    "show_confusion_matrix(max_y_test1, max_y_pred_test1)\n",
    "\n",
    "print(classification_report(max_y_test1, max_y_pred_test1))"
   ]
  },
  {
   "cell_type": "code",
   "execution_count": null,
   "metadata": {},
   "outputs": [],
   "source": [
    "# np.set_printoptions(threshold=sys.maxsize)\n",
    "# print(\"Prediction:\")\n",
    "# print(max_y_pred_test1.reshape(3600,))\n",
    "# print(\"Actual:\")\n",
    "# print(max_y_test1)"
   ]
  }
 ],
 "metadata": {
  "kernelspec": {
   "display_name": "Python 3",
   "language": "python",
   "name": "python3"
  },
  "language_info": {
   "codemirror_mode": {
    "name": "ipython",
    "version": 3
   },
   "file_extension": ".py",
   "mimetype": "text/x-python",
   "name": "python",
   "nbconvert_exporter": "python",
   "pygments_lexer": "ipython3",
   "version": "3.10.8"
  },
  "orig_nbformat": 4,
  "vscode": {
   "interpreter": {
    "hash": "26de051ba29f2982a8de78e945f0abaf191376122a1563185a90213a26c5da77"
   }
  }
 },
 "nbformat": 4,
 "nbformat_minor": 2
}
