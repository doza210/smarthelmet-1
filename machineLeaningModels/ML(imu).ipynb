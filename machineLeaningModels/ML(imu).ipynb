{
 "cells": [
  {
   "attachments": {},
   "cell_type": "markdown",
   "metadata": {},
   "source": [
    "### MODEL FOR IMU NEURAL NET"
   ]
  },
  {
   "cell_type": "code",
   "execution_count": 1,
   "metadata": {},
   "outputs": [],
   "source": [
    "from __future__ import print_function\n",
    "from matplotlib import pyplot as plt\n",
    "import numpy as np\n",
    "import pandas as pd\n",
    "import seaborn as sns\n",
    "from scipy import stats\n",
    "from IPython.display import display, HTML\n",
    "\n",
    "from sklearn import metrics\n",
    "from sklearn.metrics import classification_report\n",
    "from sklearn import preprocessing\n",
    "\n",
    "import keras\n",
    "from keras.models import Sequential\n",
    "from keras.layers import Dense, Dropout, Flatten, Reshape\n",
    "from keras.layers import Conv2D, MaxPooling2D\n",
    "from keras.utils import np_utils\n",
    "from keras.layers import BatchNormalization\n",
    "from keras.optimizers import Adam\n",
    "from keras import backend as K"
   ]
  },
  {
   "attachments": {},
   "cell_type": "markdown",
   "metadata": {},
   "source": [
    "### GETTING Data"
   ]
  },
  {
   "cell_type": "code",
   "execution_count": 2,
   "metadata": {},
   "outputs": [],
   "source": [
    "dfAwake_train = pd.read_csv('Data/training_AData.txt', header=None, delim_whitespace=True)\n",
    "dfDrowsy_train = pd.read_csv('Data/training_DData.txt', header=None, delim_whitespace=True)\n",
    "\n",
    "\n",
    "dfAwake_test = pd.read_csv('Data/testing_AData.txt', header=None, delim_whitespace=True)\n",
    "dfDrowsy_test = pd.read_csv('Data/testing_DData.txt', header=None, delim_whitespace=True)\n",
    "\n",
    "\n",
    "# dfAwake_test1 = pd.read_csv('Data/Validation/validation_AData.txt', header=None, delim_whitespace=True)\n",
    "# dfDrowsy_test1 = pd.read_csv('Data/Validation/validation_DData.txt', header=None, delim_whitespace=True)\n",
    "# dfAwake_test2 = pd.read_csv('Data/Data for 2nd Level Classification/testing2_AData.txt', header=None, delim_whitespace=True)\n",
    "# dfDrowsy_test2 = pd.read_csv('Data/Data for 2nd Level Classification/testing2_DData.txt', header=None, delim_whitespace=True)"
   ]
  },
  {
   "cell_type": "code",
   "execution_count": null,
   "metadata": {},
   "outputs": [],
   "source": [
    "# Awake_frames = [dfAwake_test1, dfAwake_test2]\n",
    "# Drowsy_frames = [dfDrowsy_test1, dfDrowsy_test2]\n",
    "# dfAwake_test = pd.concat(Awake_frames)\n",
    "# dfDrowsy_test = pd.concat(Drowsy_frames)"
   ]
  },
  {
   "attachments": {},
   "cell_type": "markdown",
   "metadata": {},
   "source": [
    "### Printing Retrieved Data informations"
   ]
  },
  {
   "cell_type": "code",
   "execution_count": 3,
   "metadata": {},
   "outputs": [
    {
     "name": "stdout",
     "output_type": "stream",
     "text": [
      "(3240000, 15)\n",
      "(3240000, 15)\n",
      "(1620000, 15)\n",
      "(1620000, 15)\n"
     ]
    }
   ],
   "source": [
    "print(dfAwake_train.shape)\n",
    "print(dfDrowsy_train.shape)\n",
    "print(dfAwake_test.shape)\n",
    "print(dfDrowsy_test.shape)"
   ]
  },
  {
   "attachments": {},
   "cell_type": "markdown",
   "metadata": {},
   "source": [
    "### Dropping Not Needed Columns Keeping IMU"
   ]
  },
  {
   "cell_type": "code",
   "execution_count": 4,
   "metadata": {},
   "outputs": [],
   "source": [
    "dfAwake_train = dfAwake_train.drop(14,axis = 1)\n",
    "dfAwake_train = dfAwake_train.drop(dfAwake_train.iloc[:,0:12],axis = 1)\n",
    "dfDrowsy_train = dfDrowsy_train.drop(14,axis = 1)\n",
    "dfDrowsy_train = dfDrowsy_train.drop(dfDrowsy_train.iloc[:,0:12],axis = 1)\n",
    "dfAwake_test = dfAwake_test.drop(14,axis = 1)\n",
    "dfAwake_test = dfAwake_test.drop(dfAwake_test.iloc[:,0:12],axis = 1)\n",
    "dfDrowsy_test = dfDrowsy_test.drop(14,axis = 1)\n",
    "dfDrowsy_test = dfDrowsy_test.drop(dfDrowsy_test.iloc[:,0:12],axis = 1)"
   ]
  },
  {
   "cell_type": "code",
   "execution_count": 5,
   "metadata": {},
   "outputs": [
    {
     "name": "stdout",
     "output_type": "stream",
     "text": [
      "(3240000, 2)\n",
      "(3240000, 2)\n",
      "(1620000, 2)\n",
      "(1620000, 2)\n"
     ]
    }
   ],
   "source": [
    "print(dfAwake_train.shape)\n",
    "print(dfDrowsy_train.shape)\n",
    "print(dfAwake_test.shape)\n",
    "print(dfDrowsy_test.shape)"
   ]
  },
  {
   "attachments": {},
   "cell_type": "markdown",
   "metadata": {},
   "source": [
    "### RESHAPING DATA"
   ]
  },
  {
   "cell_type": "code",
   "execution_count": 6,
   "metadata": {},
   "outputs": [
    {
     "name": "stdout",
     "output_type": "stream",
     "text": [
      "(3600, 900, 2)\n",
      "(3600, 900, 2)\n",
      "(1800, 900, 2)\n",
      "(1800, 900, 2)\n"
     ]
    }
   ],
   "source": [
    "dfAwake_train = dfAwake_train.to_numpy()\n",
    "dfDrowsy_train = dfDrowsy_train.to_numpy()\n",
    "dfAwake_train = dfAwake_train.reshape(3600,900,2)\n",
    "dfDrowsy_train = dfDrowsy_train.reshape(3600,900,2)\n",
    "dfAwake_test = dfAwake_test.to_numpy()\n",
    "dfDrowsy_test = dfDrowsy_test.to_numpy()\n",
    "dfAwake_test = dfAwake_test.reshape(1800,900,2)\n",
    "dfDrowsy_test = dfDrowsy_test.reshape(1800,900,2)\n",
    "print(dfAwake_train.shape)\n",
    "print(dfDrowsy_train.shape)\n",
    "print(dfAwake_test.shape)\n",
    "print(dfDrowsy_test.shape)\n",
    "# print(dfAwake.head)\n",
    "# print(dfDrowsy.head)"
   ]
  },
  {
   "attachments": {},
   "cell_type": "markdown",
   "metadata": {},
   "source": [
    "### CREATING LABELS"
   ]
  },
  {
   "cell_type": "code",
   "execution_count": 7,
   "metadata": {},
   "outputs": [
    {
     "name": "stdout",
     "output_type": "stream",
     "text": [
      "(3600,)\n",
      "(3600,)\n",
      "(1800,)\n",
      "(1800,)\n"
     ]
    }
   ],
   "source": [
    "dfAwake_trainLabels = np.zeros(3600)\n",
    "print(dfAwake_trainLabels.shape)\n",
    "dfDrowsy_trainLabels = np.ones(3600)\n",
    "print(dfDrowsy_trainLabels.shape)\n",
    "dfAwake_testLabels = np.zeros(1800)\n",
    "print(dfAwake_testLabels.shape)\n",
    "dfDrowsy_testLabels = np.ones(1800)\n",
    "print(dfDrowsy_testLabels.shape)"
   ]
  },
  {
   "cell_type": "code",
   "execution_count": 8,
   "metadata": {},
   "outputs": [
    {
     "name": "stdout",
     "output_type": "stream",
     "text": [
      "[0. 0. 0. ... 0. 0. 0.]\n",
      "[1. 1. 1. ... 1. 1. 1.]\n",
      "[0. 0. 0. ... 0. 0. 0.]\n",
      "[1. 1. 1. ... 1. 1. 1.]\n"
     ]
    }
   ],
   "source": [
    "print(dfAwake_trainLabels)\n",
    "print(dfDrowsy_trainLabels)\n",
    "print(dfAwake_testLabels)\n",
    "print(dfDrowsy_testLabels)"
   ]
  },
  {
   "attachments": {},
   "cell_type": "markdown",
   "metadata": {},
   "source": [
    "### Combining Awake Data and Drowsy Data"
   ]
  },
  {
   "cell_type": "code",
   "execution_count": 9,
   "metadata": {},
   "outputs": [
    {
     "name": "stdout",
     "output_type": "stream",
     "text": [
      "(7200, 900, 2)\n",
      "(7200,)\n",
      "[[[-0.01347178 -0.00392533]\n",
      "  [ 0.00561919  0.00493475]\n",
      "  [ 0.02176988  0.00053666]\n",
      "  ...\n",
      "  [ 0.01136684 -0.00309513]\n",
      "  [ 0.01403857 -0.00426882]\n",
      "  [ 0.02121865 -0.00393233]]\n",
      "\n",
      " [[ 0.00561919  0.00493475]\n",
      "  [ 0.02176988  0.00053666]\n",
      "  [ 0.00405722  0.01380083]\n",
      "  ...\n",
      "  [ 0.01403857 -0.00426882]\n",
      "  [ 0.02121865 -0.00393233]\n",
      "  [ 0.00454181 -0.01287709]]\n",
      "\n",
      " [[ 0.02176988  0.00053666]\n",
      "  [ 0.00405722  0.01380083]\n",
      "  [ 0.00771384  0.00374309]\n",
      "  ...\n",
      "  [ 0.02121865 -0.00393233]\n",
      "  [ 0.00454181 -0.01287709]\n",
      "  [-0.00323185 -0.00783903]]\n",
      "\n",
      " ...\n",
      "\n",
      " [[-0.00226274  0.00575061]\n",
      "  [ 0.0075034  -0.00658379]\n",
      "  [ 0.00472974 -0.00671845]\n",
      "  ...\n",
      "  [ 0.00261806  0.00260904]\n",
      "  [-0.00574393  0.00689247]\n",
      "  [-0.00291118 -0.00434906]]\n",
      "\n",
      " [[ 0.0075034  -0.00658379]\n",
      "  [ 0.00472974 -0.00671845]\n",
      "  [-0.01043967  0.00304691]\n",
      "  ...\n",
      "  [-0.00574393  0.00689247]\n",
      "  [-0.00291118 -0.00434906]\n",
      "  [ 0.0099463   0.00430073]]\n",
      "\n",
      " [[ 0.00472974 -0.00671845]\n",
      "  [-0.01043967  0.00304691]\n",
      "  [-0.00011717 -0.00286729]\n",
      "  ...\n",
      "  [-0.00291118 -0.00434906]\n",
      "  [ 0.0099463   0.00430073]\n",
      "  [-0.00335484 -0.0116052 ]]]\n",
      "[0. 0. 0. ... 1. 1. 1.]\n"
     ]
    }
   ],
   "source": [
    "dftrain = np.concatenate((dfAwake_train, dfDrowsy_train))\n",
    "dftrainlabels =np.concatenate((dfAwake_trainLabels, dfDrowsy_trainLabels))\n",
    "print(dftrain.shape)\n",
    "print(dftrainlabels.shape)\n",
    "print(dftrain)\n",
    "print(dftrainlabels)"
   ]
  },
  {
   "attachments": {},
   "cell_type": "markdown",
   "metadata": {},
   "source": [
    "### SHUFFLING DATA"
   ]
  },
  {
   "cell_type": "code",
   "execution_count": 10,
   "metadata": {},
   "outputs": [
    {
     "name": "stdout",
     "output_type": "stream",
     "text": [
      "[1158 2030 1908 ... 3903 3342 6931]\n"
     ]
    }
   ],
   "source": [
    "idx = np.random.permutation(len(dftrainlabels))\n",
    "print(idx)"
   ]
  },
  {
   "cell_type": "code",
   "execution_count": null,
   "metadata": {},
   "outputs": [],
   "source": [
    "dftrain=dftrain[idx]\n",
    "dftrainlabels=dftrainlabels[idx]"
   ]
  },
  {
   "cell_type": "code",
   "execution_count": null,
   "metadata": {},
   "outputs": [],
   "source": [
    "print(dftrain.shape)\n",
    "print(dftrainlabels.shape)\n",
    "print(dftrain)\n",
    "print(dftrainlabels)"
   ]
  },
  {
   "cell_type": "code",
   "execution_count": 11,
   "metadata": {},
   "outputs": [
    {
     "name": "stdout",
     "output_type": "stream",
     "text": [
      "(3600, 900, 2)\n",
      "(3600,)\n",
      "[[[ 0.02311828  0.011094  ]\n",
      "  [ 0.03492036 -0.01857721]\n",
      "  [ 0.02784405 -0.01861933]\n",
      "  ...\n",
      "  [ 0.01446212 -0.01794756]\n",
      "  [ 0.01531532 -0.01282402]\n",
      "  [ 0.00547928 -0.0126411 ]]\n",
      "\n",
      " [[ 0.03492036 -0.01857721]\n",
      "  [ 0.02784405 -0.01861933]\n",
      "  [ 0.00261633 -0.02434868]\n",
      "  ...\n",
      "  [ 0.01531532 -0.01282402]\n",
      "  [ 0.00547928 -0.0126411 ]\n",
      "  [-0.00173669 -0.01653759]]\n",
      "\n",
      " [[ 0.02784405 -0.01861933]\n",
      "  [ 0.00261633 -0.02434868]\n",
      "  [ 0.01006408 -0.01847897]\n",
      "  ...\n",
      "  [ 0.00547928 -0.0126411 ]\n",
      "  [-0.00173669 -0.01653759]\n",
      "  [ 0.01429986  0.03591099]]\n",
      "\n",
      " ...\n",
      "\n",
      " [[-0.01538968 -0.00381893]\n",
      "  [-0.01108513  0.00549479]\n",
      "  [-0.0132084  -0.00062503]\n",
      "  ...\n",
      "  [-0.00202253  0.0016088 ]\n",
      "  [-0.00207898 -0.00485158]\n",
      "  [ 0.00513121 -0.00311212]]\n",
      "\n",
      " [[-0.01108513  0.00549479]\n",
      "  [-0.0132084  -0.00062503]\n",
      "  [-0.01549576 -0.01200462]\n",
      "  ...\n",
      "  [-0.00207898 -0.00485158]\n",
      "  [ 0.00513121 -0.00311212]\n",
      "  [ 0.01296438 -0.00488806]]\n",
      "\n",
      " [[-0.0132084  -0.00062503]\n",
      "  [-0.01549576 -0.01200462]\n",
      "  [-0.01053267  0.00184589]\n",
      "  ...\n",
      "  [ 0.00513121 -0.00311212]\n",
      "  [ 0.01296438 -0.00488806]\n",
      "  [ 0.00954596 -0.01792024]]]\n",
      "[0. 0. 0. ... 1. 1. 1.]\n"
     ]
    }
   ],
   "source": [
    "dftest = np.concatenate((dfAwake_test, dfDrowsy_test))\n",
    "dftestlabels =np.concatenate((dfAwake_testLabels, dfDrowsy_testLabels))\n",
    "print(dftest.shape)\n",
    "print(dftestlabels.shape)\n",
    "print(dftest)\n",
    "print(dftestlabels)"
   ]
  },
  {
   "cell_type": "code",
   "execution_count": null,
   "metadata": {},
   "outputs": [],
   "source": [
    "print(dftest.shape)\n",
    "print(dftestlabels.shape)\n",
    "print(dftrain.shape)\n",
    "print(dftrainlabels.shape)"
   ]
  },
  {
   "attachments": {},
   "cell_type": "markdown",
   "metadata": {},
   "source": [
    "### Set input and output dimensions"
   ]
  },
  {
   "cell_type": "code",
   "execution_count": 12,
   "metadata": {},
   "outputs": [
    {
     "name": "stdout",
     "output_type": "stream",
     "text": [
      "dftrain shape: (7200, 900, 2)\n",
      "input_shape: 1800\n"
     ]
    }
   ],
   "source": [
    "input_shape = 900*2\n",
    "num_classes = 2\n",
    "# dftrain = dftrain.reshape(dftrain.shape[0],input_shape)\n",
    "print('dftrain shape:', dftrain.shape)\n",
    "print('input_shape:', input_shape)"
   ]
  },
  {
   "cell_type": "code",
   "execution_count": null,
   "metadata": {},
   "outputs": [],
   "source": [
    "dftrain = dftrain.astype('float32')\n",
    "dftrainlabels = dftrainlabels.astype('float32')"
   ]
  },
  {
   "cell_type": "code",
   "execution_count": null,
   "metadata": {},
   "outputs": [],
   "source": [
    "dftrainlabels_hot = np_utils.to_categorical(dftrainlabels,num_classes)\n",
    "print('New dfttrainlabels shape: ', dftrainlabels_hot)"
   ]
  },
  {
   "cell_type": "code",
   "execution_count": null,
   "metadata": {},
   "outputs": [],
   "source": [
    "print('New dfttrainlabels shape: ', dftrainlabels_hot.shape)\n",
    "print(dftrainlabels)"
   ]
  },
  {
   "attachments": {},
   "cell_type": "markdown",
   "metadata": {},
   "source": [
    "#### Evaluating Training Data"
   ]
  },
  {
   "cell_type": "code",
   "execution_count": null,
   "metadata": {},
   "outputs": [],
   "source": [
    "model = keras.models.load_model(\"best_model(imuv3).h5\")\n",
    "\n",
    "test_loss, test_acc = model.evaluate(dftrain, dftrainlabels,verbose=1)\n",
    "\n",
    "print(\"Test accuracy\", test_acc)\n",
    "print(\"Test loss\", test_loss)"
   ]
  },
  {
   "attachments": {},
   "cell_type": "markdown",
   "metadata": {},
   "source": [
    "### Building the MODEL"
   ]
  },
  {
   "cell_type": "code",
   "execution_count": null,
   "metadata": {},
   "outputs": [],
   "source": [
    "# model_m = Sequential()\n",
    "# # Remark: since coreml cannot accept vector shapes of complex shape like\n",
    "# # [80,3] this workaround is used in order to reshape the vector internally\n",
    "# # prior feeding it into the network\n",
    "# model_m.add(Reshape((900, 2), input_shape=(input_shape,)))\n",
    "# model_m.add(Dense(100, activation='relu'))\n",
    "# # model_m.add(BatchNormalization()) # V2 addition\n",
    "# model_m.add(Dense(100, activation='relu'))\n",
    "# # model_m.add(BatchNormalization()) # V2 addition\n",
    "# model_m.add(Dense(100, activation='relu'))\n",
    "# # model_m.add(BatchNormalization()) # V2 addition \n",
    "# model_m.add(Flatten())\n",
    "# model_m.add(Dense(num_classes, activation='softmax'))\n",
    "# print(model_m.summary())"
   ]
  },
  {
   "cell_type": "code",
   "execution_count": null,
   "metadata": {},
   "outputs": [],
   "source": [
    "def make_model(input_shape):\n",
    "    input_layer = keras.layers.Input(input_shape)\n",
    "\n",
    "    conv1 = keras.layers.Conv1D(filters=64, kernel_size=3, padding=\"same\")(input_layer)\n",
    "    conv1 = keras.layers.BatchNormalization()(conv1)\n",
    "    conv1 = keras.layers.ReLU()(conv1)\n",
    "\n",
    "    # conv2 = keras.layers.Conv1D(filters=64, kernel_size=3, padding=\"same\")(conv1)\n",
    "    # conv2 = keras.layers.BatchNormalization()(conv2)\n",
    "    # conv2 = keras.layers.ReLU()(conv2)\n",
    "\n",
    "    # conv3 = keras.layers.Conv1D(filters=64, kernel_size=3, padding=\"same\")(conv2)\n",
    "    # conv3 = keras.layers.BatchNormalization()(conv3)\n",
    "    # conv3 = keras.layers.ReLU()(conv3)\n",
    "\n",
    "    gap = keras.layers.GlobalAveragePooling1D()(conv1)\n",
    "\n",
    "    output_layer = keras.layers.Dense(num_classes, activation=\"softmax\")(gap)\n",
    "\n",
    "    return keras.models.Model(inputs=input_layer, outputs=output_layer)\n",
    "\n",
    "\n",
    "model = make_model(input_shape=dftrain.shape[1:])\n",
    "keras.utils.plot_model(model, show_shapes=True)"
   ]
  },
  {
   "attachments": {},
   "cell_type": "markdown",
   "metadata": {},
   "source": [
    "### FITTING Deep neural network Model in KERAS"
   ]
  },
  {
   "cell_type": "code",
   "execution_count": null,
   "metadata": {},
   "outputs": [],
   "source": [
    "# callbacks_list = [\n",
    "#     keras.callbacks.ModelCheckpoint(\n",
    "#         filepath='best_model(imu).{epoch:02d}-{val_loss:.2f}.h5',\n",
    "#         monitor='val_loss', save_best_only=True),\n",
    "#     keras.callbacks.EarlyStopping(monitor='accuracy', patience=1)\n",
    "# ]\n",
    "\n",
    "\n",
    "\n",
    "# model_m.compile(loss='categorical_crossentropy',\n",
    "#                 optimizer=Adam(learning_rate=0.001), metrics=['accuracy'])\n",
    "\n",
    "# # Hyper-parameters\n",
    "# BATCH_SIZE = 400 # V3 changed to 2160\n",
    "# EPOCHS = 50\n",
    "\n",
    "\n",
    "# # Enable validation to use ModelCheckpoint and EarlyStopping callbacks.\n",
    "# # v1\n",
    "# history = model_m.fit(dftrain,\n",
    "#                       dftrainlabels_hot,\n",
    "#                       batch_size=BATCH_SIZE,\n",
    "#                       epochs=EPOCHS,\n",
    "#                       callbacks=callbacks_list,\n",
    "#                       validation_split=0.2,\n",
    "#                       verbose=1)\n",
    "\n",
    "# # # v1 completing all epochs\n",
    "# # history = model_m.fit(dftrain,\n",
    "# #                       dftrainlabels_hot,\n",
    "# #                       batch_size=BATCH_SIZE,\n",
    "# #                       epochs=EPOCHS,\n",
    "# #                       validation_split=0.2,\n",
    "# #                       verbose=1)\n",
    "\n",
    "# # v3\n",
    "# # history = model_m.fit(dftrain,\n",
    "# #                       dftrainlabels_hot,\n",
    "# #                       batch_size=BATCH_SIZE,\n",
    "# #                       epochs=EPOCHS,\n",
    "# #                       shuffle=True,\n",
    "# #                       validation_split=0.2,\n",
    "# #                       verbose=1)\n"
   ]
  },
  {
   "cell_type": "code",
   "execution_count": null,
   "metadata": {},
   "outputs": [],
   "source": [
    "epochs = 100\n",
    "batch_size = 288\n",
    "\n",
    "callbacks = [\n",
    "    keras.callbacks.ModelCheckpoint(\n",
    "        \"best_model(imu).h5\", save_best_only=True, monitor=\"val_loss\"\n",
    "    ),\n",
    "    keras.callbacks.ReduceLROnPlateau(\n",
    "        monitor=\"val_loss\", factor=0.5, patience=5, min_lr=0.0001\n",
    "    ),\n",
    "    keras.callbacks.EarlyStopping(monitor=\"val_loss\", patience=50, verbose=1),\n",
    "]\n",
    "model.compile(\n",
    "    optimizer=\"adam\",\n",
    "    loss=\"sparse_categorical_crossentropy\",\n",
    "    metrics=[\"sparse_categorical_accuracy\"],\n",
    ")\n",
    "# model.compile(\n",
    "#     optimizer=\"adam\",\n",
    "#     loss=\"categorical_crossentropy\",\n",
    "#     metrics=[\"accuracy\"],\n",
    "# )\n",
    "history = model.fit(\n",
    "    dftrain,\n",
    "    dftrainlabels,\n",
    "    batch_size=batch_size,\n",
    "    epochs=epochs,\n",
    "    callbacks=callbacks,\n",
    "    validation_split=0.4,\n",
    "    verbose=1,\n",
    ")"
   ]
  },
  {
   "cell_type": "code",
   "execution_count": null,
   "metadata": {},
   "outputs": [],
   "source": [
    "# plt.figure(figsize=(6, 4))\n",
    "# plt.plot(history.history['accuracy'], 'r', label='Accuracy of training data')\n",
    "# plt.plot(history.history['val_accuracy'], 'b', label='Accuracy of validation data')\n",
    "# plt.plot(history.history['loss'], 'r--', label='Loss of training data')\n",
    "# plt.plot(history.history['val_loss'], 'b--', label='Loss of validation data')\n",
    "# plt.title('Model Accuracy and Loss')\n",
    "# plt.ylabel('Accuracy and Loss')\n",
    "# plt.xlabel('Training Epoch')\n",
    "# plt.ylim(0)\n",
    "# plt.legend()\n",
    "# plt.show()\n",
    "\n",
    "metric = \"sparse_categorical_accuracy\"\n",
    "plt.figure()\n",
    "plt.plot(history.history[metric])\n",
    "plt.plot(history.history[\"val_\" + metric])\n",
    "plt.plot(history.history['loss'], 'r--', label='Loss of training data')\n",
    "plt.plot(history.history['val_loss'], 'b--', label='Loss of validation data')\n",
    "plt.title(\"model \" + metric)\n",
    "plt.ylabel(metric, fontsize=\"large\")\n",
    "plt.xlabel(\"epoch\", fontsize=\"large\")\n",
    "plt.legend([\"train\", \"val\",\"loss\",\"val_loss\"], loc=\"best\")\n",
    "plt.show()\n",
    "plt.close()\n",
    "\n",
    "# Print confusion matrix for training data\n",
    "y_pred_train = model.predict(dftrain)\n",
    "# Take the class with the highest probability from the train predictions\n",
    "max_y_pred_train = np.argmax(y_pred_train, axis=1)\n",
    "print(classification_report(dftrainlabels, max_y_pred_train))"
   ]
  },
  {
   "attachments": {},
   "cell_type": "markdown",
   "metadata": {},
   "source": [
    "### Checking against Testing Data"
   ]
  },
  {
   "cell_type": "code",
   "execution_count": 13,
   "metadata": {},
   "outputs": [],
   "source": [
    "\n",
    "# Set input_shape / reshape for Keras\n",
    "# dftest = dftest.reshape(dftest.shape[0], input_shape)\n",
    "\n",
    "dftest = dftest.astype('float32')\n",
    "dftestlabels = dftestlabels.astype('float32')\n",
    "\n",
    "dftestlabels_hot = np_utils.to_categorical(dftestlabels, num_classes)\n"
   ]
  },
  {
   "cell_type": "code",
   "execution_count": 14,
   "metadata": {},
   "outputs": [
    {
     "name": "stdout",
     "output_type": "stream",
     "text": [
      "New dfttrainlabels shape:  [[1. 0.]\n",
      " [1. 0.]\n",
      " [1. 0.]\n",
      " ...\n",
      " [0. 1.]\n",
      " [0. 1.]\n",
      " [0. 1.]]\n",
      "New dfttrainlabels shape:  (3600,)\n",
      "New dfttrainlabels shape:  [0. 0. 0. ... 1. 1. 1.]\n"
     ]
    }
   ],
   "source": [
    "print('New dfttrainlabels shape: ', dftestlabels_hot)\n",
    "print('New dfttrainlabels shape: ', dftestlabels.shape)\n",
    "print('New dfttrainlabels shape: ', dftestlabels)"
   ]
  },
  {
   "cell_type": "code",
   "execution_count": null,
   "metadata": {},
   "outputs": [],
   "source": [
    "# score = model_m.evaluate(dftest, dftestlabels_hot, verbose=1)\n",
    "\n",
    "# print('\\nAccuracy on test data: %0.2f' % score[1])\n",
    "# print('\\nLoss on test data: %0.2f' % score[0])"
   ]
  },
  {
   "cell_type": "code",
   "execution_count": 15,
   "metadata": {},
   "outputs": [],
   "source": [
    "LABELS = ['Awake','Drowsy']"
   ]
  },
  {
   "cell_type": "code",
   "execution_count": null,
   "metadata": {},
   "outputs": [],
   "source": [
    "# metric = \"sparse_categorical_accuracy\"\n",
    "# plt.figure()\n",
    "# plt.plot(history.history[metric])\n",
    "# plt.plot(history.history[\"val_\" + metric])\n",
    "# plt.title(\"model \" + metric)\n",
    "# plt.ylabel(metric, fontsize=\"large\")\n",
    "# plt.xlabel(\"epoch\", fontsize=\"large\")\n",
    "# plt.legend([\"train\", \"val\"], loc=\"best\")\n",
    "# plt.show()\n",
    "# plt.close()s"
   ]
  },
  {
   "cell_type": "code",
   "execution_count": 16,
   "metadata": {},
   "outputs": [
    {
     "name": "stdout",
     "output_type": "stream",
     "text": [
      "113/113 [==============================] - 0s 2ms/step - loss: 0.6828 - sparse_categorical_accuracy: 0.7150\n",
      "Test accuracy 0.7149999737739563\n",
      "Test loss 0.6827709674835205\n"
     ]
    }
   ],
   "source": [
    "model = keras.models.load_model(\"best_model(imuv3).h5\")\n",
    "\n",
    "test_loss, test_acc = model.evaluate(dftest, dftestlabels,verbose=1)\n",
    "\n",
    "print(\"Test accuracy\", test_acc)\n",
    "print(\"Test loss\", test_loss)"
   ]
  },
  {
   "cell_type": "code",
   "execution_count": null,
   "metadata": {},
   "outputs": [],
   "source": [
    "# # Print confusion matrix for training data\n",
    "# y_pred_train = model.predict(dftest)\n",
    "# # Take the class with the highest probability from the train predictions\n",
    "# max_y_pred_train = np.argmax(y_pred_train, axis=1)\n",
    "# print(classification_report(dftestlabels, max_y_pred_train))"
   ]
  },
  {
   "cell_type": "code",
   "execution_count": 17,
   "metadata": {},
   "outputs": [
    {
     "name": "stdout",
     "output_type": "stream",
     "text": [
      "113/113 [==============================] - 0s 2ms/step\n"
     ]
    },
    {
     "data": {
      "image/png": "[encoded data removed]",
      "text/plain": [
       "<Figure size 600x400 with 2 Axes>"
      ]
     },
     "metadata": {},
     "output_type": "display_data"
    },
    {
     "name": "stdout",
     "output_type": "stream",
     "text": [
      "              precision    recall  f1-score   support\n",
      "\n",
      "           0       0.66      0.88      0.75      1800\n",
      "           1       0.82      0.55      0.66      1800\n",
      "\n",
      "    accuracy                           0.71      3600\n",
      "   macro avg       0.74      0.72      0.71      3600\n",
      "weighted avg       0.74      0.71      0.71      3600\n",
      "\n"
     ]
    }
   ],
   "source": [
    "def show_confusion_matrix(validations, predictions):\n",
    "\n",
    "    matrix = metrics.confusion_matrix(validations, predictions)\n",
    "    plt.figure(figsize=(6, 4))\n",
    "    sns.heatmap(matrix,\n",
    "                cmap='coolwarm',\n",
    "                linecolor='white',\n",
    "                linewidths=1,\n",
    "                xticklabels=LABELS,\n",
    "                yticklabels=LABELS,\n",
    "                annot=True,\n",
    "                fmt='d')\n",
    "    plt.title('Confusion Matrix')\n",
    "    plt.ylabel('True Label')\n",
    "    plt.xlabel('Predicted Label')\n",
    "    plt.show()\n",
    "\n",
    "y_pred_test = model.predict(dftest)\n",
    "# Take the class with the highest probability from the test predictions\n",
    "max_y_pred_test = np.argmax(y_pred_test, axis=1)\n",
    "max_y_test = np.argmax(dftestlabels_hot, axis=1)\n",
    "\n",
    "show_confusion_matrix(max_y_test, max_y_pred_test)\n",
    "\n",
    "print(classification_report(max_y_test, max_y_pred_test))"
   ]
  },
  {
   "attachments": {},
   "cell_type": "markdown",
   "metadata": {},
   "source": [
    "### ROC and AUC"
   ]
  },
  {
   "cell_type": "code",
   "execution_count": 18,
   "metadata": {},
   "outputs": [
    {
     "name": "stdout",
     "output_type": "stream",
     "text": [
      "113/113 [==============================] - 0s 2ms/step\n",
      "[[0.45848462 0.5415154 ]\n",
      " [0.4579539  0.5420461 ]\n",
      " [0.45987082 0.5401292 ]\n",
      " ...\n",
      " [0.5575388  0.4424612 ]\n",
      " [0.55642813 0.4435719 ]\n",
      " [0.555851   0.44414905]]\n"
     ]
    },
    {
     "name": "stderr",
     "output_type": "stream",
     "text": [
      "C:\\Users\\admin\\AppData\\Local\\Temp\\ipykernel_10420\\3476021706.py:34: DeprecationWarning: scipy.interp is deprecated and will be removed in SciPy 2.0.0, use numpy.interp instead\n",
      "  mean_tpr += interp(all_fpr, fpr[i], tpr[i])\n"
     ]
    },
    {
     "data": {
      "image/png": "[encoded data removed]",
      "text/plain": [
       "<Figure size 640x480 with 1 Axes>"
      ]
     },
     "metadata": {},
     "output_type": "display_data"
    },
    {
     "data": {
      "image/png": "[encoded data removed]",
      "text/plain": [
       "<Figure size 640x480 with 1 Axes>"
      ]
     },
     "metadata": {},
     "output_type": "display_data"
    }
   ],
   "source": [
    "import numpy as np\n",
    "from scipy import interp\n",
    "import matplotlib.pyplot as plt\n",
    "from itertools import cycle\n",
    "from sklearn.metrics import roc_curve, auc\n",
    "\n",
    "from sklearn.metrics import roc_curve\n",
    "from sklearn.metrics import roc_auc_score\n",
    "y_scores = model.predict(dftest)\n",
    "print(y_scores)\n",
    "\n",
    "lw = 2\n",
    "\n",
    "# Compute ROC curve and ROC area for each class\n",
    "fpr = dict()\n",
    "tpr = dict()\n",
    "roc_auc = dict()\n",
    "for i in range(2):\n",
    "    fpr[i], tpr[i], _ = roc_curve(dftestlabels_hot[:, i], y_scores[:, i])\n",
    "    roc_auc[i] = auc(fpr[i], tpr[i])\n",
    "\n",
    "# Compute micro-average ROC curve and ROC area\n",
    "fpr[\"micro\"], tpr[\"micro\"], _ = roc_curve(dftestlabels_hot.ravel(), y_scores.ravel())\n",
    "roc_auc[\"micro\"] = auc(fpr[\"micro\"], tpr[\"micro\"])\n",
    "\n",
    "# Compute macro-average ROC curve and ROC area\n",
    "\n",
    "# First aggregate all false positive rates\n",
    "all_fpr = np.unique(np.concatenate([fpr[i] for i in range(2)]))\n",
    "\n",
    "# Then interpolate all ROC curves at this points\n",
    "mean_tpr = np.zeros_like(all_fpr)\n",
    "for i in range(2):\n",
    "    mean_tpr += interp(all_fpr, fpr[i], tpr[i])\n",
    "\n",
    "# Finally average it and compute AUC\n",
    "mean_tpr /= 2\n",
    "\n",
    "fpr[\"macro\"] = all_fpr\n",
    "tpr[\"macro\"] = mean_tpr\n",
    "roc_auc[\"macro\"] = auc(fpr[\"macro\"], tpr[\"macro\"])\n",
    "\n",
    "# Plot all ROC curves\n",
    "plt.figure(1)\n",
    "plt.plot(fpr[\"micro\"], tpr[\"micro\"],\n",
    "         label='micro-average ROC curve (area = {0:0.2f})'\n",
    "               ''.format(roc_auc[\"micro\"]),\n",
    "         color='deeppink', linestyle=':', linewidth=4)\n",
    "\n",
    "plt.plot(fpr[\"macro\"], tpr[\"macro\"],\n",
    "         label='macro-average ROC curve (area = {0:0.2f})'\n",
    "               ''.format(roc_auc[\"macro\"]),\n",
    "         color='navy', linestyle=':', linewidth=4)\n",
    "\n",
    "colors = cycle(['aqua', 'darkorange', 'cornflowerblue'])\n",
    "for i, color in zip(range(2), colors):\n",
    "    plt.plot(fpr[i], tpr[i], color=color, lw=lw,\n",
    "             label='ROC curve of class {0} (area = {1:0.2f})'\n",
    "             ''.format(i, roc_auc[i]))\n",
    "\n",
    "plt.plot([0, 1], [0, 1], 'k--', lw=lw)\n",
    "plt.xlim([0.0, 1.0])\n",
    "plt.ylim([0.0, 1.05])\n",
    "plt.xlabel('False Positive Rate')\n",
    "plt.ylabel('True Positive Rate')\n",
    "plt.title('Some extension of Receiver operating characteristic to multi-class')\n",
    "plt.legend(loc=\"lower right\")\n",
    "plt.show()\n",
    "\n",
    "\n",
    "# Zoom in view of the upper left corner.\n",
    "plt.figure(2)\n",
    "plt.xlim(0, 0.2)\n",
    "plt.ylim(0.8, 1)\n",
    "plt.plot(fpr[\"micro\"], tpr[\"micro\"],\n",
    "         label='micro-average ROC curve (area = {0:0.2f})'\n",
    "               ''.format(roc_auc[\"micro\"]),\n",
    "         color='deeppink', linestyle=':', linewidth=4)\n",
    "\n",
    "plt.plot(fpr[\"macro\"], tpr[\"macro\"],\n",
    "         label='macro-average ROC curve (area = {0:0.2f})'\n",
    "               ''.format(roc_auc[\"macro\"]),\n",
    "         color='navy', linestyle=':', linewidth=4)\n",
    "\n",
    "colors = cycle(['aqua', 'darkorange', 'cornflowerblue'])\n",
    "for i, color in zip(range(2), colors):\n",
    "    plt.plot(fpr[i], tpr[i], color=color, lw=lw,\n",
    "             label='ROC curve of class {0} (area = {1:0.2f})'\n",
    "             ''.format(i, roc_auc[i]))\n",
    "\n",
    "plt.plot([0, 1], [0, 1], 'k--', lw=lw)\n",
    "plt.xlabel('False Positive Rate')\n",
    "plt.ylabel('True Positive Rate')\n",
    "plt.title('Some extension of Receiver operating characteristic to multi-class')\n",
    "plt.legend(loc=\"lower right\")\n",
    "plt.show()"
   ]
  },
  {
   "cell_type": "code",
   "execution_count": null,
   "metadata": {},
   "outputs": [],
   "source": []
  }
 ],
 "metadata": {
  "kernelspec": {
   "display_name": "Python 3",
   "language": "python",
   "name": "python3"
  },
  "language_info": {
   "codemirror_mode": {
    "name": "ipython",
    "version": 3
   },
   "file_extension": ".py",
   "mimetype": "text/x-python",
   "name": "python",
   "nbconvert_exporter": "python",
   "pygments_lexer": "ipython3",
   "version": "3.10.8"
  },
  "orig_nbformat": 4,
  "vscode": {
   "interpreter": {
    "hash": "26de051ba29f2982a8de78e945f0abaf191376122a1563185a90213a26c5da77"
   }
  }
 },
 "nbformat": 4,
 "nbformat_minor": 2
}
