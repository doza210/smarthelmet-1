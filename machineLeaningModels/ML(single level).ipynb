{
 "cells": [
  {
   "attachments": {},
   "cell_type": "markdown",
   "metadata": {},
   "source": [
    "### MODEL FOR PERCLOS NEURAL NET"
   ]
  },
  {
   "cell_type": "code",
   "execution_count": 1,
   "metadata": {},
   "outputs": [],
   "source": [
    "from __future__ import print_function\n",
    "from matplotlib import pyplot as plt\n",
    "import numpy as np\n",
    "import pandas as pd\n",
    "import seaborn as sns\n",
    "from scipy import stats\n",
    "from IPython.display import display, HTML\n",
    "\n",
    "from sklearn import metrics\n",
    "from sklearn.metrics import classification_report\n",
    "from sklearn import preprocessing\n",
    "\n",
    "import keras\n",
    "from keras.models import Sequential\n",
    "from keras.layers import Dense, Dropout, Flatten, Reshape\n",
    "from keras.layers import Conv2D, MaxPooling2D\n",
    "from keras.utils import np_utils\n",
    "from keras.layers import BatchNormalization\n",
    "from keras.optimizers import Adam\n",
    "from keras import backend as K"
   ]
  },
  {
   "attachments": {},
   "cell_type": "markdown",
   "metadata": {},
   "source": [
    "### GETTING Data"
   ]
  },
  {
   "cell_type": "code",
   "execution_count": 2,
   "metadata": {},
   "outputs": [],
   "source": [
    "dfAwake_train = pd.read_csv('Data/Data for 2nd Level Classification/training2_AData.txt', header=None, delim_whitespace=True)\n",
    "dfDrowsy_train = pd.read_csv('Data/Data for 2nd Level Classification/training2_DData.txt', header=None, delim_whitespace=True)\n",
    "dfAwake_test = pd.read_csv('Data/Data for 2nd Level Classification/testing2_AData.txt', header=None, delim_whitespace=True)\n",
    "dfDrowsy_test = pd.read_csv('Data/Data for 2nd Level Classification/testing2_DData.txt', header=None, delim_whitespace=True)\n",
    "\n",
    "# dfAwake_train = pd.read_csv('Data/Validation/validation_AData.txt', header=None, delim_whitespace=True)\n",
    "# dfDrowsy_train = pd.read_csv('Data/Validation/validation_DData.txt', header=None, delim_whitespace=True)\n",
    "\n",
    "# dfAwake_train1 = pd.read_csv('Data/Validation/validation_AData.txt', header=None, delim_whitespace=True)\n",
    "# dfDrowsy_train1 = pd.read_csv('Data/Validation/validation_DData.txt', header=None, delim_whitespace=True)\n",
    "# dfAwake_train2 = pd.read_csv('Data/Data for 2nd Level Classification/testing2_AData.txt', header=None, delim_whitespace=True)\n",
    "# dfDrowsy_train2 = pd.read_csv('Data/Data for 2nd Level Classification/testing2_DData.txt', header=None, delim_whitespace=True)"
   ]
  },
  {
   "cell_type": "code",
   "execution_count": null,
   "metadata": {},
   "outputs": [],
   "source": [
    "# Awake_frames = [dfAwake_train1, dfAwake_train2]\n",
    "# Drowsy_frames = [dfDrowsy_train1, dfDrowsy_train2]\n",
    "# dfAwake_train = pd.concat(Awake_frames)\n",
    "# dfDrowsy_train = pd.concat(Drowsy_frames)"
   ]
  },
  {
   "attachments": {},
   "cell_type": "markdown",
   "metadata": {},
   "source": [
    "### Printing Retrieved Data informations"
   ]
  },
  {
   "cell_type": "code",
   "execution_count": 3,
   "metadata": {},
   "outputs": [
    {
     "name": "stdout",
     "output_type": "stream",
     "text": [
      "(2910600, 15)\n",
      "(2430000, 15)\n",
      "(810000, 15)\n",
      "(1080000, 15)\n"
     ]
    }
   ],
   "source": [
    "print(dfAwake_train.shape)\n",
    "print(dfDrowsy_train.shape)\n",
    "print(dfAwake_test.shape)\n",
    "print(dfDrowsy_test.shape)"
   ]
  },
  {
   "attachments": {},
   "cell_type": "markdown",
   "metadata": {},
   "source": [
    "### Dropping Not Needed Columns"
   ]
  },
  {
   "cell_type": "code",
   "execution_count": 4,
   "metadata": {},
   "outputs": [],
   "source": [
    "dfAwake_train = dfAwake_train.drop(11,axis = 1)\n",
    "dfAwake_train = dfAwake_train.drop(dfAwake_train.iloc[:,0:3],axis = 1)\n",
    "dfDrowsy_train = dfDrowsy_train.drop(11,axis = 1)\n",
    "dfDrowsy_train = dfDrowsy_train.drop(dfDrowsy_train.iloc[:,0:3],axis = 1)\n",
    "dfAwake_test = dfAwake_test.drop(11,axis = 1)\n",
    "dfAwake_test = dfAwake_test.drop(dfAwake_test.iloc[:,0:3],axis = 1)\n",
    "dfDrowsy_test = dfDrowsy_test.drop(11,axis = 1)\n",
    "dfDrowsy_test = dfDrowsy_test.drop(dfDrowsy_test.iloc[:,0:3],axis = 1)"
   ]
  },
  {
   "cell_type": "code",
   "execution_count": 5,
   "metadata": {},
   "outputs": [
    {
     "name": "stdout",
     "output_type": "stream",
     "text": [
      "(2910600, 11)\n",
      "(2430000, 11)\n",
      "(810000, 11)\n",
      "(1080000, 11)\n"
     ]
    }
   ],
   "source": [
    "print(dfAwake_train.shape)\n",
    "print(dfDrowsy_train.shape)\n",
    "print(dfAwake_test.shape)\n",
    "print(dfDrowsy_test.shape)"
   ]
  },
  {
   "attachments": {},
   "cell_type": "markdown",
   "metadata": {},
   "source": [
    "### RESHAPING DATA"
   ]
  },
  {
   "cell_type": "code",
   "execution_count": 6,
   "metadata": {},
   "outputs": [],
   "source": [
    "dfAwake_train = dfAwake_train.to_numpy()\n",
    "dfDrowsy_train = dfDrowsy_train.to_numpy()\n",
    "dfAwake_train = dfAwake_train.reshape(3234,900,11)\n",
    "dfDrowsy_train = dfDrowsy_train.reshape(2700,900,11)\n",
    "dfAwake_test = dfAwake_test.to_numpy()\n",
    "dfDrowsy_test = dfDrowsy_test.to_numpy()\n",
    "dfAwake_test = dfAwake_test.reshape(900,900,11)\n",
    "dfDrowsy_test = dfDrowsy_test.reshape(1200,900,11)"
   ]
  },
  {
   "cell_type": "code",
   "execution_count": 7,
   "metadata": {},
   "outputs": [
    {
     "name": "stdout",
     "output_type": "stream",
     "text": [
      "(3234, 900, 11)\n",
      "(2700, 900, 11)\n",
      "(900, 900, 11)\n",
      "(1200, 900, 11)\n"
     ]
    }
   ],
   "source": [
    "print(dfAwake_train.shape)\n",
    "print(dfDrowsy_train.shape)\n",
    "print(dfAwake_test.shape)\n",
    "print(dfDrowsy_test.shape)\n",
    "# print(dfAwake_train)\n",
    "# print(dfDrowsy_train)"
   ]
  },
  {
   "attachments": {},
   "cell_type": "markdown",
   "metadata": {},
   "source": [
    "### CREATING LABELS"
   ]
  },
  {
   "cell_type": "code",
   "execution_count": 8,
   "metadata": {},
   "outputs": [
    {
     "name": "stdout",
     "output_type": "stream",
     "text": [
      "(3234,)\n",
      "(2700,)\n",
      "(900,)\n",
      "(1200,)\n"
     ]
    }
   ],
   "source": [
    "dfAwake_trainLabels = np.zeros(3234)\n",
    "print(dfAwake_trainLabels.shape)\n",
    "dfDrowsy_trainLabels = np.ones(2700)\n",
    "print(dfDrowsy_trainLabels.shape)\n",
    "dfAwake_testLabels = np.zeros(900)\n",
    "print(dfAwake_testLabels.shape)\n",
    "dfDrowsy_testLabels = np.ones(1200)\n",
    "print(dfDrowsy_testLabels.shape)"
   ]
  },
  {
   "cell_type": "code",
   "execution_count": 9,
   "metadata": {},
   "outputs": [
    {
     "name": "stdout",
     "output_type": "stream",
     "text": [
      "[0. 0. 0. ... 0. 0. 0.]\n",
      "[1. 1. 1. ... 1. 1. 1.]\n",
      "[0. 0. 0. 0. 0. 0. 0. 0. 0. 0. 0. 0. 0. 0. 0. 0. 0. 0. 0. 0. 0. 0. 0. 0.\n",
      " 0. 0. 0. 0. 0. 0. 0. 0. 0. 0. 0. 0. 0. 0. 0. 0. 0. 0. 0. 0. 0. 0. 0. 0.\n",
      " 0. 0. 0. 0. 0. 0. 0. 0. 0. 0. 0. 0. 0. 0. 0. 0. 0. 0. 0. 0. 0. 0. 0. 0.\n",
      " 0. 0. 0. 0. 0. 0. 0. 0. 0. 0. 0. 0. 0. 0. 0. 0. 0. 0. 0. 0. 0. 0. 0. 0.\n",
      " 0. 0. 0. 0. 0. 0. 0. 0. 0. 0. 0. 0. 0. 0. 0. 0. 0. 0. 0. 0. 0. 0. 0. 0.\n",
      " 0. 0. 0. 0. 0. 0. 0. 0. 0. 0. 0. 0. 0. 0. 0. 0. 0. 0. 0. 0. 0. 0. 0. 0.\n",
      " 0. 0. 0. 0. 0. 0. 0. 0. 0. 0. 0. 0. 0. 0. 0. 0. 0. 0. 0. 0. 0. 0. 0. 0.\n",
      " 0. 0. 0. 0. 0. 0. 0. 0. 0. 0. 0. 0. 0. 0. 0. 0. 0. 0. 0. 0. 0. 0. 0. 0.\n",
      " 0. 0. 0. 0. 0. 0. 0. 0. 0. 0. 0. 0. 0. 0. 0. 0. 0. 0. 0. 0. 0. 0. 0. 0.\n",
      " 0. 0. 0. 0. 0. 0. 0. 0. 0. 0. 0. 0. 0. 0. 0. 0. 0. 0. 0. 0. 0. 0. 0. 0.\n",
      " 0. 0. 0. 0. 0. 0. 0. 0. 0. 0. 0. 0. 0. 0. 0. 0. 0. 0. 0. 0. 0. 0. 0. 0.\n",
      " 0. 0. 0. 0. 0. 0. 0. 0. 0. 0. 0. 0. 0. 0. 0. 0. 0. 0. 0. 0. 0. 0. 0. 0.\n",
      " 0. 0. 0. 0. 0. 0. 0. 0. 0. 0. 0. 0. 0. 0. 0. 0. 0. 0. 0. 0. 0. 0. 0. 0.\n",
      " 0. 0. 0. 0. 0. 0. 0. 0. 0. 0. 0. 0. 0. 0. 0. 0. 0. 0. 0. 0. 0. 0. 0. 0.\n",
      " 0. 0. 0. 0. 0. 0. 0. 0. 0. 0. 0. 0. 0. 0. 0. 0. 0. 0. 0. 0. 0. 0. 0. 0.\n",
      " 0. 0. 0. 0. 0. 0. 0. 0. 0. 0. 0. 0. 0. 0. 0. 0. 0. 0. 0. 0. 0. 0. 0. 0.\n",
      " 0. 0. 0. 0. 0. 0. 0. 0. 0. 0. 0. 0. 0. 0. 0. 0. 0. 0. 0. 0. 0. 0. 0. 0.\n",
      " 0. 0. 0. 0. 0. 0. 0. 0. 0. 0. 0. 0. 0. 0. 0. 0. 0. 0. 0. 0. 0. 0. 0. 0.\n",
      " 0. 0. 0. 0. 0. 0. 0. 0. 0. 0. 0. 0. 0. 0. 0. 0. 0. 0. 0. 0. 0. 0. 0. 0.\n",
      " 0. 0. 0. 0. 0. 0. 0. 0. 0. 0. 0. 0. 0. 0. 0. 0. 0. 0. 0. 0. 0. 0. 0. 0.\n",
      " 0. 0. 0. 0. 0. 0. 0. 0. 0. 0. 0. 0. 0. 0. 0. 0. 0. 0. 0. 0. 0. 0. 0. 0.\n",
      " 0. 0. 0. 0. 0. 0. 0. 0. 0. 0. 0. 0. 0. 0. 0. 0. 0. 0. 0. 0. 0. 0. 0. 0.\n",
      " 0. 0. 0. 0. 0. 0. 0. 0. 0. 0. 0. 0. 0. 0. 0. 0. 0. 0. 0. 0. 0. 0. 0. 0.\n",
      " 0. 0. 0. 0. 0. 0. 0. 0. 0. 0. 0. 0. 0. 0. 0. 0. 0. 0. 0. 0. 0. 0. 0. 0.\n",
      " 0. 0. 0. 0. 0. 0. 0. 0. 0. 0. 0. 0. 0. 0. 0. 0. 0. 0. 0. 0. 0. 0. 0. 0.\n",
      " 0. 0. 0. 0. 0. 0. 0. 0. 0. 0. 0. 0. 0. 0. 0. 0. 0. 0. 0. 0. 0. 0. 0. 0.\n",
      " 0. 0. 0. 0. 0. 0. 0. 0. 0. 0. 0. 0. 0. 0. 0. 0. 0. 0. 0. 0. 0. 0. 0. 0.\n",
      " 0. 0. 0. 0. 0. 0. 0. 0. 0. 0. 0. 0. 0. 0. 0. 0. 0. 0. 0. 0. 0. 0. 0. 0.\n",
      " 0. 0. 0. 0. 0. 0. 0. 0. 0. 0. 0. 0. 0. 0. 0. 0. 0. 0. 0. 0. 0. 0. 0. 0.\n",
      " 0. 0. 0. 0. 0. 0. 0. 0. 0. 0. 0. 0. 0. 0. 0. 0. 0. 0. 0. 0. 0. 0. 0. 0.\n",
      " 0. 0. 0. 0. 0. 0. 0. 0. 0. 0. 0. 0. 0. 0. 0. 0. 0. 0. 0. 0. 0. 0. 0. 0.\n",
      " 0. 0. 0. 0. 0. 0. 0. 0. 0. 0. 0. 0. 0. 0. 0. 0. 0. 0. 0. 0. 0. 0. 0. 0.\n",
      " 0. 0. 0. 0. 0. 0. 0. 0. 0. 0. 0. 0. 0. 0. 0. 0. 0. 0. 0. 0. 0. 0. 0. 0.\n",
      " 0. 0. 0. 0. 0. 0. 0. 0. 0. 0. 0. 0. 0. 0. 0. 0. 0. 0. 0. 0. 0. 0. 0. 0.\n",
      " 0. 0. 0. 0. 0. 0. 0. 0. 0. 0. 0. 0. 0. 0. 0. 0. 0. 0. 0. 0. 0. 0. 0. 0.\n",
      " 0. 0. 0. 0. 0. 0. 0. 0. 0. 0. 0. 0. 0. 0. 0. 0. 0. 0. 0. 0. 0. 0. 0. 0.\n",
      " 0. 0. 0. 0. 0. 0. 0. 0. 0. 0. 0. 0. 0. 0. 0. 0. 0. 0. 0. 0. 0. 0. 0. 0.\n",
      " 0. 0. 0. 0. 0. 0. 0. 0. 0. 0. 0. 0.]\n",
      "[1. 1. 1. ... 1. 1. 1.]\n"
     ]
    }
   ],
   "source": [
    "print(dfAwake_trainLabels)\n",
    "print(dfDrowsy_trainLabels)\n",
    "print(dfAwake_testLabels)\n",
    "print(dfDrowsy_testLabels)"
   ]
  },
  {
   "attachments": {},
   "cell_type": "markdown",
   "metadata": {},
   "source": [
    "### Combining Awake Data and Drowsy Data"
   ]
  },
  {
   "cell_type": "code",
   "execution_count": 10,
   "metadata": {},
   "outputs": [
    {
     "name": "stdout",
     "output_type": "stream",
     "text": [
      "(5934, 900, 11)\n",
      "(5934,)\n",
      "[[[ 1.00000000e+00  2.75739300e+00  1.72400600e+00 ... -1.34717759e-02\n",
      "   -3.92532662e-03  3.66666700e+00]\n",
      "  [ 1.00000000e+00  5.04561000e-01  8.13233000e-01 ...  5.61919477e-03\n",
      "    4.93475497e-03  3.66666700e+00]\n",
      "  [ 1.00000000e+00  5.04561000e-01  8.13233000e-01 ...  2.17698843e-02\n",
      "    5.36659562e-04  3.66666700e+00]\n",
      "  ...\n",
      "  [ 1.00000000e+00  6.21410000e-01  9.37510000e-02 ...  1.13668412e-02\n",
      "   -3.09512913e-03  3.00000000e+00]\n",
      "  [ 1.00000000e+00  6.21410000e-01  9.37510000e-02 ...  1.40385734e-02\n",
      "   -4.26882061e-03  3.00000000e+00]\n",
      "  [ 1.00000000e+00  4.05440000e-02  9.58200000e-03 ...  2.12186481e-02\n",
      "   -3.93233111e-03  3.00000000e+00]]\n",
      "\n",
      " [[ 1.00000000e+00  5.04561000e-01  8.13233000e-01 ...  5.61919477e-03\n",
      "    4.93475497e-03  3.66666700e+00]\n",
      "  [ 1.00000000e+00  5.04561000e-01  8.13233000e-01 ...  2.17698843e-02\n",
      "    5.36659562e-04  3.66666700e+00]\n",
      "  [ 1.00000000e+00  5.04561000e-01  8.13233000e-01 ...  4.05722111e-03\n",
      "    1.38008344e-02  3.66666700e+00]\n",
      "  ...\n",
      "  [ 1.00000000e+00  6.21410000e-01  9.37510000e-02 ...  1.40385734e-02\n",
      "   -4.26882061e-03  3.00000000e+00]\n",
      "  [ 1.00000000e+00  4.05440000e-02  9.58200000e-03 ...  2.12186481e-02\n",
      "   -3.93233111e-03  3.00000000e+00]\n",
      "  [ 1.00000000e+00  4.05440000e-02  9.58200000e-03 ...  4.54180575e-03\n",
      "   -1.28770878e-02  3.00000000e+00]]\n",
      "\n",
      " [[ 1.00000000e+00  5.04561000e-01  8.13233000e-01 ...  2.17698843e-02\n",
      "    5.36659562e-04  3.66666700e+00]\n",
      "  [ 1.00000000e+00  5.04561000e-01  8.13233000e-01 ...  4.05722111e-03\n",
      "    1.38008344e-02  3.66666700e+00]\n",
      "  [ 1.00000000e+00  5.04561000e-01  8.13233000e-01 ...  7.71384303e-03\n",
      "    3.74309482e-03  3.66666700e+00]\n",
      "  ...\n",
      "  [ 1.00000000e+00  4.05440000e-02  9.58200000e-03 ...  2.12186481e-02\n",
      "   -3.93233111e-03  3.00000000e+00]\n",
      "  [ 1.00000000e+00  4.05440000e-02  9.58200000e-03 ...  4.54180575e-03\n",
      "   -1.28770878e-02  3.00000000e+00]\n",
      "  [ 1.00000000e+00  4.05440000e-02  9.58200000e-03 ... -3.23185028e-03\n",
      "   -7.83902825e-03  3.00000000e+00]]\n",
      "\n",
      " ...\n",
      "\n",
      " [[ 1.00000000e+00  3.41675000e+00  5.80073000e-01 ... -2.26274131e-03\n",
      "    5.75061243e-03  1.43333330e+01]\n",
      "  [ 1.00000000e+00  3.41675000e+00  5.80073000e-01 ...  7.50340082e-03\n",
      "   -6.58378756e-03  1.44444450e+01]\n",
      "  [ 1.00000000e+00  3.41675000e+00  5.80073000e-01 ...  4.72974194e-03\n",
      "   -6.71845070e-03  1.46666660e+01]\n",
      "  ...\n",
      "  [ 1.00000000e+00  2.22614000e+00  1.13373900e+00 ...  2.61806263e-03\n",
      "    2.60903914e-03  1.26666660e+01]\n",
      "  [ 1.00000000e+00  6.29168000e-01  3.26487000e-01 ... -5.74392745e-03\n",
      "    6.89247335e-03  1.22222220e+01]\n",
      "  [ 1.00000000e+00  6.29168000e-01  3.26487000e-01 ... -2.91118073e-03\n",
      "   -4.34906301e-03  1.22222220e+01]]\n",
      "\n",
      " [[ 1.00000000e+00  3.41675000e+00  5.80073000e-01 ...  7.50340082e-03\n",
      "   -6.58378756e-03  1.44444450e+01]\n",
      "  [ 1.00000000e+00  3.41675000e+00  5.80073000e-01 ...  4.72974194e-03\n",
      "   -6.71845070e-03  1.46666660e+01]\n",
      "  [ 1.00000000e+00  8.38372000e-01  6.74698000e-01 ... -1.04396710e-02\n",
      "    3.04690616e-03  1.46666660e+01]\n",
      "  ...\n",
      "  [ 1.00000000e+00  6.29168000e-01  3.26487000e-01 ... -5.74392745e-03\n",
      "    6.89247335e-03  1.22222220e+01]\n",
      "  [ 1.00000000e+00  6.29168000e-01  3.26487000e-01 ... -2.91118073e-03\n",
      "   -4.34906301e-03  1.22222220e+01]\n",
      "  [ 1.00000000e+00  6.29168000e-01  3.26487000e-01 ...  9.94630010e-03\n",
      "    4.30073263e-03  1.25555560e+01]]\n",
      "\n",
      " [[ 1.00000000e+00  3.41675000e+00  5.80073000e-01 ...  4.72974194e-03\n",
      "   -6.71845070e-03  1.46666660e+01]\n",
      "  [ 1.00000000e+00  8.38372000e-01  6.74698000e-01 ... -1.04396710e-02\n",
      "    3.04690616e-03  1.46666660e+01]\n",
      "  [ 1.00000000e+00  8.38372000e-01  6.74698000e-01 ... -1.17170310e-04\n",
      "   -2.86728995e-03  1.44444450e+01]\n",
      "  ...\n",
      "  [ 1.00000000e+00  6.29168000e-01  3.26487000e-01 ... -2.91118073e-03\n",
      "   -4.34906301e-03  1.22222220e+01]\n",
      "  [ 1.00000000e+00  6.29168000e-01  3.26487000e-01 ...  9.94630010e-03\n",
      "    4.30073263e-03  1.25555560e+01]\n",
      "  [ 1.00000000e+00  1.28394400e+00  6.86829000e-01 ... -3.35484471e-03\n",
      "   -1.16052010e-02  1.21111110e+01]]]\n",
      "[0. 0. 0. ... 1. 1. 1.]\n"
     ]
    }
   ],
   "source": [
    "dftrain = np.concatenate((dfAwake_train, dfDrowsy_train))\n",
    "dftrainlabels =np.concatenate((dfAwake_trainLabels, dfDrowsy_trainLabels))\n",
    "# dftrain = dfAwake_train\n",
    "# dftrainlabels = dfAwake_trainLabels\n",
    "print(dftrain.shape)\n",
    "print(dftrainlabels.shape)\n",
    "print(dftrain)\n",
    "print(dftrainlabels)"
   ]
  },
  {
   "attachments": {},
   "cell_type": "markdown",
   "metadata": {},
   "source": [
    "### SHUFFLING DATA"
   ]
  },
  {
   "cell_type": "code",
   "execution_count": 11,
   "metadata": {},
   "outputs": [
    {
     "name": "stdout",
     "output_type": "stream",
     "text": [
      "[2985 3802 3901 ...   28 4636 2141]\n"
     ]
    }
   ],
   "source": [
    "idx = np.random.permutation(len(dftrainlabels))\n",
    "print(idx)"
   ]
  },
  {
   "cell_type": "code",
   "execution_count": 12,
   "metadata": {},
   "outputs": [],
   "source": [
    "dftrain=dftrain[idx]\n",
    "dftrainlabels=dftrainlabels[idx]"
   ]
  },
  {
   "cell_type": "code",
   "execution_count": 13,
   "metadata": {},
   "outputs": [
    {
     "name": "stdout",
     "output_type": "stream",
     "text": [
      "(5934, 900, 11)\n",
      "(5934,)\n",
      "[[[ 1.00000000e+00  4.09650000e-01  1.05965000e-01 ...  9.17507457e-03\n",
      "    3.48580351e-03  6.66666700e+00]\n",
      "  [ 1.00000000e+00  4.09650000e-01  1.05965000e-01 ...  1.11799328e-02\n",
      "   -2.29302997e-03  6.66666700e+00]\n",
      "  [ 1.00000000e+00  4.09650000e-01  1.05965000e-01 ... -1.32354364e-02\n",
      "   -8.28966609e-03  6.66666700e+00]\n",
      "  ...\n",
      "  [ 1.00000000e+00  3.70247000e-01  1.54297000e-01 ...  5.96478969e-04\n",
      "    1.51313416e-03  8.44444400e+00]\n",
      "  [ 1.00000000e+00  3.70247000e-01  1.54297000e-01 ...  7.32253868e-04\n",
      "    2.36214518e-02  8.11111100e+00]\n",
      "  [ 1.00000000e+00  3.52760000e-01  1.09854000e-01 ... -8.63896337e-03\n",
      "    1.94500087e-02  8.11111100e+00]]\n",
      "\n",
      " [[ 1.00000000e+00  4.40828000e-01  2.18520000e-02 ... -1.49633980e-02\n",
      "   -3.27805687e-02  3.44444400e+00]\n",
      "  [ 1.00000000e+00  4.40828000e-01  2.18520000e-02 ... -1.17286092e-02\n",
      "   -2.03315386e-02  3.55555600e+00]\n",
      "  [ 1.00000000e+00  4.40828000e-01  2.18520000e-02 ...  1.14977402e-03\n",
      "    7.80862568e-03  3.55555600e+00]\n",
      "  ...\n",
      "  [ 1.00000000e+00  7.69929000e-01  1.09742100e+00 ...  7.47602129e-03\n",
      "   -2.18901937e-03  3.88888900e+00]\n",
      "  [ 1.00000000e+00  4.04830000e-01  6.55470000e-02 ...  9.22784206e-03\n",
      "   -4.38984962e-03  3.88888900e+00]\n",
      "  [ 1.00000000e+00  4.04830000e-01  6.55470000e-02 ... -3.57700548e-03\n",
      "   -9.03162540e-04  3.88888900e+00]]\n",
      "\n",
      " [[ 1.00000000e+00  2.36068000e-01  8.64610000e-02 ...  1.00821849e-02\n",
      "    1.99432594e-03  7.55555500e+00]\n",
      "  [ 1.00000000e+00  2.36068000e-01  8.64610000e-02 ...  5.02352112e-03\n",
      "   -1.25865351e-03  7.55555500e+00]\n",
      "  [ 1.00000000e+00  2.36068000e-01  8.64610000e-02 ...  1.04765646e-02\n",
      "   -1.22547517e-02  7.55555500e+00]\n",
      "  ...\n",
      "  [ 1.00000000e+00  6.91630000e-01  9.08240000e-02 ...  1.12175169e-02\n",
      "   -4.13719862e-03  9.00000000e+00]\n",
      "  [ 1.00000000e+00  4.83022000e-01  3.65710000e-02 ... -5.45521097e-03\n",
      "   -1.32221339e-03  8.44444400e+00]\n",
      "  [ 1.00000000e+00  4.83022000e-01  3.65710000e-02 ... -1.48662279e-02\n",
      "   -3.23454253e-03  7.88888800e+00]]\n",
      "\n",
      " ...\n",
      "\n",
      " [[ 1.00000000e+00  2.83067000e-01  2.67171000e-01 ... -3.35638324e-02\n",
      "   -1.38456164e-03  4.11111100e+00]\n",
      "  [ 1.00000000e+00  2.83067000e-01  2.67171000e-01 ... -9.91984530e-03\n",
      "   -2.93127555e-02  4.11111100e+00]\n",
      "  [ 1.00000000e+00  2.46852000e-01  9.19420000e-02 ... -1.60797685e-02\n",
      "   -3.71415543e-03  4.11111100e+00]\n",
      "  ...\n",
      "  [ 1.00000000e+00  5.22730000e-02  1.00800000e-02 ... -7.10516767e-02\n",
      "    5.30047929e-02  6.22222200e+00]\n",
      "  [ 1.00000000e+00  5.22730000e-02  1.00800000e-02 ... -4.66057510e-03\n",
      "    7.86292474e-02  6.22222200e+00]\n",
      "  [ 1.00000000e+00  3.35694000e-01  9.72100000e-03 ...  4.55670593e-03\n",
      "    8.32525647e-02  6.22222200e+00]]\n",
      "\n",
      " [[ 1.00000000e+00  1.37804000e-01  7.83740000e-02 ...  1.22484790e-02\n",
      "    1.76311944e-03  2.11111100e+00]\n",
      "  [ 1.00000000e+00  1.37804000e-01  7.83740000e-02 ... -1.82116918e-03\n",
      "    1.02384988e-02  1.55555600e+00]\n",
      "  [ 1.00000000e+00  8.63798000e-01  4.61932000e-01 ... -7.36269030e-03\n",
      "    9.40376126e-03  1.00000000e+00]\n",
      "  ...\n",
      "  [ 1.00000000e+00  1.51199700e+00  1.40392600e+00 ... -1.72599636e-02\n",
      "   -7.71126408e-03  1.44444400e+00]\n",
      "  [ 1.00000000e+00  1.51199700e+00  1.40392600e+00 ... -6.14562434e-03\n",
      "   -4.59093071e-04  1.44444400e+00]\n",
      "  [ 1.00000000e+00  1.51199700e+00  1.40392600e+00 ... -8.65987968e-03\n",
      "   -2.02663553e-03  1.44444400e+00]]\n",
      "\n",
      " [[ 1.00000000e+00  4.63176000e-01  1.12105100e+00 ...  1.63088623e-02\n",
      "   -3.87906940e-03  6.77777800e+00]\n",
      "  [ 1.00000000e+00  4.63176000e-01  1.12105100e+00 ...  9.80354343e-03\n",
      "   -8.23074561e-03  6.77777800e+00]\n",
      "  [ 1.00000000e+00  4.63176000e-01  1.12105100e+00 ...  1.03313630e-02\n",
      "    4.70588786e-03  6.77777800e+00]\n",
      "  ...\n",
      "  [ 1.00000000e+00  4.44472000e-01  2.67860000e-02 ...  3.00227511e-03\n",
      "   -7.07951593e-03  7.88888800e+00]\n",
      "  [ 1.00000000e+00  4.44472000e-01  2.67860000e-02 ... -1.90895658e-03\n",
      "    2.06210261e-02  8.44444400e+00]\n",
      "  [ 1.00000000e+00  4.44472000e-01  2.67860000e-02 ...  1.39753414e-02\n",
      "    1.41521538e-02  9.00000000e+00]]]\n",
      "[0. 1. 1. ... 0. 1. 0.]\n"
     ]
    }
   ],
   "source": [
    "print(dftrain.shape)\n",
    "print(dftrainlabels.shape)\n",
    "print(dftrain)\n",
    "print(dftrainlabels)"
   ]
  },
  {
   "cell_type": "code",
   "execution_count": 14,
   "metadata": {},
   "outputs": [
    {
     "name": "stdout",
     "output_type": "stream",
     "text": [
      "(2100, 900, 11)\n",
      "(2100,)\n",
      "[[[ 1.00000000e+00  5.92970000e-02  2.03340000e-02 ...  2.31182822e-02\n",
      "    1.10939983e-02  7.77778000e-01]\n",
      "  [ 1.00000000e+00  2.88129000e-01  5.81080000e-02 ...  3.49203647e-02\n",
      "   -1.85772118e-02  7.77778000e-01]\n",
      "  [ 1.00000000e+00  2.88129000e-01  5.81080000e-02 ...  2.78440513e-02\n",
      "   -1.86193334e-02  7.77778000e-01]\n",
      "  ...\n",
      "  [ 1.00000000e+00  6.62710000e-02  3.15420000e-02 ...  1.44621208e-02\n",
      "   -1.79475640e-02  1.66666700e+00]\n",
      "  [ 1.00000000e+00  2.66998000e-01  1.29318000e-01 ...  1.53153165e-02\n",
      "   -1.28240248e-02  1.66666700e+00]\n",
      "  [ 1.00000000e+00  2.66998000e-01  1.29318000e-01 ...  5.47928315e-03\n",
      "   -1.26411032e-02  1.66666700e+00]]\n",
      "\n",
      " [[ 1.00000000e+00  2.88129000e-01  5.81080000e-02 ...  3.49203647e-02\n",
      "   -1.85772118e-02  7.77778000e-01]\n",
      "  [ 1.00000000e+00  2.88129000e-01  5.81080000e-02 ...  2.78440513e-02\n",
      "   -1.86193334e-02  7.77778000e-01]\n",
      "  [ 1.00000000e+00  2.88129000e-01  5.81080000e-02 ...  2.61632669e-03\n",
      "   -2.43486785e-02  7.77778000e-01]\n",
      "  ...\n",
      "  [ 1.00000000e+00  2.66998000e-01  1.29318000e-01 ...  1.53153165e-02\n",
      "   -1.28240248e-02  1.66666700e+00]\n",
      "  [ 1.00000000e+00  2.66998000e-01  1.29318000e-01 ...  5.47928315e-03\n",
      "   -1.26411032e-02  1.66666700e+00]\n",
      "  [ 1.00000000e+00  2.66998000e-01  1.29318000e-01 ... -1.73669043e-03\n",
      "   -1.65375940e-02  1.66666700e+00]]\n",
      "\n",
      " [[ 1.00000000e+00  2.88129000e-01  5.81080000e-02 ...  2.78440513e-02\n",
      "   -1.86193334e-02  7.77778000e-01]\n",
      "  [ 1.00000000e+00  2.88129000e-01  5.81080000e-02 ...  2.61632669e-03\n",
      "   -2.43486785e-02  7.77778000e-01]\n",
      "  [ 1.00000000e+00  2.88129000e-01  5.81080000e-02 ...  1.00640801e-02\n",
      "   -1.84789700e-02  7.77778000e-01]\n",
      "  ...\n",
      "  [ 1.00000000e+00  2.66998000e-01  1.29318000e-01 ...  5.47928315e-03\n",
      "   -1.26411032e-02  1.66666700e+00]\n",
      "  [ 1.00000000e+00  2.66998000e-01  1.29318000e-01 ... -1.73669043e-03\n",
      "   -1.65375940e-02  1.66666700e+00]\n",
      "  [ 1.00000000e+00  2.66998000e-01  1.29318000e-01 ...  1.42998615e-02\n",
      "    3.59109920e-02  1.66666700e+00]]\n",
      "\n",
      " ...\n",
      "\n",
      " [[ 1.00000000e+00  2.60562400e+00  1.57390000e-01 ... -1.53896763e-02\n",
      "   -3.81892985e-03  5.44444400e+00]\n",
      "  [ 1.00000000e+00  1.59252000e+00  4.18584500e+00 ... -1.10851318e-02\n",
      "    5.49479127e-03  5.44444400e+00]\n",
      "  [ 1.00000000e+00  1.59252000e+00  4.18584500e+00 ... -1.32084012e-02\n",
      "   -6.25025799e-04  5.44444400e+00]\n",
      "  ...\n",
      "  [ 1.00000000e+00  9.78712000e-01  2.07823000e-01 ... -2.02252848e-03\n",
      "    1.60880047e-03  6.66666700e+00]\n",
      "  [ 1.00000000e+00  9.78712000e-01  2.07823000e-01 ... -2.07897651e-03\n",
      "   -4.85158482e-03  6.66666700e+00]\n",
      "  [ 1.00000000e+00  1.93527000e-01  4.10979000e-01 ...  5.13121353e-03\n",
      "   -3.11211815e-03  6.66666700e+00]]\n",
      "\n",
      " [[ 1.00000000e+00  1.59252000e+00  4.18584500e+00 ... -1.10851318e-02\n",
      "    5.49479127e-03  5.44444400e+00]\n",
      "  [ 1.00000000e+00  1.59252000e+00  4.18584500e+00 ... -1.32084012e-02\n",
      "   -6.25025799e-04  5.44444400e+00]\n",
      "  [ 1.00000000e+00  1.59252000e+00  4.18584500e+00 ... -1.54957591e-02\n",
      "   -1.20046163e-02  5.66666700e+00]\n",
      "  ...\n",
      "  [ 1.00000000e+00  9.78712000e-01  2.07823000e-01 ... -2.07897651e-03\n",
      "   -4.85158482e-03  6.66666700e+00]\n",
      "  [ 1.00000000e+00  1.93527000e-01  4.10979000e-01 ...  5.13121353e-03\n",
      "   -3.11211815e-03  6.66666700e+00]\n",
      "  [ 1.00000000e+00  1.93527000e-01  4.10979000e-01 ...  1.29643752e-02\n",
      "   -4.88805708e-03  6.66666700e+00]]\n",
      "\n",
      " [[ 1.00000000e+00  1.59252000e+00  4.18584500e+00 ... -1.32084012e-02\n",
      "   -6.25025799e-04  5.44444400e+00]\n",
      "  [ 1.00000000e+00  1.59252000e+00  4.18584500e+00 ... -1.54957591e-02\n",
      "   -1.20046163e-02  5.66666700e+00]\n",
      "  [ 1.00000000e+00  1.19837600e+00  2.90901600e+00 ... -1.05326723e-02\n",
      "    1.84589313e-03  5.77777800e+00]\n",
      "  ...\n",
      "  [ 1.00000000e+00  1.93527000e-01  4.10979000e-01 ...  5.13121353e-03\n",
      "   -3.11211815e-03  6.66666700e+00]\n",
      "  [ 1.00000000e+00  1.93527000e-01  4.10979000e-01 ...  1.29643752e-02\n",
      "   -4.88805708e-03  6.66666700e+00]\n",
      "  [ 1.00000000e+00  1.93527000e-01  4.10979000e-01 ...  9.54595961e-03\n",
      "   -1.79202368e-02  6.66666700e+00]]]\n",
      "[0. 0. 0. ... 1. 1. 1.]\n"
     ]
    }
   ],
   "source": [
    "dftest = np.concatenate((dfAwake_test, dfDrowsy_test))\n",
    "dftestlabels =np.concatenate((dfAwake_testLabels, dfDrowsy_testLabels))\n",
    "print(dftest.shape)\n",
    "print(dftestlabels.shape)\n",
    "print(dftest)\n",
    "print(dftestlabels)"
   ]
  },
  {
   "cell_type": "code",
   "execution_count": 15,
   "metadata": {},
   "outputs": [
    {
     "name": "stdout",
     "output_type": "stream",
     "text": [
      "(2100, 900, 11)\n",
      "(2100,)\n",
      "(5934, 900, 11)\n",
      "(5934,)\n"
     ]
    }
   ],
   "source": [
    "print(dftest.shape)\n",
    "print(dftestlabels.shape)\n",
    "print(dftrain.shape)\n",
    "print(dftrainlabels.shape)"
   ]
  },
  {
   "attachments": {},
   "cell_type": "markdown",
   "metadata": {},
   "source": [
    "### Set input and output dimensions"
   ]
  },
  {
   "cell_type": "code",
   "execution_count": 16,
   "metadata": {},
   "outputs": [
    {
     "name": "stdout",
     "output_type": "stream",
     "text": [
      "dftrain shape: (5934, 900, 11)\n",
      "input_shape: 9900\n"
     ]
    }
   ],
   "source": [
    "input_shape = 900*11\n",
    "num_classes = 2\n",
    "print('dftrain shape:', dftrain.shape)\n",
    "print('input_shape:', input_shape)"
   ]
  },
  {
   "cell_type": "code",
   "execution_count": 17,
   "metadata": {},
   "outputs": [],
   "source": [
    "dftrain = dftrain.astype('float32')\n",
    "dftrainlabels = dftrainlabels.astype('float32')"
   ]
  },
  {
   "cell_type": "code",
   "execution_count": 18,
   "metadata": {},
   "outputs": [
    {
     "name": "stdout",
     "output_type": "stream",
     "text": [
      "New dfttrainlabels shape:  [[1. 0.]\n",
      " [0. 1.]\n",
      " [0. 1.]\n",
      " ...\n",
      " [1. 0.]\n",
      " [0. 1.]\n",
      " [1. 0.]]\n"
     ]
    }
   ],
   "source": [
    "dftrainlabels_hot = np_utils.to_categorical(dftrainlabels,num_classes)\n",
    "print('New dfttrainlabels shape: ', dftrainlabels_hot)"
   ]
  },
  {
   "cell_type": "code",
   "execution_count": 19,
   "metadata": {},
   "outputs": [
    {
     "name": "stdout",
     "output_type": "stream",
     "text": [
      "New dfttrainlabels shape:  (5934, 2)\n",
      "[0. 1. 1. ... 0. 1. 0.]\n"
     ]
    }
   ],
   "source": [
    "print('New dfttrainlabels shape: ', dftrainlabels_hot.shape)\n",
    "print(dftrainlabels)"
   ]
  },
  {
   "cell_type": "code",
   "execution_count": 20,
   "metadata": {},
   "outputs": [
    {
     "name": "stdout",
     "output_type": "stream",
     "text": [
      "(5934, 900, 11)\n",
      "(5934,)\n"
     ]
    }
   ],
   "source": [
    "print(dftrain.shape)\n",
    "print(dftrainlabels.shape)"
   ]
  },
  {
   "cell_type": "code",
   "execution_count": 21,
   "metadata": {},
   "outputs": [],
   "source": [
    "LABELS = ['Awake','Drowsy']"
   ]
  },
  {
   "cell_type": "code",
   "execution_count": 22,
   "metadata": {},
   "outputs": [
    {
     "ename": "OSError",
     "evalue": "No file or directory found at best_model(single-levelv1).h5",
     "output_type": "error",
     "traceback": [
      "\u001b[1;31m---------------------------------------------------------------------------\u001b[0m",
      "\u001b[1;31mOSError\u001b[0m                                   Traceback (most recent call last)",
      "\u001b[1;32md:\\Desktop\\CpE Design 2\\Machine Learning\\ML model\\ML(single level).ipynb Cell 32\u001b[0m in \u001b[0;36m1\n\u001b[1;32m----> <a href='vscode-notebook-cell:/d%3A/Desktop/CpE%20Design%202/Machine%20Learning/ML%20model/ML%28single%20level%29.ipynb#X43sZmlsZQ%3D%3D?line=0'>1</a>\u001b[0m model \u001b[39m=\u001b[39m keras\u001b[39m.\u001b[39;49mmodels\u001b[39m.\u001b[39;49mload_model(\u001b[39m\"\u001b[39;49m\u001b[39mbest_model(single-levelv1).h5\u001b[39;49m\u001b[39m\"\u001b[39;49m)\n\u001b[0;32m      <a href='vscode-notebook-cell:/d%3A/Desktop/CpE%20Design%202/Machine%20Learning/ML%20model/ML%28single%20level%29.ipynb#X43sZmlsZQ%3D%3D?line=2'>3</a>\u001b[0m test_loss, test_acc \u001b[39m=\u001b[39m model\u001b[39m.\u001b[39mevaluate(dftrain, dftrainlabels,verbose\u001b[39m=\u001b[39m\u001b[39m1\u001b[39m)\n\u001b[0;32m      <a href='vscode-notebook-cell:/d%3A/Desktop/CpE%20Design%202/Machine%20Learning/ML%20model/ML%28single%20level%29.ipynb#X43sZmlsZQ%3D%3D?line=4'>5</a>\u001b[0m \u001b[39mprint\u001b[39m(\u001b[39m\"\u001b[39m\u001b[39mTest accuracy\u001b[39m\u001b[39m\"\u001b[39m, test_acc)\n",
      "File \u001b[1;32m~\\AppData\\Roaming\\Python\\Python310\\site-packages\\keras\\utils\\traceback_utils.py:70\u001b[0m, in \u001b[0;36mfilter_traceback.<locals>.error_handler\u001b[1;34m(*args, **kwargs)\u001b[0m\n\u001b[0;32m     67\u001b[0m     filtered_tb \u001b[39m=\u001b[39m _process_traceback_frames(e\u001b[39m.\u001b[39m__traceback__)\n\u001b[0;32m     68\u001b[0m     \u001b[39m# To get the full stack trace, call:\u001b[39;00m\n\u001b[0;32m     69\u001b[0m     \u001b[39m# `tf.debugging.disable_traceback_filtering()`\u001b[39;00m\n\u001b[1;32m---> 70\u001b[0m     \u001b[39mraise\u001b[39;00m e\u001b[39m.\u001b[39mwith_traceback(filtered_tb) \u001b[39mfrom\u001b[39;00m \u001b[39mNone\u001b[39m\n\u001b[0;32m     71\u001b[0m \u001b[39mfinally\u001b[39;00m:\n\u001b[0;32m     72\u001b[0m     \u001b[39mdel\u001b[39;00m filtered_tb\n",
      "File \u001b[1;32m~\\AppData\\Roaming\\Python\\Python310\\site-packages\\keras\\saving\\save.py:226\u001b[0m, in \u001b[0;36mload_model\u001b[1;34m(filepath, custom_objects, compile, options)\u001b[0m\n\u001b[0;32m    224\u001b[0m \u001b[39mif\u001b[39;00m \u001b[39misinstance\u001b[39m(filepath_str, \u001b[39mstr\u001b[39m):\n\u001b[0;32m    225\u001b[0m     \u001b[39mif\u001b[39;00m \u001b[39mnot\u001b[39;00m tf\u001b[39m.\u001b[39mio\u001b[39m.\u001b[39mgfile\u001b[39m.\u001b[39mexists(filepath_str):\n\u001b[1;32m--> 226\u001b[0m         \u001b[39mraise\u001b[39;00m \u001b[39mIOError\u001b[39;00m(\n\u001b[0;32m    227\u001b[0m             \u001b[39mf\u001b[39m\u001b[39m\"\u001b[39m\u001b[39mNo file or directory found at \u001b[39m\u001b[39m{\u001b[39;00mfilepath_str\u001b[39m}\u001b[39;00m\u001b[39m\"\u001b[39m\n\u001b[0;32m    228\u001b[0m         )\n\u001b[0;32m    230\u001b[0m     \u001b[39mif\u001b[39;00m tf\u001b[39m.\u001b[39mio\u001b[39m.\u001b[39mgfile\u001b[39m.\u001b[39misdir(filepath_str):\n\u001b[0;32m    231\u001b[0m         \u001b[39mreturn\u001b[39;00m saved_model_load\u001b[39m.\u001b[39mload(\n\u001b[0;32m    232\u001b[0m             filepath_str, \u001b[39mcompile\u001b[39m, options\n\u001b[0;32m    233\u001b[0m         )\n",
      "\u001b[1;31mOSError\u001b[0m: No file or directory found at best_model(single-levelv1).h5"
     ]
    }
   ],
   "source": [
    "model = keras.models.load_model(\"best_model(single-levelv1).h5\")\n",
    "\n",
    "test_loss, test_acc = model.evaluate(dftrain, dftrainlabels,verbose=1)\n",
    "\n",
    "print(\"Test accuracy\", test_acc)\n",
    "print(\"Test loss\", test_loss)\n",
    "\n",
    "max_y_train = np.argmax(dftrainlabels_hot, axis=1)\n",
    "\n",
    "# Print confusion matrix for training data\n",
    "y_pred_train = model.predict(dftrain)\n",
    "# Take the class with the highest probability from the train predictions\n",
    "max_y_pred_train = np.argmax(y_pred_train, axis=1)\n",
    "print(classification_report(dftrainlabels, max_y_pred_train))"
   ]
  },
  {
   "cell_type": "code",
   "execution_count": null,
   "metadata": {},
   "outputs": [],
   "source": [
    "def show_confusion_matrix(validations, predictions):\n",
    "\n",
    "    matrix = metrics.confusion_matrix(validations, predictions)\n",
    "    plt.figure(figsize=(6, 4))\n",
    "    sns.heatmap(matrix,\n",
    "                cmap='coolwarm',\n",
    "                linecolor='white',\n",
    "                linewidths=1,\n",
    "                xticklabels=LABELS,\n",
    "                yticklabels=LABELS,\n",
    "                annot=True,\n",
    "                fmt='d')\n",
    "    plt.title('Confusion Matrix')\n",
    "    plt.ylabel('True Label')\n",
    "    plt.xlabel('Predicted Label')\n",
    "    plt.show()\n",
    "\n",
    "show_confusion_matrix(max_y_train, max_y_pred_train)"
   ]
  },
  {
   "attachments": {},
   "cell_type": "markdown",
   "metadata": {},
   "source": [
    "### Building the MODEL"
   ]
  },
  {
   "cell_type": "code",
   "execution_count": 23,
   "metadata": {},
   "outputs": [
    {
     "data": {
      "image/png": "[encoded data removed]",
      "text/plain": [
       "<IPython.core.display.Image object>"
      ]
     },
     "execution_count": 23,
     "metadata": {},
     "output_type": "execute_result"
    }
   ],
   "source": [
    "def make_model(input_shape):\n",
    "    input_layer = keras.layers.Input(input_shape)\n",
    "\n",
    "    conv1 = keras.layers.Conv1D(filters=64, kernel_size=3, padding=\"same\")(input_layer)\n",
    "    conv1 = keras.layers.BatchNormalization()(conv1)\n",
    "    conv1 = keras.layers.ReLU()(conv1)\n",
    "\n",
    "    # conv2 = keras.layers.Conv1D(filters=64, kernel_size=3, padding=\"same\")(conv1)\n",
    "    # conv2 = keras.layers.BatchNormalization()(conv2)\n",
    "    # conv2 = keras.layers.ReLU()(conv2)\n",
    "\n",
    "    # conv3 = keras.layers.Conv1D(filters=64, kernel_size=3, padding=\"same\")(conv2)\n",
    "    # conv3 = keras.layers.BatchNormalization()(conv3)\n",
    "    # conv3 = keras.layers.ReLU()(conv3)\n",
    "\n",
    "    gap = keras.layers.GlobalAveragePooling1D()(conv1)\n",
    "\n",
    "    output_layer = keras.layers.Dense(num_classes, activation=\"softmax\")(gap)\n",
    "\n",
    "    return keras.models.Model(inputs=input_layer, outputs=output_layer)\n",
    "\n",
    "\n",
    "model = make_model(input_shape=dftrain.shape[1:])\n",
    "keras.utils.plot_model(model, show_shapes=True)"
   ]
  },
  {
   "attachments": {},
   "cell_type": "markdown",
   "metadata": {},
   "source": [
    "### FITTING Deep neural network Model in KERAS"
   ]
  },
  {
   "cell_type": "code",
   "execution_count": null,
   "metadata": {},
   "outputs": [],
   "source": [
    "epochs = 100\n",
    "batch_size = 540\n",
    "\n",
    "callbacks = [\n",
    "    keras.callbacks.ModelCheckpoint(\n",
    "        \"best_model(single-level).h5\", save_best_only=True, monitor=\"val_loss\"\n",
    "    ),\n",
    "    keras.callbacks.ReduceLROnPlateau(\n",
    "        monitor=\"val_loss\", factor=0.5, patience=5, min_lr=0.0001\n",
    "    ),\n",
    "    keras.callbacks.EarlyStopping(monitor=\"val_loss\", patience=12, verbose=1),\n",
    "]\n",
    "model.compile(\n",
    "    optimizer=\"adam\",\n",
    "    loss=\"sparse_categorical_crossentropy\",\n",
    "    metrics=[\"sparse_categorical_accuracy\"],\n",
    ")\n",
    "# model.compile(\n",
    "#     optimizer=\"adam\",\n",
    "#     loss=\"categorical_crossentropy\",\n",
    "#     metrics=[\"accuracy\"],\n",
    "# )\n",
    "history = model.fit(\n",
    "    dftrain,\n",
    "    dftrainlabels,\n",
    "    batch_size=batch_size,\n",
    "    epochs=epochs,\n",
    "    callbacks=callbacks,\n",
    "    validation_split=0.4,\n",
    "    verbose=1,\n",
    ")"
   ]
  },
  {
   "cell_type": "code",
   "execution_count": null,
   "metadata": {},
   "outputs": [],
   "source": [
    "# plt.figure(figsize=(6, 4))\n",
    "# plt.plot(history.history['accuracy'], 'r', label='Accuracy of training data')\n",
    "# plt.plot(history.history['val_accuracy'], 'b', label='Accuracy of validation data')\n",
    "# plt.plot(history.history['loss'], 'r--', label='Loss of training data')\n",
    "# plt.plot(history.history['val_loss'], 'b--', label='Loss of validation data')\n",
    "# plt.title('Model Accuracy and Loss')\n",
    "# plt.ylabel('Accuracy and Loss')\n",
    "# plt.xlabel('Training Epoch')\n",
    "# plt.ylim(0)\n",
    "# plt.legend()\n",
    "# plt.show()\n",
    "\n",
    "metric = \"sparse_categorical_accuracy\"\n",
    "plt.figure()\n",
    "plt.plot(history.history[metric])\n",
    "plt.plot(history.history[\"val_\" + metric])\n",
    "plt.plot(history.history['loss'], 'r--', label='Loss of training data')\n",
    "plt.plot(history.history['val_loss'], 'b--', label='Loss of validation data')\n",
    "plt.title(\"model \" + metric)\n",
    "plt.ylabel(metric, fontsize=\"large\")\n",
    "plt.xlabel(\"epoch\", fontsize=\"large\")\n",
    "plt.legend([\"train\", \"val\",\"loss\",\"val_loss\"], loc=\"best\")\n",
    "plt.show()\n",
    "plt.close()\n",
    "\n",
    "# Print confusion matrix for training data\n",
    "y_pred_train = model.predict(dftrain)\n",
    "# Take the class with the highest probability from the train predictions\n",
    "max_y_pred_train = np.argmax(y_pred_train, axis=1)\n",
    "print(classification_report(dftrainlabels, max_y_pred_train))"
   ]
  },
  {
   "attachments": {},
   "cell_type": "markdown",
   "metadata": {},
   "source": [
    "### Checking against Testing Data"
   ]
  },
  {
   "cell_type": "code",
   "execution_count": 24,
   "metadata": {},
   "outputs": [],
   "source": [
    "\n",
    "# Set input_shape / reshape for Keras\n",
    "# dftest = dftest.reshape(dftest.shape[0], input_shape)\n",
    "\n",
    "dftest = dftest.astype('float32')\n",
    "dftestlabels = dftestlabels.astype('float32')\n",
    "\n",
    "dftestlabels_hot = np_utils.to_categorical(dftestlabels, num_classes)\n"
   ]
  },
  {
   "cell_type": "code",
   "execution_count": 25,
   "metadata": {},
   "outputs": [
    {
     "name": "stdout",
     "output_type": "stream",
     "text": [
      "New dfttrainlabels shape:  [[1. 0.]\n",
      " [1. 0.]\n",
      " [1. 0.]\n",
      " ...\n",
      " [0. 1.]\n",
      " [0. 1.]\n",
      " [0. 1.]]\n",
      "New dfttrainlabels shape:  (2100,)\n",
      "New dfttrainlabels shape:  [0. 0. 0. ... 1. 1. 1.]\n"
     ]
    }
   ],
   "source": [
    "print('New dfttrainlabels shape: ', dftestlabels_hot)\n",
    "print('New dfttrainlabels shape: ', dftestlabels.shape)\n",
    "print('New dfttrainlabels shape: ', dftestlabels)"
   ]
  },
  {
   "cell_type": "code",
   "execution_count": null,
   "metadata": {},
   "outputs": [],
   "source": [
    "# score = model_m.evaluate(dftest, dftestlabels_hot, verbose=1)\n",
    "\n",
    "# print('\\nAccuracy on test data: %0.2f' % score[1])\n",
    "# print('\\nLoss on test data: %0.2f' % score[0])"
   ]
  },
  {
   "cell_type": "code",
   "execution_count": 26,
   "metadata": {},
   "outputs": [],
   "source": [
    "# LABELS = ['Awake','Drowsy','Indeterminate']\n",
    "LABELS = ['Awake','Drowsy']"
   ]
  },
  {
   "cell_type": "code",
   "execution_count": null,
   "metadata": {},
   "outputs": [],
   "source": [
    "# metric = \"sparse_categorical_accuracy\"\n",
    "# plt.figure()\n",
    "# plt.plot(history.history[metric])\n",
    "# plt.plot(history.history[\"val_\" + metric])\n",
    "# plt.title(\"model \" + metric)\n",
    "# plt.ylabel(metric, fontsize=\"large\")\n",
    "# plt.xlabel(\"epoch\", fontsize=\"large\")\n",
    "# plt.legend([\"train\", \"val\"], loc=\"best\")\n",
    "# plt.show()\n",
    "# plt.close()"
   ]
  },
  {
   "cell_type": "code",
   "execution_count": 27,
   "metadata": {},
   "outputs": [
    {
     "name": "stdout",
     "output_type": "stream",
     "text": [
      "66/66 [==============================] - 0s 3ms/step - loss: 0.0929 - sparse_categorical_accuracy: 0.9900\n",
      "Test accuracy 0.9900000095367432\n",
      "Test loss 0.09293889254331589\n"
     ]
    }
   ],
   "source": [
    "model = keras.models.load_model(\"Early Models/best_model(single-levelv1).h5\")\n",
    "\n",
    "test_loss, test_acc = model.evaluate(dftest, dftestlabels,verbose=1)\n",
    "\n",
    "print(\"Test accuracy\", test_acc)\n",
    "print(\"Test loss\", test_loss)"
   ]
  },
  {
   "cell_type": "code",
   "execution_count": null,
   "metadata": {},
   "outputs": [],
   "source": [
    "# # Print confusion matrix for training data\n",
    "# y_pred_train = model.predict(dftest)\n",
    "# # Take the class with the highest probability from the train predictions\n",
    "# max_y_pred_train = np.argmax(y_pred_train, axis=1)\n",
    "# print(classification_report(dftestlabels, max_y_pred_train))"
   ]
  },
  {
   "cell_type": "code",
   "execution_count": 28,
   "metadata": {},
   "outputs": [
    {
     "name": "stdout",
     "output_type": "stream",
     "text": [
      "66/66 [==============================] - 0s 4ms/step\n"
     ]
    },
    {
     "data": {
      "image/png": "[encoded data removed]",
      "text/plain": [
       "<Figure size 600x400 with 2 Axes>"
      ]
     },
     "metadata": {},
     "output_type": "display_data"
    },
    {
     "name": "stdout",
     "output_type": "stream",
     "text": [
      "              precision    recall  f1-score   support\n",
      "\n",
      "           0       1.00      0.98      0.99       900\n",
      "           1       0.98      1.00      0.99      1200\n",
      "\n",
      "    accuracy                           0.99      2100\n",
      "   macro avg       0.99      0.99      0.99      2100\n",
      "weighted avg       0.99      0.99      0.99      2100\n",
      "\n"
     ]
    }
   ],
   "source": [
    "def show_confusion_matrix(validations, predictions):\n",
    "\n",
    "    matrix = metrics.confusion_matrix(validations, predictions)\n",
    "    plt.figure(figsize=(6, 4))\n",
    "    sns.heatmap(matrix,\n",
    "                cmap='coolwarm',\n",
    "                linecolor='white',\n",
    "                linewidths=1,\n",
    "                xticklabels=LABELS,\n",
    "                yticklabels=LABELS,\n",
    "                annot=True,\n",
    "                fmt='d')\n",
    "    plt.title('Confusion Matrix')\n",
    "    plt.ylabel('True Label')\n",
    "    plt.xlabel('Predicted Label')\n",
    "    plt.show()\n",
    "\n",
    "y_pred_test = model.predict(dftest)\n",
    "# Take the class with the highest probability from the test predictions\n",
    "max_y_pred_test = np.argmax(y_pred_test, axis=1)\n",
    "max_y_test = np.argmax(dftestlabels_hot, axis=1)\n",
    "\n",
    "show_confusion_matrix(max_y_test, max_y_pred_test)\n",
    "\n",
    "print(classification_report(max_y_test, max_y_pred_test))"
   ]
  },
  {
   "cell_type": "code",
   "execution_count": null,
   "metadata": {},
   "outputs": [],
   "source": [
    "# model = keras.models.load_model(\"best_model.h5\")\n",
    "# print(model.summary())"
   ]
  },
  {
   "attachments": {},
   "cell_type": "markdown",
   "metadata": {},
   "source": [
    "### ROC and AUC"
   ]
  },
  {
   "cell_type": "code",
   "execution_count": 29,
   "metadata": {},
   "outputs": [
    {
     "name": "stdout",
     "output_type": "stream",
     "text": [
      "66/66 [==============================] - 0s 3ms/step\n",
      "[[9.99878645e-01 1.21298632e-04]\n",
      " [9.99878645e-01 1.21308571e-04]\n",
      " [9.99878764e-01 1.21232144e-04]\n",
      " ...\n",
      " [1.13670573e-01 8.86329412e-01]\n",
      " [1.14180401e-01 8.85819614e-01]\n",
      " [1.14640661e-01 8.85359347e-01]]\n"
     ]
    },
    {
     "name": "stderr",
     "output_type": "stream",
     "text": [
      "C:\\Users\\admin\\AppData\\Local\\Temp\\ipykernel_22140\\3476021706.py:34: DeprecationWarning: scipy.interp is deprecated and will be removed in SciPy 2.0.0, use numpy.interp instead\n",
      "  mean_tpr += interp(all_fpr, fpr[i], tpr[i])\n"
     ]
    },
    {
     "data": {
      "image/png": "[encoded data removed]",
      "text/plain": [
       "<Figure size 640x480 with 1 Axes>"
      ]
     },
     "metadata": {},
     "output_type": "display_data"
    },
    {
     "data": {
      "image/png": "[encoded data removed]",
      "text/plain": [
       "<Figure size 640x480 with 1 Axes>"
      ]
     },
     "metadata": {},
     "output_type": "display_data"
    }
   ],
   "source": [
    "import numpy as np\n",
    "from scipy import interp\n",
    "import matplotlib.pyplot as plt\n",
    "from itertools import cycle\n",
    "from sklearn.metrics import roc_curve, auc\n",
    "\n",
    "from sklearn.metrics import roc_curve\n",
    "from sklearn.metrics import roc_auc_score\n",
    "y_scores = model.predict(dftest)\n",
    "print(y_scores)\n",
    "\n",
    "lw = 2\n",
    "\n",
    "# Compute ROC curve and ROC area for each class\n",
    "fpr = dict()\n",
    "tpr = dict()\n",
    "roc_auc = dict()\n",
    "for i in range(2):\n",
    "    fpr[i], tpr[i], _ = roc_curve(dftestlabels_hot[:, i], y_scores[:, i])\n",
    "    roc_auc[i] = auc(fpr[i], tpr[i])\n",
    "\n",
    "# Compute micro-average ROC curve and ROC area\n",
    "fpr[\"micro\"], tpr[\"micro\"], _ = roc_curve(dftestlabels_hot.ravel(), y_scores.ravel())\n",
    "roc_auc[\"micro\"] = auc(fpr[\"micro\"], tpr[\"micro\"])\n",
    "\n",
    "# Compute macro-average ROC curve and ROC area\n",
    "\n",
    "# First aggregate all false positive rates\n",
    "all_fpr = np.unique(np.concatenate([fpr[i] for i in range(2)]))\n",
    "\n",
    "# Then interpolate all ROC curves at this points\n",
    "mean_tpr = np.zeros_like(all_fpr)\n",
    "for i in range(2):\n",
    "    mean_tpr += interp(all_fpr, fpr[i], tpr[i])\n",
    "\n",
    "# Finally average it and compute AUC\n",
    "mean_tpr /= 2\n",
    "\n",
    "fpr[\"macro\"] = all_fpr\n",
    "tpr[\"macro\"] = mean_tpr\n",
    "roc_auc[\"macro\"] = auc(fpr[\"macro\"], tpr[\"macro\"])\n",
    "\n",
    "# Plot all ROC curves\n",
    "plt.figure(1)\n",
    "plt.plot(fpr[\"micro\"], tpr[\"micro\"],\n",
    "         label='micro-average ROC curve (area = {0:0.2f})'\n",
    "               ''.format(roc_auc[\"micro\"]),\n",
    "         color='deeppink', linestyle=':', linewidth=4)\n",
    "\n",
    "plt.plot(fpr[\"macro\"], tpr[\"macro\"],\n",
    "         label='macro-average ROC curve (area = {0:0.2f})'\n",
    "               ''.format(roc_auc[\"macro\"]),\n",
    "         color='navy', linestyle=':', linewidth=4)\n",
    "\n",
    "colors = cycle(['aqua', 'darkorange', 'cornflowerblue'])\n",
    "for i, color in zip(range(2), colors):\n",
    "    plt.plot(fpr[i], tpr[i], color=color, lw=lw,\n",
    "             label='ROC curve of class {0} (area = {1:0.2f})'\n",
    "             ''.format(i, roc_auc[i]))\n",
    "\n",
    "plt.plot([0, 1], [0, 1], 'k--', lw=lw)\n",
    "plt.xlim([0.0, 1.0])\n",
    "plt.ylim([0.0, 1.05])\n",
    "plt.xlabel('False Positive Rate')\n",
    "plt.ylabel('True Positive Rate')\n",
    "plt.title('Some extension of Receiver operating characteristic to multi-class')\n",
    "plt.legend(loc=\"lower right\")\n",
    "plt.show()\n",
    "\n",
    "\n",
    "# Zoom in view of the upper left corner.\n",
    "plt.figure(2)\n",
    "plt.xlim(0, 0.2)\n",
    "plt.ylim(0.8, 1)\n",
    "plt.plot(fpr[\"micro\"], tpr[\"micro\"],\n",
    "         label='micro-average ROC curve (area = {0:0.2f})'\n",
    "               ''.format(roc_auc[\"micro\"]),\n",
    "         color='deeppink', linestyle=':', linewidth=4)\n",
    "\n",
    "plt.plot(fpr[\"macro\"], tpr[\"macro\"],\n",
    "         label='macro-average ROC curve (area = {0:0.2f})'\n",
    "               ''.format(roc_auc[\"macro\"]),\n",
    "         color='navy', linestyle=':', linewidth=4)\n",
    "\n",
    "colors = cycle(['aqua', 'darkorange', 'cornflowerblue'])\n",
    "for i, color in zip(range(2), colors):\n",
    "    plt.plot(fpr[i], tpr[i], color=color, lw=lw,\n",
    "             label='ROC curve of class {0} (area = {1:0.2f})'\n",
    "             ''.format(i, roc_auc[i]))\n",
    "\n",
    "plt.plot([0, 1], [0, 1], 'k--', lw=lw)\n",
    "plt.xlabel('False Positive Rate')\n",
    "plt.ylabel('True Positive Rate')\n",
    "plt.title('Some extension of Receiver operating characteristic to multi-class')\n",
    "plt.legend(loc=\"lower right\")\n",
    "plt.show()"
   ]
  }
 ],
 "metadata": {
  "kernelspec": {
   "display_name": "Python 3",
   "language": "python",
   "name": "python3"
  },
  "language_info": {
   "codemirror_mode": {
    "name": "ipython",
    "version": 3
   },
   "file_extension": ".py",
   "mimetype": "text/x-python",
   "name": "python",
   "nbconvert_exporter": "python",
   "pygments_lexer": "ipython3",
   "version": "3.10.8"
  },
  "orig_nbformat": 4,
  "vscode": {
   "interpreter": {
    "hash": "26de051ba29f2982a8de78e945f0abaf191376122a1563185a90213a26c5da77"
   }
  }
 },
 "nbformat": 4,
 "nbformat_minor": 2
}
