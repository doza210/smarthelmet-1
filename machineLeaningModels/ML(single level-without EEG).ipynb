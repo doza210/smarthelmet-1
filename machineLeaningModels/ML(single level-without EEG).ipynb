{
 "cells": [
  {
   "attachments": {},
   "cell_type": "markdown",
   "metadata": {},
   "source": [
    "### MODEL FOR PERCLOS NEURAL NET"
   ]
  },
  {
   "cell_type": "code",
   "execution_count": 1,
   "metadata": {},
   "outputs": [],
   "source": [
    "from __future__ import print_function\n",
    "from matplotlib import pyplot as plt\n",
    "import numpy as np\n",
    "import pandas as pd\n",
    "import seaborn as sns\n",
    "from scipy import stats\n",
    "from IPython.display import display, HTML\n",
    "\n",
    "from sklearn import metrics\n",
    "from sklearn.metrics import classification_report\n",
    "from sklearn import preprocessing\n",
    "\n",
    "import keras\n",
    "from keras.models import Sequential\n",
    "from keras.layers import Dense, Dropout, Flatten, Reshape\n",
    "from keras.layers import Conv2D, MaxPooling2D\n",
    "from keras.utils import np_utils\n",
    "from keras.layers import BatchNormalization\n",
    "from keras.optimizers import Adam\n",
    "from keras import backend as K"
   ]
  },
  {
   "attachments": {},
   "cell_type": "markdown",
   "metadata": {},
   "source": [
    "### GETTING Data"
   ]
  },
  {
   "cell_type": "code",
   "execution_count": 2,
   "metadata": {},
   "outputs": [],
   "source": [
    "# dfAwake_train = pd.read_csv('Data/Data for 2nd Level Classification/training2_AData.txt', header=None, delim_whitespace=True)\n",
    "# dfDrowsy_train = pd.read_csv('Data/Data for 2nd Level Classification/training2_DData.txt', header=None, delim_whitespace=True)\n",
    "# dfAwake_test = pd.read_csv('Data/Data for 2nd Level Classification/testing2_AData.txt', header=None, delim_whitespace=True)\n",
    "# dfDrowsy_test = pd.read_csv('Data/Data for 2nd Level Classification/testing2_DData.txt', header=None, delim_whitespace=True)\n",
    "\n",
    "# Validation Data plus Testing Data\n",
    "# dfAwake_train1 = pd.read_csv('Data/Validation/validation_AData.txt', header=None, delim_whitespace=True)\n",
    "# dfDrowsy_train1 = pd.read_csv('Data/Validation/validation_DData.txt', header=None, delim_whitespace=True)\n",
    "# dfAwake_train2 = pd.read_csv('Data/Data for 2nd Level Classification/testing2_AData.txt', header=None, delim_whitespace=True)\n",
    "# dfDrowsy_train2 = pd.read_csv('Data/Data for 2nd Level Classification/testing2_DData.txt', header=None, delim_whitespace=True)\n",
    "\n",
    "# Validation Data Only\n",
    "dfAwake_train = pd.read_csv('Data/Validation/validation_AData.txt', header=None, delim_whitespace=True)\n",
    "dfDrowsy_train = pd.read_csv('Data/Validation/validation_DData.txt', header=None, delim_whitespace=True)"
   ]
  },
  {
   "cell_type": "code",
   "execution_count": 3,
   "metadata": {},
   "outputs": [],
   "source": [
    "# Awake_frames = [dfAwake_train1, dfAwake_train2]\n",
    "# Drowsy_frames = [dfDrowsy_train1, dfDrowsy_train2]\n",
    "# dfAwake_train = pd.concat(Awake_frames)\n",
    "# dfDrowsy_train = pd.concat(Drowsy_frames)"
   ]
  },
  {
   "attachments": {},
   "cell_type": "markdown",
   "metadata": {},
   "source": [
    "### Printing Retrieved Data informations"
   ]
  },
  {
   "cell_type": "code",
   "execution_count": 4,
   "metadata": {},
   "outputs": [
    {
     "name": "stdout",
     "output_type": "stream",
     "text": [
      "(1620000, 15)\n",
      "(1620000, 15)\n"
     ]
    }
   ],
   "source": [
    "print(dfAwake_train.shape)\n",
    "print(dfDrowsy_train.shape)\n",
    "# print(dfAwake_test.shape)\n",
    "# print(dfDrowsy_test.shape)"
   ]
  },
  {
   "attachments": {},
   "cell_type": "markdown",
   "metadata": {},
   "source": [
    "### Dropping Not Needed Columns"
   ]
  },
  {
   "cell_type": "code",
   "execution_count": 5,
   "metadata": {},
   "outputs": [],
   "source": [
    "dfAwake_train = dfAwake_train.drop(11,axis = 1)\n",
    "dfAwake_train = dfAwake_train.drop(dfAwake_train.iloc[:,0:11],axis = 1)\n",
    "dfDrowsy_train = dfDrowsy_train.drop(11,axis = 1)\n",
    "dfDrowsy_train = dfDrowsy_train.drop(dfDrowsy_train.iloc[:,0:11],axis = 1)\n",
    "# dfAwake_test = dfAwake_test.drop(11,axis = 1)\n",
    "# dfAwake_test = dfAwake_test.drop(dfAwake_test.iloc[:,0:11],axis = 1)\n",
    "# dfDrowsy_test = dfDrowsy_test.drop(11,axis = 1)\n",
    "# dfDrowsy_test = dfDrowsy_test.drop(dfDrowsy_test.iloc[:,0:11],axis = 1)"
   ]
  },
  {
   "cell_type": "code",
   "execution_count": 6,
   "metadata": {},
   "outputs": [
    {
     "name": "stdout",
     "output_type": "stream",
     "text": [
      "(1620000, 3)\n",
      "(1620000, 3)\n"
     ]
    }
   ],
   "source": [
    "print(dfAwake_train.shape)\n",
    "print(dfDrowsy_train.shape)\n",
    "# print(dfAwake_test.shape)\n",
    "# print(dfDrowsy_test.shape)"
   ]
  },
  {
   "attachments": {},
   "cell_type": "markdown",
   "metadata": {},
   "source": [
    "### RESHAPING DATA"
   ]
  },
  {
   "cell_type": "code",
   "execution_count": 7,
   "metadata": {},
   "outputs": [],
   "source": [
    "dfAwake_train = dfAwake_train.to_numpy()\n",
    "dfDrowsy_train = dfDrowsy_train.to_numpy()\n",
    "dfAwake_train = dfAwake_train.reshape(1800,900,3)\n",
    "dfDrowsy_train = dfDrowsy_train.reshape(1800,900,3)\n",
    "# dfAwake_test = dfAwake_test.to_numpy()\n",
    "# dfDrowsy_test = dfDrowsy_test.to_numpy()\n",
    "# dfAwake_test = dfAwake_test.reshape(900,900,3)\n",
    "# dfDrowsy_test = dfDrowsy_test.reshape(1200,900,3)"
   ]
  },
  {
   "cell_type": "code",
   "execution_count": 8,
   "metadata": {},
   "outputs": [
    {
     "name": "stdout",
     "output_type": "stream",
     "text": [
      "(1800, 900, 3)\n",
      "(1800, 900, 3)\n"
     ]
    }
   ],
   "source": [
    "print(dfAwake_train.shape)\n",
    "print(dfDrowsy_train.shape)\n",
    "# print(dfAwake_test.shape)\n",
    "# print(dfDrowsy_test.shape)\n",
    "# print(dfAwake_train)\n",
    "# print(dfDrowsy_train)"
   ]
  },
  {
   "attachments": {},
   "cell_type": "markdown",
   "metadata": {},
   "source": [
    "### CREATING LABELS"
   ]
  },
  {
   "cell_type": "code",
   "execution_count": 9,
   "metadata": {},
   "outputs": [
    {
     "name": "stdout",
     "output_type": "stream",
     "text": [
      "(1800,)\n",
      "(1800,)\n"
     ]
    }
   ],
   "source": [
    "dfAwake_trainLabels = np.zeros(1800)\n",
    "print(dfAwake_trainLabels.shape)\n",
    "dfDrowsy_trainLabels = np.ones(1800)\n",
    "print(dfDrowsy_trainLabels.shape)\n",
    "# dfAwake_testLabels = np.zeros(900)\n",
    "# print(dfAwake_testLabels.shape)\n",
    "# dfDrowsy_testLabels = np.ones(1200)\n",
    "# print(dfDrowsy_testLabels.shape)"
   ]
  },
  {
   "cell_type": "code",
   "execution_count": 10,
   "metadata": {},
   "outputs": [
    {
     "name": "stdout",
     "output_type": "stream",
     "text": [
      "[0. 0. 0. ... 0. 0. 0.]\n",
      "[1. 1. 1. ... 1. 1. 1.]\n"
     ]
    }
   ],
   "source": [
    "print(dfAwake_trainLabels)\n",
    "print(dfDrowsy_trainLabels)\n",
    "# print(dfAwake_testLabels)\n",
    "# print(dfDrowsy_testLabels)"
   ]
  },
  {
   "attachments": {},
   "cell_type": "markdown",
   "metadata": {},
   "source": [
    "### Combining Awake Data and Drowsy Data"
   ]
  },
  {
   "cell_type": "code",
   "execution_count": 11,
   "metadata": {},
   "outputs": [
    {
     "name": "stdout",
     "output_type": "stream",
     "text": [
      "(3600, 900, 3)\n",
      "(3600,)\n",
      "[[[-2.79859103e-02  4.19391146e-02  4.77777800e+00]\n",
      "  [-2.06010176e-02  5.79664893e-02  4.77777800e+00]\n",
      "  [ 2.63604420e-02  8.98068149e-03  4.77777800e+00]\n",
      "  ...\n",
      "  [ 1.53091817e-02 -3.98974481e-02  4.55555500e+00]\n",
      "  [ 3.75500827e-02 -2.22858040e-03  4.55555500e+00]\n",
      "  [ 2.24502029e-02  3.17779331e-02  4.55555500e+00]]\n",
      "\n",
      " [[-2.06010176e-02  5.79664893e-02  4.77777800e+00]\n",
      "  [ 2.63604420e-02  8.98068149e-03  4.77777800e+00]\n",
      "  [ 5.50962085e-02 -7.21536579e-02  4.77777800e+00]\n",
      "  ...\n",
      "  [ 3.75500827e-02 -2.22858040e-03  4.55555500e+00]\n",
      "  [ 2.24502029e-02  3.17779331e-02  4.55555500e+00]\n",
      "  [-5.28714580e-04  3.81005612e-02  4.55555500e+00]]\n",
      "\n",
      " [[ 2.63604420e-02  8.98068149e-03  4.77777800e+00]\n",
      "  [ 5.50962085e-02 -7.21536579e-02  4.77777800e+00]\n",
      "  [ 6.09831295e-02 -1.14505984e-02  5.00000000e+00]\n",
      "  ...\n",
      "  [ 2.24502029e-02  3.17779331e-02  4.55555500e+00]\n",
      "  [-5.28714580e-04  3.81005612e-02  4.55555500e+00]\n",
      "  [ 1.10392899e-03  1.17459408e-02  4.55555500e+00]]\n",
      "\n",
      " ...\n",
      "\n",
      " [[-2.23714440e-03  2.26280453e-03  6.66666700e+00]\n",
      "  [ 7.45688783e-03 -1.63380953e-03  6.66666700e+00]\n",
      "  [ 9.58264830e-03 -3.21464133e-05  6.66666700e+00]\n",
      "  ...\n",
      "  [-6.02242948e-03  2.51260449e-02  1.48888880e+01]\n",
      "  [-8.68710956e-03 -1.14314314e-02  1.48888880e+01]\n",
      "  [-7.15178086e-03  1.07441087e-02  1.44444450e+01]]\n",
      "\n",
      " [[ 7.45688783e-03 -1.63380953e-03  6.66666700e+00]\n",
      "  [ 9.58264830e-03 -3.21464133e-05  6.66666700e+00]\n",
      "  [ 7.43388734e-03  6.84701481e-03  6.66666700e+00]\n",
      "  ...\n",
      "  [-8.68710956e-03 -1.14314314e-02  1.48888880e+01]\n",
      "  [-7.15178086e-03  1.07441087e-02  1.44444450e+01]\n",
      "  [-9.86629369e-03 -6.31827212e-03  1.41111110e+01]]\n",
      "\n",
      " [[ 9.58264830e-03 -3.21464133e-05  6.66666700e+00]\n",
      "  [ 7.43388734e-03  6.84701481e-03  6.66666700e+00]\n",
      "  [ 1.08605860e-02  1.96282090e-02  6.66666700e+00]\n",
      "  ...\n",
      "  [-7.15178086e-03  1.07441087e-02  1.44444450e+01]\n",
      "  [-9.86629369e-03 -6.31827212e-03  1.41111110e+01]\n",
      "  [-2.06272204e-02 -1.06063092e-02  1.40000000e+01]]]\n",
      "[0. 0. 0. ... 1. 1. 1.]\n"
     ]
    }
   ],
   "source": [
    "dftrain = np.concatenate((dfAwake_train, dfDrowsy_train))\n",
    "dftrainlabels =np.concatenate((dfAwake_trainLabels, dfDrowsy_trainLabels))\n",
    "# dftrain = dfAwake_train\n",
    "# dftrainlabels = dfAwake_trainLabels\n",
    "print(dftrain.shape)\n",
    "print(dftrainlabels.shape)\n",
    "print(dftrain)\n",
    "print(dftrainlabels)"
   ]
  },
  {
   "attachments": {},
   "cell_type": "markdown",
   "metadata": {},
   "source": [
    "### SHUFFLING DATA"
   ]
  },
  {
   "cell_type": "code",
   "execution_count": 12,
   "metadata": {},
   "outputs": [
    {
     "name": "stdout",
     "output_type": "stream",
     "text": [
      "[  76 1982 2584 ... 3259 2217 3065]\n"
     ]
    }
   ],
   "source": [
    "idx = np.random.permutation(len(dftrainlabels))\n",
    "print(idx)"
   ]
  },
  {
   "cell_type": "code",
   "execution_count": 13,
   "metadata": {},
   "outputs": [],
   "source": [
    "dftrain=dftrain[idx]\n",
    "dftrainlabels=dftrainlabels[idx]"
   ]
  },
  {
   "cell_type": "code",
   "execution_count": 14,
   "metadata": {},
   "outputs": [
    {
     "name": "stdout",
     "output_type": "stream",
     "text": [
      "(3600, 900, 3)\n",
      "(3600,)\n",
      "[[[ 1.95766208e-03  7.30325887e-03  5.44444400e+00]\n",
      "  [-8.44750262e-03 -1.44311776e-02  5.44444400e+00]\n",
      "  [-2.01248049e-03 -2.08245877e-02  5.44444400e+00]\n",
      "  ...\n",
      "  [ 5.49808782e-03 -7.56827208e-03  4.44444500e+00]\n",
      "  [ 2.13633501e-02 -4.05770137e-02  4.44444500e+00]\n",
      "  [-1.87128423e-02 -2.95177755e-03  4.44444500e+00]]\n",
      "\n",
      " [[ 1.83766299e-02  1.39344454e-02  6.66666700e+00]\n",
      "  [ 1.58566714e-02 -1.33048855e-03  6.66666700e+00]\n",
      "  [ 1.92426064e-02  5.25174860e-03  6.88888900e+00]\n",
      "  ...\n",
      "  [ 2.48086271e-02  9.13050126e-05  3.00000000e+00]\n",
      "  [ 4.79397064e-02 -1.35131275e-02  3.00000000e+00]\n",
      "  [ 6.01115662e-02 -2.19802351e-02  3.00000000e+00]]\n",
      "\n",
      " [[ 4.34950065e-03  3.18286937e-05  8.55555500e+00]\n",
      "  [-7.29113624e-03  9.99300143e-04  8.55555500e+00]\n",
      "  [-2.38130413e-03  2.63922241e-04  8.77777800e+00]\n",
      "  ...\n",
      "  [ 7.12875519e-03  8.63658803e-03  1.18888890e+01]\n",
      "  [ 7.04022845e-03 -1.01600542e-02  1.18888890e+01]\n",
      "  [ 3.74283066e-03 -1.15434792e-02  1.18888890e+01]]\n",
      "\n",
      " ...\n",
      "\n",
      " [[ 3.07410057e-03 -2.48481331e-03  6.00000000e+00]\n",
      "  [ 7.01727654e-03  7.05971585e-03  6.00000000e+00]\n",
      "  [ 1.19404972e-03  8.15970591e-03  6.00000000e+00]\n",
      "  ...\n",
      "  [ 9.42197882e-03  7.88867535e-03  8.11111100e+00]\n",
      "  [ 1.59634167e-02  8.27728442e-04  8.11111100e+00]\n",
      "  [ 1.22171149e-02 -4.52973866e-03  8.11111100e+00]]\n",
      "\n",
      " [[ 6.80208981e-03 -4.87206652e-02  2.77777800e+00]\n",
      "  [ 7.95724984e-03  6.63835115e-03  2.77777800e+00]\n",
      "  [-6.07836187e-03  1.82486745e-02  2.77777800e+00]\n",
      "  ...\n",
      "  [ 1.85898927e-02  1.37225072e-02  2.00000000e+00]\n",
      "  [ 7.41658463e-03  2.36865122e-02  2.11111100e+00]\n",
      "  [ 2.91197739e-04  1.17223863e-02  2.11111100e+00]]\n",
      "\n",
      " [[-3.60403128e-03 -2.89635582e-03  5.44444400e+00]\n",
      "  [-1.51773620e-02  1.60871548e-02  5.44444400e+00]\n",
      "  [ 1.74971923e-02  5.84575358e-03  5.44444400e+00]\n",
      "  ...\n",
      "  [-8.14580781e-03  1.34123874e-02  2.70000020e+01]\n",
      "  [ 6.90209722e-04  2.23604391e-02  2.71111110e+01]\n",
      "  [-1.99436423e-02 -4.03395470e-03  2.74444430e+01]]]\n",
      "[0. 1. 1. ... 1. 1. 1.]\n"
     ]
    }
   ],
   "source": [
    "print(dftrain.shape)\n",
    "print(dftrainlabels.shape)\n",
    "print(dftrain)\n",
    "print(dftrainlabels)"
   ]
  },
  {
   "cell_type": "code",
   "execution_count": 15,
   "metadata": {},
   "outputs": [],
   "source": [
    "# dftest = np.concatenate((dfAwake_test, dfDrowsy_test))\n",
    "# dftestlabels =np.concatenate((dfAwake_testLabels, dfDrowsy_testLabels))\n",
    "# print(dftest.shape)\n",
    "# print(dftestlabels.shape)\n",
    "# print(dftest)\n",
    "# print(dftestlabels)"
   ]
  },
  {
   "cell_type": "code",
   "execution_count": 16,
   "metadata": {},
   "outputs": [],
   "source": [
    "# print(dftest.shape)\n",
    "# print(dftestlabels.shape)\n",
    "# print(dftrain.shape)\n",
    "# print(dftrainlabels.shape)"
   ]
  },
  {
   "attachments": {},
   "cell_type": "markdown",
   "metadata": {},
   "source": [
    "### Set input and output dimensions"
   ]
  },
  {
   "cell_type": "code",
   "execution_count": 17,
   "metadata": {},
   "outputs": [
    {
     "name": "stdout",
     "output_type": "stream",
     "text": [
      "dftrain shape: (3600, 900, 3)\n",
      "input_shape: 2700\n"
     ]
    }
   ],
   "source": [
    "input_shape = 900*3\n",
    "num_classes = 2\n",
    "print('dftrain shape:', dftrain.shape)\n",
    "print('input_shape:', input_shape)"
   ]
  },
  {
   "cell_type": "code",
   "execution_count": 18,
   "metadata": {},
   "outputs": [],
   "source": [
    "dftrain = dftrain.astype('float32')\n",
    "dftrainlabels = dftrainlabels.astype('float32')"
   ]
  },
  {
   "cell_type": "code",
   "execution_count": 19,
   "metadata": {},
   "outputs": [
    {
     "name": "stdout",
     "output_type": "stream",
     "text": [
      "New dfttrainlabels shape:  [[1. 0.]\n",
      " [0. 1.]\n",
      " [0. 1.]\n",
      " ...\n",
      " [0. 1.]\n",
      " [0. 1.]\n",
      " [0. 1.]]\n"
     ]
    }
   ],
   "source": [
    "dftrainlabels_hot = np_utils.to_categorical(dftrainlabels,num_classes)\n",
    "print('New dfttrainlabels shape: ', dftrainlabels_hot)"
   ]
  },
  {
   "cell_type": "code",
   "execution_count": 20,
   "metadata": {},
   "outputs": [
    {
     "name": "stdout",
     "output_type": "stream",
     "text": [
      "New dfttrainlabels shape:  (3600, 2)\n",
      "[0. 1. 1. ... 1. 1. 1.]\n"
     ]
    }
   ],
   "source": [
    "print('New dfttrainlabels shape: ', dftrainlabels_hot.shape)\n",
    "print(dftrainlabels)"
   ]
  },
  {
   "cell_type": "code",
   "execution_count": 21,
   "metadata": {},
   "outputs": [
    {
     "name": "stdout",
     "output_type": "stream",
     "text": [
      "(3600, 900, 3)\n",
      "(3600,)\n"
     ]
    }
   ],
   "source": [
    "print(dftrain.shape)\n",
    "print(dftrainlabels.shape)"
   ]
  },
  {
   "cell_type": "code",
   "execution_count": 22,
   "metadata": {},
   "outputs": [],
   "source": [
    "LABELS = ['Awake','Drowsy']"
   ]
  },
  {
   "cell_type": "code",
   "execution_count": 23,
   "metadata": {},
   "outputs": [
    {
     "name": "stdout",
     "output_type": "stream",
     "text": [
      "113/113 [==============================] - 1s 6ms/step - loss: 0.3992 - sparse_categorical_accuracy: 0.7417\n",
      "Test accuracy 0.7416666746139526\n",
      "Test loss 0.399169385433197\n",
      "113/113 [==============================] - 1s 6ms/step\n",
      "              precision    recall  f1-score   support\n",
      "\n",
      "         0.0       0.78      0.67      0.72      1800\n",
      "         1.0       0.71      0.82      0.76      1800\n",
      "\n",
      "    accuracy                           0.74      3600\n",
      "   macro avg       0.75      0.74      0.74      3600\n",
      "weighted avg       0.75      0.74      0.74      3600\n",
      "\n"
     ]
    }
   ],
   "source": [
    "model = keras.models.load_model(\"best_model(single-level(withouteegv2)).h5\")\n",
    "\n",
    "test_loss, test_acc = model.evaluate(dftrain, dftrainlabels,verbose=1)\n",
    "\n",
    "print(\"Test accuracy\", test_acc)\n",
    "print(\"Test loss\", test_loss)\n",
    "\n",
    "max_y_train = np.argmax(dftrainlabels_hot, axis=1)\n",
    "\n",
    "# Print confusion matrix for training data\n",
    "y_pred_train = model.predict(dftrain)\n",
    "# Take the class with the highest probability from the train predictions\n",
    "max_y_pred_train = np.argmax(y_pred_train, axis=1)\n",
    "print(classification_report(dftrainlabels, max_y_pred_train))"
   ]
  },
  {
   "cell_type": "code",
   "execution_count": 24,
   "metadata": {},
   "outputs": [
    {
     "data": {
      "image/png": "[encoded data removed]",
      "text/plain": [
       "<Figure size 600x400 with 2 Axes>"
      ]
     },
     "metadata": {},
     "output_type": "display_data"
    }
   ],
   "source": [
    "def show_confusion_matrix(validations, predictions):\n",
    "\n",
    "    matrix = metrics.confusion_matrix(validations, predictions)\n",
    "    plt.figure(figsize=(6, 4))\n",
    "    sns.heatmap(matrix,\n",
    "                cmap='coolwarm',\n",
    "                linecolor='white',\n",
    "                linewidths=1,\n",
    "                xticklabels=LABELS,\n",
    "                yticklabels=LABELS,\n",
    "                annot=True,\n",
    "                fmt='d')\n",
    "    plt.title('Confusion Matrix')\n",
    "    plt.ylabel('True Label')\n",
    "    plt.xlabel('Predicted Label')\n",
    "    plt.show()\n",
    "\n",
    "show_confusion_matrix(max_y_train, max_y_pred_train)"
   ]
  },
  {
   "attachments": {},
   "cell_type": "markdown",
   "metadata": {},
   "source": [
    "### Building the MODEL"
   ]
  },
  {
   "cell_type": "code",
   "execution_count": null,
   "metadata": {},
   "outputs": [],
   "source": [
    "def make_model(input_shape):\n",
    "    input_layer = keras.layers.Input(input_shape)\n",
    "\n",
    "    conv1 = keras.layers.Conv1D(filters=64, kernel_size=3, padding=\"same\")(input_layer)\n",
    "    conv1 = keras.layers.BatchNormalization()(conv1)\n",
    "    conv1 = keras.layers.ReLU()(conv1)\n",
    "\n",
    "    conv2 = keras.layers.Conv1D(filters=64, kernel_size=3, padding=\"same\")(conv1)\n",
    "    conv2 = keras.layers.BatchNormalization()(conv2)\n",
    "    conv2 = keras.layers.ReLU()(conv2)\n",
    "\n",
    "    gap = keras.layers.GlobalAveragePooling1D()(conv2)\n",
    "\n",
    "    output_layer = keras.layers.Dense(num_classes, activation=\"softmax\")(gap)\n",
    "\n",
    "    return keras.models.Model(inputs=input_layer, outputs=output_layer)\n",
    "\n",
    "\n",
    "model = make_model(input_shape=dftrain.shape[1:])\n",
    "keras.utils.plot_model(model, show_shapes=True)"
   ]
  },
  {
   "cell_type": "code",
   "execution_count": null,
   "metadata": {},
   "outputs": [],
   "source": [
    "# dftrain = dftrain.reshape(dftrain.shape[0],input_shape)\n",
    "# model = Sequential()\n",
    "# # Remark: since coreml cannot accept vector shapes of complex shape like\n",
    "# # [80,3] this workaround is used in order to reshape the vector internally\n",
    "# # prior feeding it into the network\n",
    "# model.add(Reshape((900, 3), input_shape=(input_shape,)))\n",
    "# model.add(Dense(25, activation='relu'))\n",
    "# # # model_m.add(BatchNormalization()) # V2 addition\n",
    "# # model_m.add(Dense(100, activation='relu'))\n",
    "# # # model_m.add(BatchNormalization()) # V2 addition\n",
    "# # model_m.add(Dense(100, activation='relu'))\n",
    "# # # model_m.add(BatchNormalization()) # V2 addition \n",
    "# model.add(Flatten())\n",
    "# model.add(Dense(num_classes, activation='softmax'))\n",
    "# keras.utils.plot_model(model, show_shapes=True)\n",
    "# # print(model.summary())"
   ]
  },
  {
   "attachments": {},
   "cell_type": "markdown",
   "metadata": {},
   "source": [
    "### FITTING Deep neural network Model in KERAS"
   ]
  },
  {
   "cell_type": "code",
   "execution_count": null,
   "metadata": {},
   "outputs": [],
   "source": [
    "epochs = 100\n",
    "batch_size = 540 #540\n",
    "\n",
    "callbacks = [\n",
    "    keras.callbacks.ModelCheckpoint(\n",
    "        \"best_model(single-level(withouteeg)).h5\", save_best_only=True, monitor=\"val_loss\"\n",
    "    ),\n",
    "    keras.callbacks.ReduceLROnPlateau(\n",
    "        monitor=\"val_loss\", factor=0.5, patience=5, min_lr=0.0001\n",
    "    ),\n",
    "    keras.callbacks.EarlyStopping(monitor=\"val_loss\", patience=12, verbose=1),\n",
    "]\n",
    "optimizer = keras.optimizers.Adam(learning_rate=0.001)\n",
    "model.compile(\n",
    "    optimizer=optimizer,\n",
    "    loss=\"sparse_categorical_crossentropy\",\n",
    "    metrics=[\"sparse_categorical_accuracy\"],\n",
    ")\n",
    "# model.compile(\n",
    "#     optimizer=optimizer,\n",
    "#     loss=\"categorical_crossentropy\",\n",
    "#     metrics=[\"accuracy\"],\n",
    "# )\n",
    "history = model.fit(\n",
    "    dftrain,\n",
    "    dftrainlabels,\n",
    "    batch_size=batch_size,\n",
    "    epochs=epochs,\n",
    "    callbacks=callbacks,\n",
    "    validation_split=0.4,\n",
    "    verbose=1,\n",
    ")\n",
    "# history = model.fit(\n",
    "#     dftrain,\n",
    "#     dftrainlabels_hot,\n",
    "#     batch_size=batch_size,\n",
    "#     epochs=epochs,\n",
    "#     callbacks=callbacks,\n",
    "#     validation_split=0.4,\n",
    "#     verbose=1,\n",
    "# )"
   ]
  },
  {
   "cell_type": "code",
   "execution_count": null,
   "metadata": {},
   "outputs": [],
   "source": [
    "# plt.figure(figsize=(6, 4))\n",
    "# plt.plot(history.history['accuracy'], 'r', label='Accuracy of training data')\n",
    "# plt.plot(history.history['val_accuracy'], 'b', label='Accuracy of validation data')\n",
    "# plt.plot(history.history['loss'], 'r--', label='Loss of training data')\n",
    "# plt.plot(history.history['val_loss'], 'b--', label='Loss of validation data')\n",
    "# plt.title('Model Accuracy and Loss')\n",
    "# plt.ylabel('Accuracy and Loss')\n",
    "# plt.xlabel('Training Epoch')\n",
    "# plt.ylim(0)\n",
    "# plt.legend()\n",
    "# plt.show()\n",
    "\n",
    "metric = \"sparse_categorical_accuracy\"\n",
    "plt.figure()\n",
    "plt.plot(history.history[metric])\n",
    "plt.plot(history.history[\"val_\" + metric])\n",
    "plt.plot(history.history['loss'], 'r--', label='Loss of training data')\n",
    "plt.plot(history.history['val_loss'], 'b--', label='Loss of validation data')\n",
    "plt.title(\"model \" + metric)\n",
    "plt.ylabel(metric, fontsize=\"large\")\n",
    "plt.xlabel(\"epoch\", fontsize=\"large\")\n",
    "plt.legend([\"train\", \"val\",\"loss\",\"val_loss\"], loc=\"best\")\n",
    "plt.show()\n",
    "plt.close()\n",
    "\n",
    "# Print confusion matrix for training data\n",
    "y_pred_train = model.predict(dftrain)\n",
    "# Take the class with the highest probability from the train predictions\n",
    "max_y_pred_train = np.argmax(y_pred_train, axis=1)\n",
    "print(classification_report(dftrainlabels, max_y_pred_train))"
   ]
  },
  {
   "attachments": {},
   "cell_type": "markdown",
   "metadata": {},
   "source": [
    "### Checking against Testing Data"
   ]
  },
  {
   "cell_type": "code",
   "execution_count": null,
   "metadata": {},
   "outputs": [],
   "source": [
    "\n",
    "# Set input_shape / reshape for Keras\n",
    "# dftest = dftest.reshape(dftest.shape[0], input_shape)\n",
    "\n",
    "dftest = dftest.astype('float32')\n",
    "dftestlabels = dftestlabels.astype('float32')\n",
    "\n",
    "dftestlabels_hot = np_utils.to_categorical(dftestlabels, num_classes)\n"
   ]
  },
  {
   "cell_type": "code",
   "execution_count": null,
   "metadata": {},
   "outputs": [],
   "source": [
    "print('New dfttrainlabels shape: ', dftestlabels_hot)\n",
    "print('New dfttrainlabels shape: ', dftestlabels.shape)\n",
    "print('New dfttrainlabels shape: ', dftestlabels)"
   ]
  },
  {
   "cell_type": "code",
   "execution_count": null,
   "metadata": {},
   "outputs": [],
   "source": [
    "# score = model_m.evaluate(dftest, dftestlabels_hot, verbose=1)\n",
    "\n",
    "# print('\\nAccuracy on test data: %0.2f' % score[1])\n",
    "# print('\\nLoss on test data: %0.2f' % score[0])"
   ]
  },
  {
   "cell_type": "code",
   "execution_count": null,
   "metadata": {},
   "outputs": [],
   "source": [
    "# metric = \"sparse_categorical_accuracy\"\n",
    "# plt.figure()\n",
    "# plt.plot(history.history[metric])\n",
    "# plt.plot(history.history[\"val_\" + metric])\n",
    "# plt.title(\"model \" + metric)\n",
    "# plt.ylabel(metric, fontsize=\"large\")\n",
    "# plt.xlabel(\"epoch\", fontsize=\"large\")\n",
    "# plt.legend([\"train\", \"val\"], loc=\"best\")\n",
    "# plt.show()\n",
    "# plt.close()"
   ]
  },
  {
   "cell_type": "code",
   "execution_count": null,
   "metadata": {},
   "outputs": [],
   "source": [
    "model = keras.models.load_model(\"best_model(single-level(withouteeg)).h5\")\n",
    "\n",
    "test_loss, test_acc = model.evaluate(dftest, dftestlabels,verbose=1)\n",
    "\n",
    "print(\"Test accuracy\", test_acc)\n",
    "print(\"Test loss\", test_loss)\n",
    "\n",
    "# dftest = dftest.reshape(dftest.shape[0],input_shape)\n",
    "\n",
    "# test_loss, test_acc = model.evaluate(dftest, dftestlabels_hot,verbose=1)\n",
    "\n",
    "# print(\"Test accuracy\", test_acc)\n",
    "# print(\"Test loss\", test_loss)"
   ]
  },
  {
   "cell_type": "code",
   "execution_count": null,
   "metadata": {},
   "outputs": [],
   "source": [
    "# # Print confusion matrix for training data\n",
    "# y_pred_train = model.predict(dftest)\n",
    "# # Take the class with the highest probability from the train predictions\n",
    "# max_y_pred_train = np.argmax(y_pred_train, axis=1)\n",
    "# print(classification_report(dftestlabels, max_y_pred_train))"
   ]
  },
  {
   "cell_type": "code",
   "execution_count": null,
   "metadata": {},
   "outputs": [],
   "source": [
    "def show_confusion_matrix(validations, predictions):\n",
    "\n",
    "    matrix = metrics.confusion_matrix(validations, predictions)\n",
    "    plt.figure(figsize=(6, 4))\n",
    "    sns.heatmap(matrix,\n",
    "                cmap='coolwarm',\n",
    "                linecolor='white',\n",
    "                linewidths=1,\n",
    "                xticklabels=LABELS,\n",
    "                yticklabels=LABELS,\n",
    "                annot=True,\n",
    "                fmt='d')\n",
    "    plt.title('Confusion Matrix')\n",
    "    plt.ylabel('True Label')\n",
    "    plt.xlabel('Predicted Label')\n",
    "    plt.show()\n",
    "\n",
    "y_pred_test = model.predict(dftest)\n",
    "# Take the class with the highest probability from the test predictions\n",
    "max_y_pred_test = np.argmax(y_pred_test, axis=1)\n",
    "max_y_test = np.argmax(dftestlabels_hot, axis=1)\n",
    "\n",
    "show_confusion_matrix(max_y_test, max_y_pred_test)\n",
    "\n",
    "print(classification_report(max_y_test, max_y_pred_test))"
   ]
  },
  {
   "cell_type": "code",
   "execution_count": null,
   "metadata": {},
   "outputs": [],
   "source": [
    "# model = keras.models.load_model(\"best_model.h5\")\n",
    "# print(model.summary())"
   ]
  }
 ],
 "metadata": {
  "kernelspec": {
   "display_name": "Python 3",
   "language": "python",
   "name": "python3"
  },
  "language_info": {
   "codemirror_mode": {
    "name": "ipython",
    "version": 3
   },
   "file_extension": ".py",
   "mimetype": "text/x-python",
   "name": "python",
   "nbconvert_exporter": "python",
   "pygments_lexer": "ipython3",
   "version": "3.10.8 (tags/v3.10.8:aaaf517, Oct 11 2022, 16:50:30) [MSC v.1933 64 bit (AMD64)]"
  },
  "orig_nbformat": 4,
  "vscode": {
   "interpreter": {
    "hash": "26de051ba29f2982a8de78e945f0abaf191376122a1563185a90213a26c5da77"
   }
  }
 },
 "nbformat": 4,
 "nbformat_minor": 2
}
