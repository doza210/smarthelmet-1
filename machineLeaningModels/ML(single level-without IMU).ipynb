{
 "cells": [
  {
   "attachments": {},
   "cell_type": "markdown",
   "metadata": {},
   "source": [
    "### MODEL FOR PERCLOS NEURAL NET"
   ]
  },
  {
   "cell_type": "code",
   "execution_count": 1,
   "metadata": {},
   "outputs": [],
   "source": [
    "from __future__ import print_function\n",
    "from matplotlib import pyplot as plt\n",
    "import numpy as np\n",
    "import pandas as pd\n",
    "import seaborn as sns\n",
    "from scipy import stats\n",
    "from IPython.display import display, HTML\n",
    "\n",
    "from sklearn import metrics\n",
    "from sklearn.metrics import classification_report\n",
    "from sklearn import preprocessing\n",
    "\n",
    "import keras\n",
    "from keras.models import Sequential\n",
    "from keras.layers import Dense, Dropout, Flatten, Reshape\n",
    "from keras.layers import Conv2D, MaxPooling2D\n",
    "from keras.utils import np_utils\n",
    "from keras.layers import BatchNormalization\n",
    "from keras.optimizers import Adam\n",
    "from keras import backend as K"
   ]
  },
  {
   "attachments": {},
   "cell_type": "markdown",
   "metadata": {},
   "source": [
    "### GETTING Data"
   ]
  },
  {
   "cell_type": "code",
   "execution_count": 2,
   "metadata": {},
   "outputs": [],
   "source": [
    "dfAwake_train = pd.read_csv('Data/Data for 2nd Level Classification/training2_AData.txt', header=None, delim_whitespace=True)\n",
    "dfDrowsy_train = pd.read_csv('Data/Data for 2nd Level Classification/training2_DData.txt', header=None, delim_whitespace=True)\n",
    "dfAwake_test = pd.read_csv('Data/Data for 2nd Level Classification/testing2_AData.txt', header=None, delim_whitespace=True)\n",
    "dfDrowsy_test = pd.read_csv('Data/Data for 2nd Level Classification/testing2_DData.txt', header=None, delim_whitespace=True)\n",
    "\n",
    "# dfAwake_train = pd.read_csv('Data/Validation/validation_AData.txt', header=None, delim_whitespace=True)\n",
    "# dfDrowsy_train = pd.read_csv('Data/Validation/validation_DData.txt', header=None, delim_whitespace=True)\n",
    "\n",
    "# dfAwake_train1 = pd.read_csv('Data/Validation/validation_AData.txt', header=None, delim_whitespace=True)\n",
    "# dfDrowsy_train1 = pd.read_csv('Data/Validation/validation_DData.txt', header=None, delim_whitespace=True)\n",
    "# dfAwake_train2 = pd.read_csv('Data/Data for 2nd Level Classification/testing2_AData.txt', header=None, delim_whitespace=True)\n",
    "# dfDrowsy_train2 = pd.read_csv('Data/Data for 2nd Level Classification/testing2_DData.txt', header=None, delim_whitespace=True)"
   ]
  },
  {
   "cell_type": "code",
   "execution_count": 3,
   "metadata": {},
   "outputs": [],
   "source": [
    "# Awake_frames = [dfAwake_train1, dfAwake_train2]\n",
    "# Drowsy_frames = [dfDrowsy_train1, dfDrowsy_train2]\n",
    "# dfAwake_train = pd.concat(Awake_frames)\n",
    "# dfDrowsy_train = pd.concat(Drowsy_frames)"
   ]
  },
  {
   "attachments": {},
   "cell_type": "markdown",
   "metadata": {},
   "source": [
    "### Printing Retrieved Data informations"
   ]
  },
  {
   "cell_type": "code",
   "execution_count": 4,
   "metadata": {},
   "outputs": [
    {
     "name": "stdout",
     "output_type": "stream",
     "text": [
      "(2910600, 15)\n",
      "(2430000, 15)\n",
      "(810000, 15)\n",
      "(1080000, 15)\n"
     ]
    }
   ],
   "source": [
    "print(dfAwake_train.shape)\n",
    "print(dfDrowsy_train.shape)\n",
    "print(dfAwake_test.shape)\n",
    "print(dfDrowsy_test.shape)\n",
    "# print(dfAwake_train)"
   ]
  },
  {
   "attachments": {},
   "cell_type": "markdown",
   "metadata": {},
   "source": [
    "### Dropping Not Needed Columns"
   ]
  },
  {
   "cell_type": "code",
   "execution_count": 5,
   "metadata": {},
   "outputs": [],
   "source": [
    "dfAwake_train = dfAwake_train.drop(dfAwake_train.iloc[:,11:14],axis = 1)\n",
    "dfAwake_train = dfAwake_train.drop(dfAwake_train.iloc[:,0:3],axis = 1)\n",
    "dfDrowsy_train = dfDrowsy_train.drop(dfDrowsy_train.iloc[:,11:14],axis = 1)\n",
    "dfDrowsy_train = dfDrowsy_train.drop(dfDrowsy_train.iloc[:,0:3],axis = 1)\n",
    "dfAwake_test = dfAwake_test.drop(dfAwake_test.iloc[:,11:14],axis = 1)\n",
    "dfAwake_test = dfAwake_test.drop(dfAwake_test.iloc[:,0:3],axis = 1)\n",
    "dfDrowsy_test = dfDrowsy_test.drop(dfDrowsy_test.iloc[:,11:14],axis = 1)\n",
    "dfDrowsy_test = dfDrowsy_test.drop(dfDrowsy_test.iloc[:,0:3],axis = 1)"
   ]
  },
  {
   "cell_type": "code",
   "execution_count": 6,
   "metadata": {},
   "outputs": [
    {
     "name": "stdout",
     "output_type": "stream",
     "text": [
      "(2910600, 9)\n",
      "(2430000, 9)\n",
      "(810000, 9)\n",
      "(1080000, 9)\n"
     ]
    }
   ],
   "source": [
    "print(dfAwake_train.shape)\n",
    "print(dfDrowsy_train.shape)\n",
    "print(dfAwake_test.shape)\n",
    "print(dfDrowsy_test.shape)\n",
    "# print(dfAwake_train)"
   ]
  },
  {
   "attachments": {},
   "cell_type": "markdown",
   "metadata": {},
   "source": [
    "### RESHAPING DATA"
   ]
  },
  {
   "cell_type": "code",
   "execution_count": 7,
   "metadata": {},
   "outputs": [],
   "source": [
    "dfAwake_train = dfAwake_train.to_numpy()\n",
    "dfDrowsy_train = dfDrowsy_train.to_numpy()\n",
    "dfAwake_train = dfAwake_train.reshape(3234,900,9)\n",
    "dfDrowsy_train = dfDrowsy_train.reshape(2700,900,9)\n",
    "dfAwake_test = dfAwake_test.to_numpy()\n",
    "dfDrowsy_test = dfDrowsy_test.to_numpy()\n",
    "dfAwake_test = dfAwake_test.reshape(900,900,9)\n",
    "dfDrowsy_test = dfDrowsy_test.reshape(1200,900,9)"
   ]
  },
  {
   "cell_type": "code",
   "execution_count": 8,
   "metadata": {},
   "outputs": [
    {
     "name": "stdout",
     "output_type": "stream",
     "text": [
      "(3234, 900, 9)\n",
      "(2700, 900, 9)\n",
      "(900, 900, 9)\n",
      "(1200, 900, 9)\n",
      "[[[1.0000000e+00 2.7573930e+00 1.7240060e+00 ... 1.2570750e+00\n",
      "   7.7678900e-01 3.6666670e+00]\n",
      "  [1.0000000e+00 5.0456100e-01 8.1323300e-01 ... 7.7153600e-01\n",
      "   8.0005800e-01 3.6666670e+00]\n",
      "  [1.0000000e+00 5.0456100e-01 8.1323300e-01 ... 7.7153600e-01\n",
      "   8.0005800e-01 3.6666670e+00]\n",
      "  ...\n",
      "  [1.0000000e+00 6.2141000e-01 9.3751000e-02 ... 7.0096000e-02\n",
      "   3.2042000e-02 3.0000000e+00]\n",
      "  [1.0000000e+00 6.2141000e-01 9.3751000e-02 ... 7.0096000e-02\n",
      "   3.2042000e-02 3.0000000e+00]\n",
      "  [1.0000000e+00 4.0544000e-02 9.5820000e-03 ... 2.7714000e-02\n",
      "   9.5250000e-03 3.0000000e+00]]\n",
      "\n",
      " [[1.0000000e+00 5.0456100e-01 8.1323300e-01 ... 7.7153600e-01\n",
      "   8.0005800e-01 3.6666670e+00]\n",
      "  [1.0000000e+00 5.0456100e-01 8.1323300e-01 ... 7.7153600e-01\n",
      "   8.0005800e-01 3.6666670e+00]\n",
      "  [1.0000000e+00 5.0456100e-01 8.1323300e-01 ... 7.7153600e-01\n",
      "   8.0005800e-01 3.6666670e+00]\n",
      "  ...\n",
      "  [1.0000000e+00 6.2141000e-01 9.3751000e-02 ... 7.0096000e-02\n",
      "   3.2042000e-02 3.0000000e+00]\n",
      "  [1.0000000e+00 4.0544000e-02 9.5820000e-03 ... 2.7714000e-02\n",
      "   9.5250000e-03 3.0000000e+00]\n",
      "  [1.0000000e+00 4.0544000e-02 9.5820000e-03 ... 2.7714000e-02\n",
      "   9.5250000e-03 3.0000000e+00]]\n",
      "\n",
      " [[1.0000000e+00 5.0456100e-01 8.1323300e-01 ... 7.7153600e-01\n",
      "   8.0005800e-01 3.6666670e+00]\n",
      "  [1.0000000e+00 5.0456100e-01 8.1323300e-01 ... 7.7153600e-01\n",
      "   8.0005800e-01 3.6666670e+00]\n",
      "  [1.0000000e+00 5.0456100e-01 8.1323300e-01 ... 7.7153600e-01\n",
      "   8.0005800e-01 3.6666670e+00]\n",
      "  ...\n",
      "  [1.0000000e+00 4.0544000e-02 9.5820000e-03 ... 2.7714000e-02\n",
      "   9.5250000e-03 3.0000000e+00]\n",
      "  [1.0000000e+00 4.0544000e-02 9.5820000e-03 ... 2.7714000e-02\n",
      "   9.5250000e-03 3.0000000e+00]\n",
      "  [1.0000000e+00 4.0544000e-02 9.5820000e-03 ... 2.7714000e-02\n",
      "   9.5250000e-03 3.0000000e+00]]\n",
      "\n",
      " ...\n",
      "\n",
      " [[1.0000000e+00 8.0663700e-01 6.8146400e-01 ... 4.0657300e-01\n",
      "   5.9833500e-01 1.0444445e+01]\n",
      "  [1.0000000e+00 8.0663700e-01 6.8146400e-01 ... 4.0657300e-01\n",
      "   5.9833500e-01 1.0444445e+01]\n",
      "  [1.0000000e+00 1.1800480e+00 3.3443000e-02 ... 5.1197900e-01\n",
      "   7.8044800e-01 1.0444445e+01]\n",
      "  ...\n",
      "  [1.0000000e+00 1.4120100e-01 1.7711000e-02 ... 1.7928000e-02\n",
      "   5.0210000e-03 8.3333340e+00]\n",
      "  [1.0000000e+00 1.4120100e-01 1.7711000e-02 ... 1.7928000e-02\n",
      "   5.0210000e-03 8.2222220e+00]\n",
      "  [1.0000000e+00 1.4120100e-01 1.7711000e-02 ... 1.7928000e-02\n",
      "   5.0210000e-03 8.1111110e+00]]\n",
      "\n",
      " [[1.0000000e+00 8.0663700e-01 6.8146400e-01 ... 4.0657300e-01\n",
      "   5.9833500e-01 1.0444445e+01]\n",
      "  [1.0000000e+00 1.1800480e+00 3.3443000e-02 ... 5.1197900e-01\n",
      "   7.8044800e-01 1.0444445e+01]\n",
      "  [1.0000000e+00 1.1800480e+00 3.3443000e-02 ... 5.1197900e-01\n",
      "   7.8044800e-01 1.0666667e+01]\n",
      "  ...\n",
      "  [1.0000000e+00 1.4120100e-01 1.7711000e-02 ... 1.7928000e-02\n",
      "   5.0210000e-03 8.2222220e+00]\n",
      "  [1.0000000e+00 1.4120100e-01 1.7711000e-02 ... 1.7928000e-02\n",
      "   5.0210000e-03 8.1111110e+00]\n",
      "  [1.0000000e+00 3.5699600e-01 4.2080000e-02 ... 7.6018000e-02\n",
      "   4.4589000e-02 8.1111110e+00]]\n",
      "\n",
      " [[1.0000000e+00 1.1800480e+00 3.3443000e-02 ... 5.1197900e-01\n",
      "   7.8044800e-01 1.0444445e+01]\n",
      "  [1.0000000e+00 1.1800480e+00 3.3443000e-02 ... 5.1197900e-01\n",
      "   7.8044800e-01 1.0666667e+01]\n",
      "  [1.0000000e+00 1.1800480e+00 3.3443000e-02 ... 5.1197900e-01\n",
      "   7.8044800e-01 1.0555555e+01]\n",
      "  ...\n",
      "  [1.0000000e+00 1.4120100e-01 1.7711000e-02 ... 1.7928000e-02\n",
      "   5.0210000e-03 8.1111110e+00]\n",
      "  [1.0000000e+00 3.5699600e-01 4.2080000e-02 ... 7.6018000e-02\n",
      "   4.4589000e-02 8.1111110e+00]\n",
      "  [1.0000000e+00 3.5699600e-01 4.2080000e-02 ... 7.6018000e-02\n",
      "   4.4589000e-02 8.3333340e+00]]]\n",
      "[[[ 1.        0.161158  0.15306  ...  0.141599  0.068499  6.111111]\n",
      "  [ 1.        1.671157  1.136053 ...  0.933397  0.68482   6.111111]\n",
      "  [ 1.        1.671157  1.136053 ...  0.933397  0.68482   6.111111]\n",
      "  ...\n",
      "  [ 1.        0.477276  0.588532 ...  0.463105  0.206711  6.555556]\n",
      "  [ 1.        0.477276  0.588532 ...  0.463105  0.206711  6.888889]\n",
      "  [ 1.        0.568875  0.222282 ...  0.074197  0.040035  6.888889]]\n",
      "\n",
      " [[ 1.        1.671157  1.136053 ...  0.933397  0.68482   6.111111]\n",
      "  [ 1.        1.671157  1.136053 ...  0.933397  0.68482   6.111111]\n",
      "  [ 1.        1.671157  1.136053 ...  0.933397  0.68482   6.111111]\n",
      "  ...\n",
      "  [ 1.        0.477276  0.588532 ...  0.463105  0.206711  6.888889]\n",
      "  [ 1.        0.568875  0.222282 ...  0.074197  0.040035  6.888889]\n",
      "  [ 1.        0.568875  0.222282 ...  0.074197  0.040035  6.888889]]\n",
      "\n",
      " [[ 1.        1.671157  1.136053 ...  0.933397  0.68482   6.111111]\n",
      "  [ 1.        1.671157  1.136053 ...  0.933397  0.68482   6.111111]\n",
      "  [ 1.        1.598152  0.640402 ...  0.171308  0.497079  6.222222]\n",
      "  ...\n",
      "  [ 1.        0.568875  0.222282 ...  0.074197  0.040035  6.888889]\n",
      "  [ 1.        0.568875  0.222282 ...  0.074197  0.040035  6.888889]\n",
      "  [ 1.        0.568875  0.222282 ...  0.074197  0.040035  6.888889]]\n",
      "\n",
      " ...\n",
      "\n",
      " [[ 1.        3.41675   0.580073 ...  0.63723   0.542324 14.333333]\n",
      "  [ 1.        3.41675   0.580073 ...  0.63723   0.542324 14.444445]\n",
      "  [ 1.        3.41675   0.580073 ...  0.63723   0.542324 14.666666]\n",
      "  ...\n",
      "  [ 1.        2.22614   1.133739 ...  0.773455  0.664235 12.666666]\n",
      "  [ 1.        0.629168  0.326487 ...  0.399622  0.161568 12.222222]\n",
      "  [ 1.        0.629168  0.326487 ...  0.399622  0.161568 12.222222]]\n",
      "\n",
      " [[ 1.        3.41675   0.580073 ...  0.63723   0.542324 14.444445]\n",
      "  [ 1.        3.41675   0.580073 ...  0.63723   0.542324 14.666666]\n",
      "  [ 1.        0.838372  0.674698 ...  0.431563  0.299334 14.666666]\n",
      "  ...\n",
      "  [ 1.        0.629168  0.326487 ...  0.399622  0.161568 12.222222]\n",
      "  [ 1.        0.629168  0.326487 ...  0.399622  0.161568 12.222222]\n",
      "  [ 1.        0.629168  0.326487 ...  0.399622  0.161568 12.555556]]\n",
      "\n",
      " [[ 1.        3.41675   0.580073 ...  0.63723   0.542324 14.666666]\n",
      "  [ 1.        0.838372  0.674698 ...  0.431563  0.299334 14.666666]\n",
      "  [ 1.        0.838372  0.674698 ...  0.431563  0.299334 14.444445]\n",
      "  ...\n",
      "  [ 1.        0.629168  0.326487 ...  0.399622  0.161568 12.222222]\n",
      "  [ 1.        0.629168  0.326487 ...  0.399622  0.161568 12.555556]\n",
      "  [ 1.        1.283944  0.686829 ...  0.507769  0.265631 12.111111]]]\n"
     ]
    }
   ],
   "source": [
    "print(dfAwake_train.shape)\n",
    "print(dfDrowsy_train.shape)\n",
    "print(dfAwake_test.shape)\n",
    "print(dfDrowsy_test.shape)\n",
    "print(dfAwake_train)\n",
    "print(dfDrowsy_train)"
   ]
  },
  {
   "attachments": {},
   "cell_type": "markdown",
   "metadata": {},
   "source": [
    "### CREATING LABELS"
   ]
  },
  {
   "cell_type": "code",
   "execution_count": 9,
   "metadata": {},
   "outputs": [
    {
     "name": "stdout",
     "output_type": "stream",
     "text": [
      "(3234,)\n",
      "(2700,)\n",
      "(900,)\n",
      "(1200,)\n"
     ]
    }
   ],
   "source": [
    "dfAwake_trainLabels = np.zeros(3234)\n",
    "print(dfAwake_trainLabels.shape)\n",
    "dfDrowsy_trainLabels = np.ones(2700)\n",
    "print(dfDrowsy_trainLabels.shape)\n",
    "dfAwake_testLabels = np.zeros(900)\n",
    "print(dfAwake_testLabels.shape)\n",
    "dfDrowsy_testLabels = np.ones(1200)\n",
    "print(dfDrowsy_testLabels.shape)"
   ]
  },
  {
   "cell_type": "code",
   "execution_count": 10,
   "metadata": {},
   "outputs": [
    {
     "name": "stdout",
     "output_type": "stream",
     "text": [
      "[0. 0. 0. ... 0. 0. 0.]\n",
      "[1. 1. 1. ... 1. 1. 1.]\n",
      "[0. 0. 0. 0. 0. 0. 0. 0. 0. 0. 0. 0. 0. 0. 0. 0. 0. 0. 0. 0. 0. 0. 0. 0.\n",
      " 0. 0. 0. 0. 0. 0. 0. 0. 0. 0. 0. 0. 0. 0. 0. 0. 0. 0. 0. 0. 0. 0. 0. 0.\n",
      " 0. 0. 0. 0. 0. 0. 0. 0. 0. 0. 0. 0. 0. 0. 0. 0. 0. 0. 0. 0. 0. 0. 0. 0.\n",
      " 0. 0. 0. 0. 0. 0. 0. 0. 0. 0. 0. 0. 0. 0. 0. 0. 0. 0. 0. 0. 0. 0. 0. 0.\n",
      " 0. 0. 0. 0. 0. 0. 0. 0. 0. 0. 0. 0. 0. 0. 0. 0. 0. 0. 0. 0. 0. 0. 0. 0.\n",
      " 0. 0. 0. 0. 0. 0. 0. 0. 0. 0. 0. 0. 0. 0. 0. 0. 0. 0. 0. 0. 0. 0. 0. 0.\n",
      " 0. 0. 0. 0. 0. 0. 0. 0. 0. 0. 0. 0. 0. 0. 0. 0. 0. 0. 0. 0. 0. 0. 0. 0.\n",
      " 0. 0. 0. 0. 0. 0. 0. 0. 0. 0. 0. 0. 0. 0. 0. 0. 0. 0. 0. 0. 0. 0. 0. 0.\n",
      " 0. 0. 0. 0. 0. 0. 0. 0. 0. 0. 0. 0. 0. 0. 0. 0. 0. 0. 0. 0. 0. 0. 0. 0.\n",
      " 0. 0. 0. 0. 0. 0. 0. 0. 0. 0. 0. 0. 0. 0. 0. 0. 0. 0. 0. 0. 0. 0. 0. 0.\n",
      " 0. 0. 0. 0. 0. 0. 0. 0. 0. 0. 0. 0. 0. 0. 0. 0. 0. 0. 0. 0. 0. 0. 0. 0.\n",
      " 0. 0. 0. 0. 0. 0. 0. 0. 0. 0. 0. 0. 0. 0. 0. 0. 0. 0. 0. 0. 0. 0. 0. 0.\n",
      " 0. 0. 0. 0. 0. 0. 0. 0. 0. 0. 0. 0. 0. 0. 0. 0. 0. 0. 0. 0. 0. 0. 0. 0.\n",
      " 0. 0. 0. 0. 0. 0. 0. 0. 0. 0. 0. 0. 0. 0. 0. 0. 0. 0. 0. 0. 0. 0. 0. 0.\n",
      " 0. 0. 0. 0. 0. 0. 0. 0. 0. 0. 0. 0. 0. 0. 0. 0. 0. 0. 0. 0. 0. 0. 0. 0.\n",
      " 0. 0. 0. 0. 0. 0. 0. 0. 0. 0. 0. 0. 0. 0. 0. 0. 0. 0. 0. 0. 0. 0. 0. 0.\n",
      " 0. 0. 0. 0. 0. 0. 0. 0. 0. 0. 0. 0. 0. 0. 0. 0. 0. 0. 0. 0. 0. 0. 0. 0.\n",
      " 0. 0. 0. 0. 0. 0. 0. 0. 0. 0. 0. 0. 0. 0. 0. 0. 0. 0. 0. 0. 0. 0. 0. 0.\n",
      " 0. 0. 0. 0. 0. 0. 0. 0. 0. 0. 0. 0. 0. 0. 0. 0. 0. 0. 0. 0. 0. 0. 0. 0.\n",
      " 0. 0. 0. 0. 0. 0. 0. 0. 0. 0. 0. 0. 0. 0. 0. 0. 0. 0. 0. 0. 0. 0. 0. 0.\n",
      " 0. 0. 0. 0. 0. 0. 0. 0. 0. 0. 0. 0. 0. 0. 0. 0. 0. 0. 0. 0. 0. 0. 0. 0.\n",
      " 0. 0. 0. 0. 0. 0. 0. 0. 0. 0. 0. 0. 0. 0. 0. 0. 0. 0. 0. 0. 0. 0. 0. 0.\n",
      " 0. 0. 0. 0. 0. 0. 0. 0. 0. 0. 0. 0. 0. 0. 0. 0. 0. 0. 0. 0. 0. 0. 0. 0.\n",
      " 0. 0. 0. 0. 0. 0. 0. 0. 0. 0. 0. 0. 0. 0. 0. 0. 0. 0. 0. 0. 0. 0. 0. 0.\n",
      " 0. 0. 0. 0. 0. 0. 0. 0. 0. 0. 0. 0. 0. 0. 0. 0. 0. 0. 0. 0. 0. 0. 0. 0.\n",
      " 0. 0. 0. 0. 0. 0. 0. 0. 0. 0. 0. 0. 0. 0. 0. 0. 0. 0. 0. 0. 0. 0. 0. 0.\n",
      " 0. 0. 0. 0. 0. 0. 0. 0. 0. 0. 0. 0. 0. 0. 0. 0. 0. 0. 0. 0. 0. 0. 0. 0.\n",
      " 0. 0. 0. 0. 0. 0. 0. 0. 0. 0. 0. 0. 0. 0. 0. 0. 0. 0. 0. 0. 0. 0. 0. 0.\n",
      " 0. 0. 0. 0. 0. 0. 0. 0. 0. 0. 0. 0. 0. 0. 0. 0. 0. 0. 0. 0. 0. 0. 0. 0.\n",
      " 0. 0. 0. 0. 0. 0. 0. 0. 0. 0. 0. 0. 0. 0. 0. 0. 0. 0. 0. 0. 0. 0. 0. 0.\n",
      " 0. 0. 0. 0. 0. 0. 0. 0. 0. 0. 0. 0. 0. 0. 0. 0. 0. 0. 0. 0. 0. 0. 0. 0.\n",
      " 0. 0. 0. 0. 0. 0. 0. 0. 0. 0. 0. 0. 0. 0. 0. 0. 0. 0. 0. 0. 0. 0. 0. 0.\n",
      " 0. 0. 0. 0. 0. 0. 0. 0. 0. 0. 0. 0. 0. 0. 0. 0. 0. 0. 0. 0. 0. 0. 0. 0.\n",
      " 0. 0. 0. 0. 0. 0. 0. 0. 0. 0. 0. 0. 0. 0. 0. 0. 0. 0. 0. 0. 0. 0. 0. 0.\n",
      " 0. 0. 0. 0. 0. 0. 0. 0. 0. 0. 0. 0. 0. 0. 0. 0. 0. 0. 0. 0. 0. 0. 0. 0.\n",
      " 0. 0. 0. 0. 0. 0. 0. 0. 0. 0. 0. 0. 0. 0. 0. 0. 0. 0. 0. 0. 0. 0. 0. 0.\n",
      " 0. 0. 0. 0. 0. 0. 0. 0. 0. 0. 0. 0. 0. 0. 0. 0. 0. 0. 0. 0. 0. 0. 0. 0.\n",
      " 0. 0. 0. 0. 0. 0. 0. 0. 0. 0. 0. 0.]\n",
      "[1. 1. 1. ... 1. 1. 1.]\n"
     ]
    }
   ],
   "source": [
    "print(dfAwake_trainLabels)\n",
    "print(dfDrowsy_trainLabels)\n",
    "print(dfAwake_testLabels)\n",
    "print(dfDrowsy_testLabels)"
   ]
  },
  {
   "attachments": {},
   "cell_type": "markdown",
   "metadata": {},
   "source": [
    "### Combining Awake Data and Drowsy Data"
   ]
  },
  {
   "cell_type": "code",
   "execution_count": 11,
   "metadata": {},
   "outputs": [
    {
     "name": "stdout",
     "output_type": "stream",
     "text": [
      "(5934, 900, 9)\n",
      "(5934,)\n",
      "[[[1.0000000e+00 2.7573930e+00 1.7240060e+00 ... 1.2570750e+00\n",
      "   7.7678900e-01 3.6666670e+00]\n",
      "  [1.0000000e+00 5.0456100e-01 8.1323300e-01 ... 7.7153600e-01\n",
      "   8.0005800e-01 3.6666670e+00]\n",
      "  [1.0000000e+00 5.0456100e-01 8.1323300e-01 ... 7.7153600e-01\n",
      "   8.0005800e-01 3.6666670e+00]\n",
      "  ...\n",
      "  [1.0000000e+00 6.2141000e-01 9.3751000e-02 ... 7.0096000e-02\n",
      "   3.2042000e-02 3.0000000e+00]\n",
      "  [1.0000000e+00 6.2141000e-01 9.3751000e-02 ... 7.0096000e-02\n",
      "   3.2042000e-02 3.0000000e+00]\n",
      "  [1.0000000e+00 4.0544000e-02 9.5820000e-03 ... 2.7714000e-02\n",
      "   9.5250000e-03 3.0000000e+00]]\n",
      "\n",
      " [[1.0000000e+00 5.0456100e-01 8.1323300e-01 ... 7.7153600e-01\n",
      "   8.0005800e-01 3.6666670e+00]\n",
      "  [1.0000000e+00 5.0456100e-01 8.1323300e-01 ... 7.7153600e-01\n",
      "   8.0005800e-01 3.6666670e+00]\n",
      "  [1.0000000e+00 5.0456100e-01 8.1323300e-01 ... 7.7153600e-01\n",
      "   8.0005800e-01 3.6666670e+00]\n",
      "  ...\n",
      "  [1.0000000e+00 6.2141000e-01 9.3751000e-02 ... 7.0096000e-02\n",
      "   3.2042000e-02 3.0000000e+00]\n",
      "  [1.0000000e+00 4.0544000e-02 9.5820000e-03 ... 2.7714000e-02\n",
      "   9.5250000e-03 3.0000000e+00]\n",
      "  [1.0000000e+00 4.0544000e-02 9.5820000e-03 ... 2.7714000e-02\n",
      "   9.5250000e-03 3.0000000e+00]]\n",
      "\n",
      " [[1.0000000e+00 5.0456100e-01 8.1323300e-01 ... 7.7153600e-01\n",
      "   8.0005800e-01 3.6666670e+00]\n",
      "  [1.0000000e+00 5.0456100e-01 8.1323300e-01 ... 7.7153600e-01\n",
      "   8.0005800e-01 3.6666670e+00]\n",
      "  [1.0000000e+00 5.0456100e-01 8.1323300e-01 ... 7.7153600e-01\n",
      "   8.0005800e-01 3.6666670e+00]\n",
      "  ...\n",
      "  [1.0000000e+00 4.0544000e-02 9.5820000e-03 ... 2.7714000e-02\n",
      "   9.5250000e-03 3.0000000e+00]\n",
      "  [1.0000000e+00 4.0544000e-02 9.5820000e-03 ... 2.7714000e-02\n",
      "   9.5250000e-03 3.0000000e+00]\n",
      "  [1.0000000e+00 4.0544000e-02 9.5820000e-03 ... 2.7714000e-02\n",
      "   9.5250000e-03 3.0000000e+00]]\n",
      "\n",
      " ...\n",
      "\n",
      " [[1.0000000e+00 3.4167500e+00 5.8007300e-01 ... 6.3723000e-01\n",
      "   5.4232400e-01 1.4333333e+01]\n",
      "  [1.0000000e+00 3.4167500e+00 5.8007300e-01 ... 6.3723000e-01\n",
      "   5.4232400e-01 1.4444445e+01]\n",
      "  [1.0000000e+00 3.4167500e+00 5.8007300e-01 ... 6.3723000e-01\n",
      "   5.4232400e-01 1.4666666e+01]\n",
      "  ...\n",
      "  [1.0000000e+00 2.2261400e+00 1.1337390e+00 ... 7.7345500e-01\n",
      "   6.6423500e-01 1.2666666e+01]\n",
      "  [1.0000000e+00 6.2916800e-01 3.2648700e-01 ... 3.9962200e-01\n",
      "   1.6156800e-01 1.2222222e+01]\n",
      "  [1.0000000e+00 6.2916800e-01 3.2648700e-01 ... 3.9962200e-01\n",
      "   1.6156800e-01 1.2222222e+01]]\n",
      "\n",
      " [[1.0000000e+00 3.4167500e+00 5.8007300e-01 ... 6.3723000e-01\n",
      "   5.4232400e-01 1.4444445e+01]\n",
      "  [1.0000000e+00 3.4167500e+00 5.8007300e-01 ... 6.3723000e-01\n",
      "   5.4232400e-01 1.4666666e+01]\n",
      "  [1.0000000e+00 8.3837200e-01 6.7469800e-01 ... 4.3156300e-01\n",
      "   2.9933400e-01 1.4666666e+01]\n",
      "  ...\n",
      "  [1.0000000e+00 6.2916800e-01 3.2648700e-01 ... 3.9962200e-01\n",
      "   1.6156800e-01 1.2222222e+01]\n",
      "  [1.0000000e+00 6.2916800e-01 3.2648700e-01 ... 3.9962200e-01\n",
      "   1.6156800e-01 1.2222222e+01]\n",
      "  [1.0000000e+00 6.2916800e-01 3.2648700e-01 ... 3.9962200e-01\n",
      "   1.6156800e-01 1.2555556e+01]]\n",
      "\n",
      " [[1.0000000e+00 3.4167500e+00 5.8007300e-01 ... 6.3723000e-01\n",
      "   5.4232400e-01 1.4666666e+01]\n",
      "  [1.0000000e+00 8.3837200e-01 6.7469800e-01 ... 4.3156300e-01\n",
      "   2.9933400e-01 1.4666666e+01]\n",
      "  [1.0000000e+00 8.3837200e-01 6.7469800e-01 ... 4.3156300e-01\n",
      "   2.9933400e-01 1.4444445e+01]\n",
      "  ...\n",
      "  [1.0000000e+00 6.2916800e-01 3.2648700e-01 ... 3.9962200e-01\n",
      "   1.6156800e-01 1.2222222e+01]\n",
      "  [1.0000000e+00 6.2916800e-01 3.2648700e-01 ... 3.9962200e-01\n",
      "   1.6156800e-01 1.2555556e+01]\n",
      "  [1.0000000e+00 1.2839440e+00 6.8682900e-01 ... 5.0776900e-01\n",
      "   2.6563100e-01 1.2111111e+01]]]\n",
      "[0. 0. 0. ... 1. 1. 1.]\n"
     ]
    }
   ],
   "source": [
    "dftrain = np.concatenate((dfAwake_train, dfDrowsy_train))\n",
    "dftrainlabels =np.concatenate((dfAwake_trainLabels, dfDrowsy_trainLabels))\n",
    "# dftrain = dfAwake_train\n",
    "# dftrainlabels = dfAwake_trainLabels\n",
    "print(dftrain.shape)\n",
    "print(dftrainlabels.shape)\n",
    "print(dftrain)\n",
    "print(dftrainlabels)"
   ]
  },
  {
   "attachments": {},
   "cell_type": "markdown",
   "metadata": {},
   "source": [
    "### SHUFFLING DATA"
   ]
  },
  {
   "cell_type": "code",
   "execution_count": 12,
   "metadata": {},
   "outputs": [
    {
     "name": "stdout",
     "output_type": "stream",
     "text": [
      "[5000 1570 5636 ... 2824 1296 4279]\n"
     ]
    }
   ],
   "source": [
    "idx = np.random.permutation(len(dftrainlabels))\n",
    "print(idx)"
   ]
  },
  {
   "cell_type": "code",
   "execution_count": 13,
   "metadata": {},
   "outputs": [],
   "source": [
    "dftrain=dftrain[idx]\n",
    "dftrainlabels=dftrainlabels[idx]"
   ]
  },
  {
   "cell_type": "code",
   "execution_count": 14,
   "metadata": {},
   "outputs": [
    {
     "name": "stdout",
     "output_type": "stream",
     "text": [
      "(5934, 900, 9)\n",
      "(5934,)\n",
      "[[[1.0000000e+00 1.9783150e+00 1.1510620e+00 ... 1.2241760e+00\n",
      "   5.4183200e-01 2.4333334e+01]\n",
      "  [1.0000000e+00 1.9783150e+00 1.1510620e+00 ... 1.2241760e+00\n",
      "   5.4183200e-01 2.4333334e+01]\n",
      "  [1.0000000e+00 3.0904530e+00 1.1203370e+00 ... 1.3904930e+00\n",
      "   8.4897700e-01 2.4333334e+01]\n",
      "  ...\n",
      "  [1.0000000e+00 1.1308280e+00 7.3479600e-01 ... 3.0408100e-01\n",
      "   5.5460600e-01 3.7000000e+01]\n",
      "  [1.0000000e+00 1.1308280e+00 7.3479600e-01 ... 3.0408100e-01\n",
      "   5.5460600e-01 3.7555553e+01]\n",
      "  [1.0000000e+00 1.1308280e+00 7.3479600e-01 ... 3.0408100e-01\n",
      "   5.5460600e-01 3.8111111e+01]]\n",
      "\n",
      " [[1.0000000e+00 6.4593500e-01 4.6004300e-01 ... 8.5503000e-02\n",
      "   1.0255800e-01 1.7777780e+00]\n",
      "  [1.0000000e+00 1.2053830e+00 5.5772900e-01 ... 7.4753300e-01\n",
      "   4.8528600e-01 1.7777780e+00]\n",
      "  [1.0000000e+00 1.2053830e+00 5.5772900e-01 ... 7.4753300e-01\n",
      "   4.8528600e-01 1.7777780e+00]\n",
      "  ...\n",
      "  [1.0000000e+00 2.4170420e+00 3.2759100e-01 ... 2.4448000e-01\n",
      "   1.9796300e-01 3.6666670e+00]\n",
      "  [1.0000000e+00 2.4170420e+00 3.2759100e-01 ... 2.4448000e-01\n",
      "   1.9796300e-01 3.6666670e+00]\n",
      "  [1.0000000e+00 9.3758500e-01 6.5433000e-02 ... 9.3520000e-02\n",
      "   3.0592000e-02 4.0000000e+00]]\n",
      "\n",
      " [[1.0000000e+00 1.3091380e+00 1.1049660e+00 ... 4.3730300e-01\n",
      "   1.5932300e-01 8.2222220e+00]\n",
      "  [1.0000000e+00 1.3091380e+00 1.1049660e+00 ... 4.3730300e-01\n",
      "   1.5932300e-01 8.0000000e+00]\n",
      "  [1.0000000e+00 1.9236680e+00 8.5178100e-01 ... 1.6883190e+00\n",
      "   9.9151200e-01 8.0000000e+00]\n",
      "  ...\n",
      "  [1.0000000e+00 4.8954600e-01 2.8545100e-01 ... 3.7670000e-01\n",
      "   9.3830000e-02 2.3111111e+01]\n",
      "  [1.0000000e+00 4.8954600e-01 2.8545100e-01 ... 3.7670000e-01\n",
      "   9.3830000e-02 2.3111111e+01]\n",
      "  [1.0000000e+00 4.8954600e-01 2.8545100e-01 ... 3.7670000e-01\n",
      "   9.3830000e-02 2.3000000e+01]]\n",
      "\n",
      " ...\n",
      "\n",
      " [[1.0000000e+00 3.6632100e-01 1.6371600e-01 ... 1.4431200e-01\n",
      "   5.2729000e-02 3.1111110e+00]\n",
      "  [1.0000000e+00 4.2999800e-01 9.7585000e-02 ... 3.6721900e-01\n",
      "   9.3247000e-02 3.1111110e+00]\n",
      "  [1.0000000e+00 4.2999800e-01 9.7585000e-02 ... 3.6721900e-01\n",
      "   9.3247000e-02 3.1111110e+00]\n",
      "  ...\n",
      "  [1.0000000e+00 1.3255740e+00 4.0985200e-01 ... 1.9831500e-01\n",
      "   2.5232300e-01 4.7777780e+00]\n",
      "  [1.0000000e+00 1.3255740e+00 4.0985200e-01 ... 1.9831500e-01\n",
      "   2.5232300e-01 4.7777780e+00]\n",
      "  [1.0000000e+00 1.3255740e+00 4.0985200e-01 ... 1.9831500e-01\n",
      "   2.5232300e-01 4.7777780e+00]]\n",
      "\n",
      " [[1.0000000e+00 3.6617800e-01 3.1806700e-01 ... 1.2528900e-01\n",
      "   8.6847000e-02 1.0888888e+01]\n",
      "  [1.0000000e+00 1.7029230e+00 1.1195900e-01 ... 8.3977400e-01\n",
      "   1.7758700e-01 1.0888888e+01]\n",
      "  [1.0000000e+00 1.7029230e+00 1.1195900e-01 ... 8.3977400e-01\n",
      "   1.7758700e-01 1.1222222e+01]\n",
      "  ...\n",
      "  [1.0000000e+00 4.3235000e-02 4.2130000e-02 ... 8.0380000e-03\n",
      "   2.1840000e-03 4.3333330e+00]\n",
      "  [1.0000000e+00 3.1206800e-01 1.1926000e-01 ... 8.5647000e-02\n",
      "   3.1901000e-02 4.3333330e+00]\n",
      "  [1.0000000e+00 3.1206800e-01 1.1926000e-01 ... 8.5647000e-02\n",
      "   3.1901000e-02 4.7777780e+00]]\n",
      "\n",
      " [[1.0000000e+00 5.3745000e-02 1.1576800e-01 ... 1.3225600e-01\n",
      "   7.2258000e-02 4.6666670e+00]\n",
      "  [1.0000000e+00 5.3745000e-02 1.1576800e-01 ... 1.3225600e-01\n",
      "   7.2258000e-02 4.6666670e+00]\n",
      "  [1.0000000e+00 9.2431000e-01 9.5731200e-01 ... 3.7128600e-01\n",
      "   2.1464300e-01 4.6666670e+00]\n",
      "  ...\n",
      "  [1.0000000e+00 1.0373200e+00 4.2611700e-01 ... 2.9735000e-01\n",
      "   4.9530700e-01 7.2222220e+00]\n",
      "  [1.0000000e+00 1.0373200e+00 4.2611700e-01 ... 2.9735000e-01\n",
      "   4.9530700e-01 7.2222220e+00]\n",
      "  [1.0000000e+00 1.0373200e+00 4.2611700e-01 ... 2.9735000e-01\n",
      "   4.9530700e-01 7.6666670e+00]]]\n",
      "[1. 0. 1. ... 0. 0. 1.]\n"
     ]
    }
   ],
   "source": [
    "print(dftrain.shape)\n",
    "print(dftrainlabels.shape)\n",
    "print(dftrain)\n",
    "print(dftrainlabels)"
   ]
  },
  {
   "cell_type": "code",
   "execution_count": 15,
   "metadata": {},
   "outputs": [
    {
     "name": "stdout",
     "output_type": "stream",
     "text": [
      "(2100, 900, 9)\n",
      "(2100,)\n",
      "[[[1.       0.059297 0.020334 ... 0.027672 0.010734 0.777778]\n",
      "  [1.       0.288129 0.058108 ... 0.08683  0.028186 0.777778]\n",
      "  [1.       0.288129 0.058108 ... 0.08683  0.028186 0.777778]\n",
      "  ...\n",
      "  [1.       0.066271 0.031542 ... 0.037426 0.029351 1.666667]\n",
      "  [1.       0.266998 0.129318 ... 0.157538 0.060398 1.666667]\n",
      "  [1.       0.266998 0.129318 ... 0.157538 0.060398 1.666667]]\n",
      "\n",
      " [[1.       0.288129 0.058108 ... 0.08683  0.028186 0.777778]\n",
      "  [1.       0.288129 0.058108 ... 0.08683  0.028186 0.777778]\n",
      "  [1.       0.288129 0.058108 ... 0.08683  0.028186 0.777778]\n",
      "  ...\n",
      "  [1.       0.266998 0.129318 ... 0.157538 0.060398 1.666667]\n",
      "  [1.       0.266998 0.129318 ... 0.157538 0.060398 1.666667]\n",
      "  [1.       0.266998 0.129318 ... 0.157538 0.060398 1.666667]]\n",
      "\n",
      " [[1.       0.288129 0.058108 ... 0.08683  0.028186 0.777778]\n",
      "  [1.       0.288129 0.058108 ... 0.08683  0.028186 0.777778]\n",
      "  [1.       0.288129 0.058108 ... 0.08683  0.028186 0.777778]\n",
      "  ...\n",
      "  [1.       0.266998 0.129318 ... 0.157538 0.060398 1.666667]\n",
      "  [1.       0.266998 0.129318 ... 0.157538 0.060398 1.666667]\n",
      "  [1.       0.266998 0.129318 ... 0.157538 0.060398 1.666667]]\n",
      "\n",
      " ...\n",
      "\n",
      " [[1.       2.605624 0.15739  ... 0.337075 0.20237  5.444444]\n",
      "  [1.       1.59252  4.185845 ... 0.683071 0.821671 5.444444]\n",
      "  [1.       1.59252  4.185845 ... 0.683071 0.821671 5.444444]\n",
      "  ...\n",
      "  [1.       0.978712 0.207823 ... 0.466472 0.340607 6.666667]\n",
      "  [1.       0.978712 0.207823 ... 0.466472 0.340607 6.666667]\n",
      "  [1.       0.193527 0.410979 ... 0.374073 0.171458 6.666667]]\n",
      "\n",
      " [[1.       1.59252  4.185845 ... 0.683071 0.821671 5.444444]\n",
      "  [1.       1.59252  4.185845 ... 0.683071 0.821671 5.444444]\n",
      "  [1.       1.59252  4.185845 ... 0.683071 0.821671 5.666667]\n",
      "  ...\n",
      "  [1.       0.978712 0.207823 ... 0.466472 0.340607 6.666667]\n",
      "  [1.       0.193527 0.410979 ... 0.374073 0.171458 6.666667]\n",
      "  [1.       0.193527 0.410979 ... 0.374073 0.171458 6.666667]]\n",
      "\n",
      " [[1.       1.59252  4.185845 ... 0.683071 0.821671 5.444444]\n",
      "  [1.       1.59252  4.185845 ... 0.683071 0.821671 5.666667]\n",
      "  [1.       1.198376 2.909016 ... 2.695061 1.489228 5.777778]\n",
      "  ...\n",
      "  [1.       0.193527 0.410979 ... 0.374073 0.171458 6.666667]\n",
      "  [1.       0.193527 0.410979 ... 0.374073 0.171458 6.666667]\n",
      "  [1.       0.193527 0.410979 ... 0.374073 0.171458 6.666667]]]\n",
      "[0. 0. 0. ... 1. 1. 1.]\n"
     ]
    }
   ],
   "source": [
    "dftest = np.concatenate((dfAwake_test, dfDrowsy_test))\n",
    "dftestlabels =np.concatenate((dfAwake_testLabels, dfDrowsy_testLabels))\n",
    "print(dftest.shape)\n",
    "print(dftestlabels.shape)\n",
    "print(dftest)\n",
    "print(dftestlabels)"
   ]
  },
  {
   "cell_type": "code",
   "execution_count": 16,
   "metadata": {},
   "outputs": [
    {
     "name": "stdout",
     "output_type": "stream",
     "text": [
      "(2100, 900, 9)\n",
      "(2100,)\n",
      "(5934, 900, 9)\n",
      "(5934,)\n"
     ]
    }
   ],
   "source": [
    "print(dftest.shape)\n",
    "print(dftestlabels.shape)\n",
    "print(dftrain.shape)\n",
    "print(dftrainlabels.shape)"
   ]
  },
  {
   "attachments": {},
   "cell_type": "markdown",
   "metadata": {},
   "source": [
    "### Set input and output dimensions"
   ]
  },
  {
   "cell_type": "code",
   "execution_count": 17,
   "metadata": {},
   "outputs": [
    {
     "name": "stdout",
     "output_type": "stream",
     "text": [
      "dftrain shape: (5934, 900, 9)\n",
      "input_shape: 9900\n"
     ]
    }
   ],
   "source": [
    "input_shape = 900*11\n",
    "num_classes = 2\n",
    "print('dftrain shape:', dftrain.shape)\n",
    "print('input_shape:', input_shape)"
   ]
  },
  {
   "cell_type": "code",
   "execution_count": 18,
   "metadata": {},
   "outputs": [],
   "source": [
    "dftrain = dftrain.astype('float32')\n",
    "dftrainlabels = dftrainlabels.astype('float32')"
   ]
  },
  {
   "cell_type": "code",
   "execution_count": 19,
   "metadata": {},
   "outputs": [
    {
     "name": "stdout",
     "output_type": "stream",
     "text": [
      "New dfttrainlabels shape:  [[0. 1.]\n",
      " [1. 0.]\n",
      " [0. 1.]\n",
      " ...\n",
      " [1. 0.]\n",
      " [1. 0.]\n",
      " [0. 1.]]\n"
     ]
    }
   ],
   "source": [
    "dftrainlabels_hot = np_utils.to_categorical(dftrainlabels,num_classes)\n",
    "print('New dfttrainlabels shape: ', dftrainlabels_hot)"
   ]
  },
  {
   "cell_type": "code",
   "execution_count": 20,
   "metadata": {},
   "outputs": [
    {
     "name": "stdout",
     "output_type": "stream",
     "text": [
      "New dfttrainlabels shape:  (5934, 2)\n",
      "[1. 0. 1. ... 0. 0. 1.]\n"
     ]
    }
   ],
   "source": [
    "print('New dfttrainlabels shape: ', dftrainlabels_hot.shape)\n",
    "print(dftrainlabels)"
   ]
  },
  {
   "cell_type": "code",
   "execution_count": 21,
   "metadata": {},
   "outputs": [
    {
     "name": "stdout",
     "output_type": "stream",
     "text": [
      "(5934, 900, 9)\n",
      "(5934,)\n"
     ]
    }
   ],
   "source": [
    "print(dftrain.shape)\n",
    "print(dftrainlabels.shape)"
   ]
  },
  {
   "cell_type": "code",
   "execution_count": 22,
   "metadata": {},
   "outputs": [],
   "source": [
    "LABELS = ['Awake','Drowsy']"
   ]
  },
  {
   "cell_type": "code",
   "execution_count": 23,
   "metadata": {},
   "outputs": [
    {
     "name": "stdout",
     "output_type": "stream",
     "text": [
      "186/186 [==============================] - 2s 10ms/step - loss: 0.0238 - sparse_categorical_accuracy: 1.0000\n",
      "Test accuracy 1.0\n",
      "Test loss 0.023765316233038902\n",
      "186/186 [==============================] - 2s 9ms/step\n",
      "              precision    recall  f1-score   support\n",
      "\n",
      "         0.0       1.00      1.00      1.00      3234\n",
      "         1.0       1.00      1.00      1.00      2700\n",
      "\n",
      "    accuracy                           1.00      5934\n",
      "   macro avg       1.00      1.00      1.00      5934\n",
      "weighted avg       1.00      1.00      1.00      5934\n",
      "\n"
     ]
    }
   ],
   "source": [
    "model = keras.models.load_model(\"best_model(single-level(without IMU)).h5\")\n",
    "\n",
    "test_loss, test_acc = model.evaluate(dftrain, dftrainlabels,verbose=1)\n",
    "\n",
    "print(\"Test accuracy\", test_acc)\n",
    "print(\"Test loss\", test_loss)\n",
    "\n",
    "max_y_train = np.argmax(dftrainlabels_hot, axis=1)\n",
    "\n",
    "# Print confusion matrix for training data\n",
    "y_pred_train = model.predict(dftrain)\n",
    "# Take the class with the highest probability from the train predictions\n",
    "max_y_pred_train = np.argmax(y_pred_train, axis=1)\n",
    "print(classification_report(dftrainlabels, max_y_pred_train))"
   ]
  },
  {
   "cell_type": "code",
   "execution_count": 24,
   "metadata": {},
   "outputs": [
    {
     "data": {
      "image/png": "[encoded data removed]",
      "text/plain": [
       "<Figure size 600x400 with 2 Axes>"
      ]
     },
     "metadata": {},
     "output_type": "display_data"
    }
   ],
   "source": [
    "def show_confusion_matrix(validations, predictions):\n",
    "\n",
    "    matrix = metrics.confusion_matrix(validations, predictions)\n",
    "    plt.figure(figsize=(6, 4))\n",
    "    sns.heatmap(matrix,\n",
    "                cmap='coolwarm',\n",
    "                linecolor='white',\n",
    "                linewidths=1,\n",
    "                xticklabels=LABELS,\n",
    "                yticklabels=LABELS,\n",
    "                annot=True,\n",
    "                fmt='d')\n",
    "    plt.title('Confusion Matrix')\n",
    "    plt.ylabel('True Label')\n",
    "    plt.xlabel('Predicted Label')\n",
    "    plt.show()\n",
    "\n",
    "show_confusion_matrix(max_y_train, max_y_pred_train)"
   ]
  },
  {
   "attachments": {},
   "cell_type": "markdown",
   "metadata": {},
   "source": [
    "### Building the MODEL"
   ]
  },
  {
   "cell_type": "code",
   "execution_count": 25,
   "metadata": {},
   "outputs": [
    {
     "data": {
      "image/png": "[encoded data removed]",
      "text/plain": [
       "<IPython.core.display.Image object>"
      ]
     },
     "execution_count": 25,
     "metadata": {},
     "output_type": "execute_result"
    }
   ],
   "source": [
    "def make_model(input_shape):\n",
    "    input_layer = keras.layers.Input(input_shape)\n",
    "\n",
    "    conv1 = keras.layers.Conv1D(filters=64, kernel_size=3, padding=\"same\")(input_layer)\n",
    "    conv1 = keras.layers.BatchNormalization()(conv1)\n",
    "    conv1 = keras.layers.ReLU()(conv1)\n",
    "\n",
    "    # conv2 = keras.layers.Conv1D(filters=64, kernel_size=3, padding=\"same\")(conv1)\n",
    "    # conv2 = keras.layers.BatchNormalization()(conv2)\n",
    "    # conv2 = keras.layers.ReLU()(conv2)\n",
    "\n",
    "    # conv3 = keras.layers.Conv1D(filters=64, kernel_size=3, padding=\"same\")(conv2)\n",
    "    # conv3 = keras.layers.BatchNormalization()(conv3)\n",
    "    # conv3 = keras.layers.ReLU()(conv3)\n",
    "\n",
    "    gap = keras.layers.GlobalAveragePooling1D()(conv1)\n",
    "\n",
    "    output_layer = keras.layers.Dense(num_classes, activation=\"softmax\")(gap)\n",
    "\n",
    "    return keras.models.Model(inputs=input_layer, outputs=output_layer)\n",
    "\n",
    "\n",
    "model = make_model(input_shape=dftrain.shape[1:])\n",
    "keras.utils.plot_model(model, show_shapes=True)"
   ]
  },
  {
   "attachments": {},
   "cell_type": "markdown",
   "metadata": {},
   "source": [
    "### FITTING Deep neural network Model in KERAS"
   ]
  },
  {
   "cell_type": "code",
   "execution_count": 26,
   "metadata": {},
   "outputs": [
    {
     "name": "stdout",
     "output_type": "stream",
     "text": [
      "Epoch 1/100\n",
      "7/7 [==============================] - 3s 302ms/step - loss: 0.5145 - sparse_categorical_accuracy: 0.7506 - val_loss: 0.7309 - val_sparse_categorical_accuracy: 0.5859 - lr: 0.0010\n",
      "Epoch 2/100\n",
      "7/7 [==============================] - 2s 283ms/step - loss: 0.4386 - sparse_categorical_accuracy: 0.7531 - val_loss: 0.8839 - val_sparse_categorical_accuracy: 0.5859 - lr: 0.0010\n",
      "Epoch 3/100\n",
      "7/7 [==============================] - 2s 288ms/step - loss: 0.3925 - sparse_categorical_accuracy: 0.7638 - val_loss: 1.0043 - val_sparse_categorical_accuracy: 0.5859 - lr: 0.0010\n",
      "Epoch 4/100\n",
      "7/7 [==============================] - 2s 289ms/step - loss: 0.3564 - sparse_categorical_accuracy: 0.8275 - val_loss: 1.0757 - val_sparse_categorical_accuracy: 0.5859 - lr: 0.0010\n",
      "Epoch 5/100\n",
      "7/7 [==============================] - 2s 287ms/step - loss: 0.3261 - sparse_categorical_accuracy: 0.8742 - val_loss: 1.0872 - val_sparse_categorical_accuracy: 0.5859 - lr: 0.0010\n",
      "Epoch 6/100\n",
      "7/7 [==============================] - 2s 282ms/step - loss: 0.2993 - sparse_categorical_accuracy: 0.9171 - val_loss: 1.0354 - val_sparse_categorical_accuracy: 0.5859 - lr: 0.0010\n",
      "Epoch 7/100\n",
      "7/7 [==============================] - 2s 281ms/step - loss: 0.2828 - sparse_categorical_accuracy: 0.9368 - val_loss: 0.9208 - val_sparse_categorical_accuracy: 0.5859 - lr: 5.0000e-04\n",
      "Epoch 8/100\n",
      "7/7 [==============================] - 2s 287ms/step - loss: 0.2694 - sparse_categorical_accuracy: 0.9469 - val_loss: 0.8173 - val_sparse_categorical_accuracy: 0.5859 - lr: 5.0000e-04\n",
      "Epoch 9/100\n",
      "7/7 [==============================] - 2s 284ms/step - loss: 0.2596 - sparse_categorical_accuracy: 0.9376 - val_loss: 0.7174 - val_sparse_categorical_accuracy: 0.5859 - lr: 5.0000e-04\n",
      "Epoch 10/100\n",
      "7/7 [==============================] - 2s 284ms/step - loss: 0.2504 - sparse_categorical_accuracy: 0.9433 - val_loss: 0.6351 - val_sparse_categorical_accuracy: 0.6340 - lr: 5.0000e-04\n",
      "Epoch 11/100\n",
      "7/7 [==============================] - 2s 271ms/step - loss: 0.2382 - sparse_categorical_accuracy: 0.9506 - val_loss: 0.5531 - val_sparse_categorical_accuracy: 0.6340 - lr: 5.0000e-04\n",
      "Epoch 12/100\n",
      "7/7 [==============================] - 2s 275ms/step - loss: 0.2291 - sparse_categorical_accuracy: 0.9514 - val_loss: 0.4877 - val_sparse_categorical_accuracy: 0.7022 - lr: 5.0000e-04\n",
      "Epoch 13/100\n",
      "7/7 [==============================] - 2s 278ms/step - loss: 0.2215 - sparse_categorical_accuracy: 0.9514 - val_loss: 0.4306 - val_sparse_categorical_accuracy: 0.7317 - lr: 5.0000e-04\n",
      "Epoch 14/100\n",
      "7/7 [==============================] - 2s 280ms/step - loss: 0.2133 - sparse_categorical_accuracy: 0.9573 - val_loss: 0.3827 - val_sparse_categorical_accuracy: 0.7494 - lr: 5.0000e-04\n",
      "Epoch 15/100\n",
      "7/7 [==============================] - 2s 280ms/step - loss: 0.2017 - sparse_categorical_accuracy: 0.9579 - val_loss: 0.3386 - val_sparse_categorical_accuracy: 0.7940 - lr: 5.0000e-04\n",
      "Epoch 16/100\n",
      "7/7 [==============================] - 2s 293ms/step - loss: 0.1960 - sparse_categorical_accuracy: 0.9581 - val_loss: 0.3022 - val_sparse_categorical_accuracy: 0.8816 - lr: 5.0000e-04\n",
      "Epoch 17/100\n",
      "7/7 [==============================] - 2s 290ms/step - loss: 0.1869 - sparse_categorical_accuracy: 0.9581 - val_loss: 0.2718 - val_sparse_categorical_accuracy: 0.9191 - lr: 5.0000e-04\n",
      "Epoch 18/100\n",
      "7/7 [==============================] - 2s 281ms/step - loss: 0.1813 - sparse_categorical_accuracy: 0.9604 - val_loss: 0.2470 - val_sparse_categorical_accuracy: 0.9410 - lr: 5.0000e-04\n",
      "Epoch 19/100\n",
      "7/7 [==============================] - 2s 282ms/step - loss: 0.1741 - sparse_categorical_accuracy: 0.9601 - val_loss: 0.2270 - val_sparse_categorical_accuracy: 0.9503 - lr: 5.0000e-04\n",
      "Epoch 20/100\n",
      "7/7 [==============================] - 2s 286ms/step - loss: 0.1679 - sparse_categorical_accuracy: 0.9632 - val_loss: 0.2091 - val_sparse_categorical_accuracy: 0.9503 - lr: 5.0000e-04\n",
      "Epoch 21/100\n",
      "7/7 [==============================] - 2s 283ms/step - loss: 0.1595 - sparse_categorical_accuracy: 0.9621 - val_loss: 0.1941 - val_sparse_categorical_accuracy: 0.9558 - lr: 5.0000e-04\n",
      "Epoch 22/100\n",
      "7/7 [==============================] - 2s 282ms/step - loss: 0.1537 - sparse_categorical_accuracy: 0.9632 - val_loss: 0.1824 - val_sparse_categorical_accuracy: 1.0000 - lr: 5.0000e-04\n",
      "Epoch 23/100\n",
      "7/7 [==============================] - 2s 281ms/step - loss: 0.1494 - sparse_categorical_accuracy: 0.9643 - val_loss: 0.1727 - val_sparse_categorical_accuracy: 0.9899 - lr: 5.0000e-04\n",
      "Epoch 24/100\n",
      "7/7 [==============================] - 2s 276ms/step - loss: 0.1435 - sparse_categorical_accuracy: 0.9705 - val_loss: 0.1651 - val_sparse_categorical_accuracy: 0.9768 - lr: 5.0000e-04\n",
      "Epoch 25/100\n",
      "7/7 [==============================] - 2s 277ms/step - loss: 0.1389 - sparse_categorical_accuracy: 0.9716 - val_loss: 0.1586 - val_sparse_categorical_accuracy: 0.9722 - lr: 5.0000e-04\n",
      "Epoch 26/100\n",
      "7/7 [==============================] - 2s 282ms/step - loss: 0.1335 - sparse_categorical_accuracy: 0.9705 - val_loss: 0.1539 - val_sparse_categorical_accuracy: 0.9680 - lr: 5.0000e-04\n",
      "Epoch 27/100\n",
      "7/7 [==============================] - 2s 276ms/step - loss: 0.1287 - sparse_categorical_accuracy: 0.9750 - val_loss: 0.1495 - val_sparse_categorical_accuracy: 0.9680 - lr: 5.0000e-04\n",
      "Epoch 28/100\n",
      "7/7 [==============================] - 2s 277ms/step - loss: 0.1239 - sparse_categorical_accuracy: 0.9787 - val_loss: 0.1467 - val_sparse_categorical_accuracy: 0.9621 - lr: 5.0000e-04\n",
      "Epoch 29/100\n",
      "7/7 [==============================] - 2s 279ms/step - loss: 0.1194 - sparse_categorical_accuracy: 0.9767 - val_loss: 0.1422 - val_sparse_categorical_accuracy: 0.9591 - lr: 5.0000e-04\n",
      "Epoch 30/100\n",
      "7/7 [==============================] - 2s 281ms/step - loss: 0.1158 - sparse_categorical_accuracy: 0.9795 - val_loss: 0.1400 - val_sparse_categorical_accuracy: 0.9579 - lr: 5.0000e-04\n",
      "Epoch 31/100\n",
      "7/7 [==============================] - 2s 277ms/step - loss: 0.1144 - sparse_categorical_accuracy: 0.9815 - val_loss: 0.1364 - val_sparse_categorical_accuracy: 0.9579 - lr: 5.0000e-04\n",
      "Epoch 32/100\n",
      "7/7 [==============================] - 2s 280ms/step - loss: 0.1088 - sparse_categorical_accuracy: 0.9829 - val_loss: 0.1326 - val_sparse_categorical_accuracy: 0.9570 - lr: 5.0000e-04\n",
      "Epoch 33/100\n",
      "7/7 [==============================] - 2s 275ms/step - loss: 0.1054 - sparse_categorical_accuracy: 0.9882 - val_loss: 0.1328 - val_sparse_categorical_accuracy: 0.9570 - lr: 5.0000e-04\n",
      "Epoch 34/100\n",
      "7/7 [==============================] - 2s 279ms/step - loss: 0.1022 - sparse_categorical_accuracy: 0.9857 - val_loss: 0.1268 - val_sparse_categorical_accuracy: 0.9570 - lr: 5.0000e-04\n",
      "Epoch 35/100\n",
      "7/7 [==============================] - 2s 281ms/step - loss: 0.0988 - sparse_categorical_accuracy: 0.9924 - val_loss: 0.1262 - val_sparse_categorical_accuracy: 0.9570 - lr: 5.0000e-04\n",
      "Epoch 36/100\n",
      "7/7 [==============================] - 2s 281ms/step - loss: 0.0989 - sparse_categorical_accuracy: 0.9876 - val_loss: 0.1233 - val_sparse_categorical_accuracy: 0.9570 - lr: 5.0000e-04\n",
      "Epoch 37/100\n",
      "7/7 [==============================] - 2s 280ms/step - loss: 0.0940 - sparse_categorical_accuracy: 0.9916 - val_loss: 0.1176 - val_sparse_categorical_accuracy: 0.9570 - lr: 5.0000e-04\n",
      "Epoch 38/100\n",
      "7/7 [==============================] - 2s 283ms/step - loss: 0.0917 - sparse_categorical_accuracy: 0.9874 - val_loss: 0.1139 - val_sparse_categorical_accuracy: 0.9583 - lr: 5.0000e-04\n",
      "Epoch 39/100\n",
      "7/7 [==============================] - 2s 277ms/step - loss: 0.0881 - sparse_categorical_accuracy: 0.9941 - val_loss: 0.1211 - val_sparse_categorical_accuracy: 0.9570 - lr: 5.0000e-04\n",
      "Epoch 40/100\n",
      "7/7 [==============================] - 2s 275ms/step - loss: 0.0864 - sparse_categorical_accuracy: 0.9978 - val_loss: 0.1178 - val_sparse_categorical_accuracy: 0.9570 - lr: 5.0000e-04\n",
      "Epoch 41/100\n",
      "7/7 [==============================] - 2s 279ms/step - loss: 0.0831 - sparse_categorical_accuracy: 0.9955 - val_loss: 0.1116 - val_sparse_categorical_accuracy: 0.9570 - lr: 5.0000e-04\n",
      "Epoch 42/100\n",
      "7/7 [==============================] - 2s 281ms/step - loss: 0.0790 - sparse_categorical_accuracy: 1.0000 - val_loss: 0.1065 - val_sparse_categorical_accuracy: 0.9600 - lr: 5.0000e-04\n",
      "Epoch 43/100\n",
      "7/7 [==============================] - 2s 275ms/step - loss: 0.0775 - sparse_categorical_accuracy: 0.9966 - val_loss: 0.1044 - val_sparse_categorical_accuracy: 0.9604 - lr: 5.0000e-04\n",
      "Epoch 44/100\n",
      "7/7 [==============================] - 2s 278ms/step - loss: 0.0758 - sparse_categorical_accuracy: 0.9978 - val_loss: 0.1008 - val_sparse_categorical_accuracy: 0.9617 - lr: 5.0000e-04\n",
      "Epoch 45/100\n",
      "7/7 [==============================] - 2s 276ms/step - loss: 0.0728 - sparse_categorical_accuracy: 0.9989 - val_loss: 0.1004 - val_sparse_categorical_accuracy: 0.9625 - lr: 5.0000e-04\n",
      "Epoch 46/100\n",
      "7/7 [==============================] - 2s 275ms/step - loss: 0.0714 - sparse_categorical_accuracy: 1.0000 - val_loss: 0.1021 - val_sparse_categorical_accuracy: 0.9596 - lr: 5.0000e-04\n",
      "Epoch 47/100\n",
      "7/7 [==============================] - 2s 275ms/step - loss: 0.0710 - sparse_categorical_accuracy: 0.9997 - val_loss: 0.1022 - val_sparse_categorical_accuracy: 0.9579 - lr: 5.0000e-04\n",
      "Epoch 48/100\n",
      "7/7 [==============================] - 2s 277ms/step - loss: 0.0677 - sparse_categorical_accuracy: 0.9997 - val_loss: 0.0929 - val_sparse_categorical_accuracy: 0.9667 - lr: 5.0000e-04\n",
      "Epoch 49/100\n",
      "7/7 [==============================] - 2s 277ms/step - loss: 0.0651 - sparse_categorical_accuracy: 1.0000 - val_loss: 0.0890 - val_sparse_categorical_accuracy: 0.9680 - lr: 5.0000e-04\n",
      "Epoch 50/100\n",
      "7/7 [==============================] - 2s 278ms/step - loss: 0.0634 - sparse_categorical_accuracy: 1.0000 - val_loss: 0.0889 - val_sparse_categorical_accuracy: 0.9680 - lr: 5.0000e-04\n",
      "Epoch 51/100\n",
      "7/7 [==============================] - 2s 278ms/step - loss: 0.0610 - sparse_categorical_accuracy: 1.0000 - val_loss: 0.0875 - val_sparse_categorical_accuracy: 0.9680 - lr: 5.0000e-04\n",
      "Epoch 52/100\n",
      "7/7 [==============================] - 2s 277ms/step - loss: 0.0615 - sparse_categorical_accuracy: 1.0000 - val_loss: 0.0867 - val_sparse_categorical_accuracy: 0.9680 - lr: 5.0000e-04\n",
      "Epoch 53/100\n",
      "7/7 [==============================] - 2s 284ms/step - loss: 0.0601 - sparse_categorical_accuracy: 1.0000 - val_loss: 0.0788 - val_sparse_categorical_accuracy: 0.9722 - lr: 5.0000e-04\n",
      "Epoch 54/100\n",
      "7/7 [==============================] - 2s 275ms/step - loss: 0.0615 - sparse_categorical_accuracy: 0.9961 - val_loss: 0.0779 - val_sparse_categorical_accuracy: 0.9722 - lr: 5.0000e-04\n",
      "Epoch 55/100\n",
      "7/7 [==============================] - 2s 274ms/step - loss: 0.0560 - sparse_categorical_accuracy: 1.0000 - val_loss: 0.0857 - val_sparse_categorical_accuracy: 0.9680 - lr: 5.0000e-04\n",
      "Epoch 56/100\n",
      "7/7 [==============================] - 2s 275ms/step - loss: 0.0551 - sparse_categorical_accuracy: 1.0000 - val_loss: 0.0811 - val_sparse_categorical_accuracy: 0.9680 - lr: 5.0000e-04\n",
      "Epoch 57/100\n",
      "7/7 [==============================] - 2s 279ms/step - loss: 0.0539 - sparse_categorical_accuracy: 1.0000 - val_loss: 0.0691 - val_sparse_categorical_accuracy: 0.9768 - lr: 5.0000e-04\n",
      "Epoch 58/100\n",
      "7/7 [==============================] - 2s 276ms/step - loss: 0.0510 - sparse_categorical_accuracy: 1.0000 - val_loss: 0.0722 - val_sparse_categorical_accuracy: 0.9768 - lr: 5.0000e-04\n",
      "Epoch 59/100\n",
      "7/7 [==============================] - 2s 281ms/step - loss: 0.0505 - sparse_categorical_accuracy: 1.0000 - val_loss: 0.0669 - val_sparse_categorical_accuracy: 0.9794 - lr: 5.0000e-04\n",
      "Epoch 60/100\n",
      "7/7 [==============================] - 2s 275ms/step - loss: 0.0492 - sparse_categorical_accuracy: 1.0000 - val_loss: 0.0612 - val_sparse_categorical_accuracy: 0.9983 - lr: 5.0000e-04\n",
      "Epoch 61/100\n",
      "7/7 [==============================] - 2s 278ms/step - loss: 0.0471 - sparse_categorical_accuracy: 1.0000 - val_loss: 0.0594 - val_sparse_categorical_accuracy: 1.0000 - lr: 5.0000e-04\n",
      "Epoch 62/100\n",
      "7/7 [==============================] - 2s 276ms/step - loss: 0.0506 - sparse_categorical_accuracy: 1.0000 - val_loss: 0.0623 - val_sparse_categorical_accuracy: 0.9916 - lr: 5.0000e-04\n",
      "Epoch 63/100\n",
      "7/7 [==============================] - 2s 275ms/step - loss: 0.0459 - sparse_categorical_accuracy: 1.0000 - val_loss: 0.0636 - val_sparse_categorical_accuracy: 0.9857 - lr: 5.0000e-04\n",
      "Epoch 64/100\n",
      "7/7 [==============================] - 2s 274ms/step - loss: 0.0450 - sparse_categorical_accuracy: 1.0000 - val_loss: 0.0611 - val_sparse_categorical_accuracy: 0.9928 - lr: 5.0000e-04\n",
      "Epoch 65/100\n",
      "7/7 [==============================] - 2s 280ms/step - loss: 0.0457 - sparse_categorical_accuracy: 1.0000 - val_loss: 0.0633 - val_sparse_categorical_accuracy: 0.9890 - lr: 5.0000e-04\n",
      "Epoch 66/100\n",
      "7/7 [==============================] - 2s 280ms/step - loss: 0.0442 - sparse_categorical_accuracy: 1.0000 - val_loss: 0.0511 - val_sparse_categorical_accuracy: 1.0000 - lr: 5.0000e-04\n",
      "Epoch 67/100\n",
      "7/7 [==============================] - 2s 277ms/step - loss: 0.0447 - sparse_categorical_accuracy: 1.0000 - val_loss: 0.0534 - val_sparse_categorical_accuracy: 1.0000 - lr: 5.0000e-04\n",
      "Epoch 68/100\n",
      "7/7 [==============================] - 2s 277ms/step - loss: 0.0433 - sparse_categorical_accuracy: 1.0000 - val_loss: 0.0524 - val_sparse_categorical_accuracy: 1.0000 - lr: 5.0000e-04\n",
      "Epoch 69/100\n",
      "7/7 [==============================] - 2s 279ms/step - loss: 0.0399 - sparse_categorical_accuracy: 1.0000 - val_loss: 0.0495 - val_sparse_categorical_accuracy: 1.0000 - lr: 5.0000e-04\n",
      "Epoch 70/100\n",
      "7/7 [==============================] - 2s 283ms/step - loss: 0.0395 - sparse_categorical_accuracy: 1.0000 - val_loss: 0.0462 - val_sparse_categorical_accuracy: 1.0000 - lr: 5.0000e-04\n",
      "Epoch 71/100\n",
      "7/7 [==============================] - 2s 281ms/step - loss: 0.0397 - sparse_categorical_accuracy: 0.9997 - val_loss: 0.0458 - val_sparse_categorical_accuracy: 1.0000 - lr: 5.0000e-04\n",
      "Epoch 72/100\n",
      "7/7 [==============================] - 2s 278ms/step - loss: 0.0380 - sparse_categorical_accuracy: 1.0000 - val_loss: 0.0478 - val_sparse_categorical_accuracy: 1.0000 - lr: 5.0000e-04\n",
      "Epoch 73/100\n",
      "7/7 [==============================] - 2s 282ms/step - loss: 0.0365 - sparse_categorical_accuracy: 1.0000 - val_loss: 0.0430 - val_sparse_categorical_accuracy: 1.0000 - lr: 5.0000e-04\n",
      "Epoch 74/100\n",
      "7/7 [==============================] - 2s 280ms/step - loss: 0.0360 - sparse_categorical_accuracy: 1.0000 - val_loss: 0.0415 - val_sparse_categorical_accuracy: 1.0000 - lr: 5.0000e-04\n",
      "Epoch 75/100\n",
      "7/7 [==============================] - 2s 285ms/step - loss: 0.0358 - sparse_categorical_accuracy: 1.0000 - val_loss: 0.0377 - val_sparse_categorical_accuracy: 1.0000 - lr: 5.0000e-04\n",
      "Epoch 76/100\n",
      "7/7 [==============================] - 2s 283ms/step - loss: 0.0365 - sparse_categorical_accuracy: 1.0000 - val_loss: 0.0349 - val_sparse_categorical_accuracy: 1.0000 - lr: 5.0000e-04\n",
      "Epoch 77/100\n",
      "7/7 [==============================] - 2s 276ms/step - loss: 0.0348 - sparse_categorical_accuracy: 1.0000 - val_loss: 0.0381 - val_sparse_categorical_accuracy: 1.0000 - lr: 5.0000e-04\n",
      "Epoch 78/100\n",
      "7/7 [==============================] - 2s 276ms/step - loss: 0.0330 - sparse_categorical_accuracy: 1.0000 - val_loss: 0.0355 - val_sparse_categorical_accuracy: 1.0000 - lr: 5.0000e-04\n",
      "Epoch 79/100\n",
      "7/7 [==============================] - 2s 280ms/step - loss: 0.0338 - sparse_categorical_accuracy: 1.0000 - val_loss: 0.0325 - val_sparse_categorical_accuracy: 1.0000 - lr: 5.0000e-04\n",
      "Epoch 80/100\n",
      "7/7 [==============================] - 2s 283ms/step - loss: 0.0332 - sparse_categorical_accuracy: 1.0000 - val_loss: 0.0337 - val_sparse_categorical_accuracy: 1.0000 - lr: 5.0000e-04\n",
      "Epoch 81/100\n",
      "7/7 [==============================] - 2s 279ms/step - loss: 0.0330 - sparse_categorical_accuracy: 1.0000 - val_loss: 0.0335 - val_sparse_categorical_accuracy: 1.0000 - lr: 5.0000e-04\n",
      "Epoch 82/100\n",
      "7/7 [==============================] - 2s 282ms/step - loss: 0.0296 - sparse_categorical_accuracy: 1.0000 - val_loss: 0.0302 - val_sparse_categorical_accuracy: 1.0000 - lr: 5.0000e-04\n",
      "Epoch 83/100\n",
      "7/7 [==============================] - 2s 282ms/step - loss: 0.0320 - sparse_categorical_accuracy: 1.0000 - val_loss: 0.0299 - val_sparse_categorical_accuracy: 1.0000 - lr: 5.0000e-04\n",
      "Epoch 84/100\n",
      "7/7 [==============================] - 2s 281ms/step - loss: 0.0287 - sparse_categorical_accuracy: 1.0000 - val_loss: 0.0284 - val_sparse_categorical_accuracy: 1.0000 - lr: 5.0000e-04\n",
      "Epoch 85/100\n",
      "7/7 [==============================] - 2s 281ms/step - loss: 0.0280 - sparse_categorical_accuracy: 1.0000 - val_loss: 0.0274 - val_sparse_categorical_accuracy: 1.0000 - lr: 5.0000e-04\n",
      "Epoch 86/100\n",
      "7/7 [==============================] - 2s 279ms/step - loss: 0.0300 - sparse_categorical_accuracy: 1.0000 - val_loss: 0.0274 - val_sparse_categorical_accuracy: 1.0000 - lr: 5.0000e-04\n",
      "Epoch 87/100\n",
      "7/7 [==============================] - 2s 277ms/step - loss: 0.0296 - sparse_categorical_accuracy: 1.0000 - val_loss: 0.0315 - val_sparse_categorical_accuracy: 1.0000 - lr: 5.0000e-04\n",
      "Epoch 88/100\n",
      "7/7 [==============================] - 2s 282ms/step - loss: 0.0283 - sparse_categorical_accuracy: 1.0000 - val_loss: 0.0267 - val_sparse_categorical_accuracy: 1.0000 - lr: 5.0000e-04\n",
      "Epoch 89/100\n",
      "7/7 [==============================] - 2s 284ms/step - loss: 0.0293 - sparse_categorical_accuracy: 1.0000 - val_loss: 0.0232 - val_sparse_categorical_accuracy: 1.0000 - lr: 5.0000e-04\n",
      "Epoch 90/100\n",
      "7/7 [==============================] - 2s 281ms/step - loss: 0.0266 - sparse_categorical_accuracy: 1.0000 - val_loss: 0.0245 - val_sparse_categorical_accuracy: 1.0000 - lr: 5.0000e-04\n",
      "Epoch 91/100\n",
      "7/7 [==============================] - 2s 281ms/step - loss: 0.0254 - sparse_categorical_accuracy: 1.0000 - val_loss: 0.0267 - val_sparse_categorical_accuracy: 1.0000 - lr: 5.0000e-04\n",
      "Epoch 92/100\n",
      "7/7 [==============================] - 2s 280ms/step - loss: 0.0252 - sparse_categorical_accuracy: 1.0000 - val_loss: 0.0252 - val_sparse_categorical_accuracy: 1.0000 - lr: 5.0000e-04\n",
      "Epoch 93/100\n",
      "7/7 [==============================] - 2s 281ms/step - loss: 0.0248 - sparse_categorical_accuracy: 1.0000 - val_loss: 0.0243 - val_sparse_categorical_accuracy: 1.0000 - lr: 5.0000e-04\n",
      "Epoch 94/100\n",
      "7/7 [==============================] - 2s 278ms/step - loss: 0.0262 - sparse_categorical_accuracy: 1.0000 - val_loss: 0.0232 - val_sparse_categorical_accuracy: 1.0000 - lr: 5.0000e-04\n",
      "Epoch 95/100\n",
      "7/7 [==============================] - 2s 278ms/step - loss: 0.0243 - sparse_categorical_accuracy: 1.0000 - val_loss: 0.0233 - val_sparse_categorical_accuracy: 1.0000 - lr: 2.5000e-04\n",
      "Epoch 96/100\n",
      "7/7 [==============================] - 2s 278ms/step - loss: 0.0236 - sparse_categorical_accuracy: 1.0000 - val_loss: 0.0225 - val_sparse_categorical_accuracy: 1.0000 - lr: 2.5000e-04\n",
      "Epoch 97/100\n",
      "7/7 [==============================] - 2s 279ms/step - loss: 0.0239 - sparse_categorical_accuracy: 1.0000 - val_loss: 0.0220 - val_sparse_categorical_accuracy: 1.0000 - lr: 2.5000e-04\n",
      "Epoch 98/100\n",
      "7/7 [==============================] - 2s 284ms/step - loss: 0.0227 - sparse_categorical_accuracy: 1.0000 - val_loss: 0.0219 - val_sparse_categorical_accuracy: 1.0000 - lr: 2.5000e-04\n",
      "Epoch 99/100\n",
      "7/7 [==============================] - 2s 281ms/step - loss: 0.0242 - sparse_categorical_accuracy: 1.0000 - val_loss: 0.0221 - val_sparse_categorical_accuracy: 1.0000 - lr: 2.5000e-04\n",
      "Epoch 100/100\n",
      "7/7 [==============================] - 2s 281ms/step - loss: 0.0275 - sparse_categorical_accuracy: 1.0000 - val_loss: 0.0223 - val_sparse_categorical_accuracy: 1.0000 - lr: 2.5000e-04\n"
     ]
    }
   ],
   "source": [
    "epochs = 100\n",
    "batch_size = 540\n",
    "\n",
    "callbacks = [\n",
    "    keras.callbacks.ModelCheckpoint(\n",
    "        \"best_model(single-level(without IMU)).h5\", save_best_only=True, monitor=\"val_loss\"\n",
    "    ),\n",
    "    keras.callbacks.ReduceLROnPlateau(\n",
    "        monitor=\"val_loss\", factor=0.5, patience=5, min_lr=0.0001\n",
    "    ),\n",
    "    keras.callbacks.EarlyStopping(monitor=\"val_loss\", patience=12, verbose=1),\n",
    "]\n",
    "model.compile(\n",
    "    optimizer=\"adam\",\n",
    "    loss=\"sparse_categorical_crossentropy\",\n",
    "    metrics=[\"sparse_categorical_accuracy\"],\n",
    ")\n",
    "# model.compile(\n",
    "#     optimizer=\"adam\",\n",
    "#     loss=\"categorical_crossentropy\",\n",
    "#     metrics=[\"accuracy\"],\n",
    "# )\n",
    "history = model.fit(\n",
    "    dftrain,\n",
    "    dftrainlabels,\n",
    "    batch_size=batch_size,\n",
    "    epochs=epochs,\n",
    "    callbacks=callbacks,\n",
    "    validation_split=0.4,\n",
    "    verbose=1,\n",
    ")"
   ]
  },
  {
   "cell_type": "code",
   "execution_count": 27,
   "metadata": {},
   "outputs": [
    {
     "data": {
      "image/png": "[encoded data removed]",
      "text/plain": [
       "<Figure size 640x480 with 1 Axes>"
      ]
     },
     "metadata": {},
     "output_type": "display_data"
    },
    {
     "name": "stdout",
     "output_type": "stream",
     "text": [
      "186/186 [==============================] - 2s 9ms/step\n",
      "              precision    recall  f1-score   support\n",
      "\n",
      "         0.0       1.00      1.00      1.00      3234\n",
      "         1.0       1.00      1.00      1.00      2700\n",
      "\n",
      "    accuracy                           1.00      5934\n",
      "   macro avg       1.00      1.00      1.00      5934\n",
      "weighted avg       1.00      1.00      1.00      5934\n",
      "\n"
     ]
    }
   ],
   "source": [
    "# plt.figure(figsize=(6, 4))\n",
    "# plt.plot(history.history['accuracy'], 'r', label='Accuracy of training data')\n",
    "# plt.plot(history.history['val_accuracy'], 'b', label='Accuracy of validation data')\n",
    "# plt.plot(history.history['loss'], 'r--', label='Loss of training data')\n",
    "# plt.plot(history.history['val_loss'], 'b--', label='Loss of validation data')\n",
    "# plt.title('Model Accuracy and Loss')\n",
    "# plt.ylabel('Accuracy and Loss')\n",
    "# plt.xlabel('Training Epoch')\n",
    "# plt.ylim(0)\n",
    "# plt.legend()\n",
    "# plt.show()\n",
    "\n",
    "metric = \"sparse_categorical_accuracy\"\n",
    "plt.figure()\n",
    "plt.plot(history.history[metric])\n",
    "plt.plot(history.history[\"val_\" + metric])\n",
    "plt.plot(history.history['loss'], 'r--', label='Loss of training data')\n",
    "plt.plot(history.history['val_loss'], 'b--', label='Loss of validation data')\n",
    "plt.title(\"model \" + metric)\n",
    "plt.ylabel(metric, fontsize=\"large\")\n",
    "plt.xlabel(\"epoch\", fontsize=\"large\")\n",
    "plt.legend([\"train\", \"val\",\"loss\",\"val_loss\"], loc=\"best\")\n",
    "plt.show()\n",
    "plt.close()\n",
    "\n",
    "# Print confusion matrix for training data\n",
    "y_pred_train = model.predict(dftrain)\n",
    "# Take the class with the highest probability from the train predictions\n",
    "max_y_pred_train = np.argmax(y_pred_train, axis=1)\n",
    "print(classification_report(dftrainlabels, max_y_pred_train))"
   ]
  },
  {
   "attachments": {},
   "cell_type": "markdown",
   "metadata": {},
   "source": [
    "### Checking against Testing Data"
   ]
  },
  {
   "cell_type": "code",
   "execution_count": 28,
   "metadata": {},
   "outputs": [],
   "source": [
    "\n",
    "# Set input_shape / reshape for Keras\n",
    "# dftest = dftest.reshape(dftest.shape[0], input_shape)\n",
    "\n",
    "dftest = dftest.astype('float32')\n",
    "dftestlabels = dftestlabels.astype('float32')\n",
    "\n",
    "dftestlabels_hot = np_utils.to_categorical(dftestlabels, num_classes)\n"
   ]
  },
  {
   "cell_type": "code",
   "execution_count": 29,
   "metadata": {},
   "outputs": [
    {
     "name": "stdout",
     "output_type": "stream",
     "text": [
      "New dfttrainlabels shape:  [[1. 0.]\n",
      " [1. 0.]\n",
      " [1. 0.]\n",
      " ...\n",
      " [0. 1.]\n",
      " [0. 1.]\n",
      " [0. 1.]]\n",
      "New dfttrainlabels shape:  (2100,)\n",
      "New dfttrainlabels shape:  [0. 0. 0. ... 1. 1. 1.]\n"
     ]
    }
   ],
   "source": [
    "print('New dfttrainlabels shape: ', dftestlabels_hot)\n",
    "print('New dfttrainlabels shape: ', dftestlabels.shape)\n",
    "print('New dfttrainlabels shape: ', dftestlabels)"
   ]
  },
  {
   "cell_type": "code",
   "execution_count": 30,
   "metadata": {},
   "outputs": [],
   "source": [
    "# score = model_m.evaluate(dftest, dftestlabels_hot, verbose=1)\n",
    "\n",
    "# print('\\nAccuracy on test data: %0.2f' % score[1])\n",
    "# print('\\nLoss on test data: %0.2f' % score[0])"
   ]
  },
  {
   "cell_type": "code",
   "execution_count": 31,
   "metadata": {},
   "outputs": [],
   "source": [
    "# LABELS = ['Awake','Drowsy','Indeterminate']\n",
    "LABELS = ['Awake','Drowsy']"
   ]
  },
  {
   "cell_type": "code",
   "execution_count": 32,
   "metadata": {},
   "outputs": [],
   "source": [
    "# metric = \"sparse_categorical_accuracy\"\n",
    "# plt.figure()\n",
    "# plt.plot(history.history[metric])\n",
    "# plt.plot(history.history[\"val_\" + metric])\n",
    "# plt.title(\"model \" + metric)\n",
    "# plt.ylabel(metric, fontsize=\"large\")\n",
    "# plt.xlabel(\"epoch\", fontsize=\"large\")\n",
    "# plt.legend([\"train\", \"val\"], loc=\"best\")\n",
    "# plt.show()\n",
    "# plt.close()"
   ]
  },
  {
   "cell_type": "code",
   "execution_count": 33,
   "metadata": {},
   "outputs": [
    {
     "name": "stdout",
     "output_type": "stream",
     "text": [
      "66/66 [==============================] - 1s 9ms/step - loss: 0.0671 - sparse_categorical_accuracy: 1.0000\n",
      "Test accuracy 1.0\n",
      "Test loss 0.06707649677991867\n"
     ]
    }
   ],
   "source": [
    "# model = keras.models.load_model(\"best_model(single-levelv1).h5\")\n",
    "\n",
    "test_loss, test_acc = model.evaluate(dftest, dftestlabels,verbose=1)\n",
    "\n",
    "print(\"Test accuracy\", test_acc)\n",
    "print(\"Test loss\", test_loss)"
   ]
  },
  {
   "cell_type": "code",
   "execution_count": 34,
   "metadata": {},
   "outputs": [],
   "source": [
    "# # Print confusion matrix for training data\n",
    "# y_pred_train = model.predict(dftest)\n",
    "# # Take the class with the highest probability from the train predictions\n",
    "# max_y_pred_train = np.argmax(y_pred_train, axis=1)\n",
    "# print(classification_report(dftestlabels, max_y_pred_train))"
   ]
  },
  {
   "cell_type": "code",
   "execution_count": 35,
   "metadata": {},
   "outputs": [
    {
     "name": "stdout",
     "output_type": "stream",
     "text": [
      "66/66 [==============================] - 1s 10ms/step\n"
     ]
    },
    {
     "data": {
      "image/png": "[encoded data removed]",
      "text/plain": [
       "<Figure size 600x400 with 2 Axes>"
      ]
     },
     "metadata": {},
     "output_type": "display_data"
    },
    {
     "name": "stdout",
     "output_type": "stream",
     "text": [
      "              precision    recall  f1-score   support\n",
      "\n",
      "           0       1.00      1.00      1.00       900\n",
      "           1       1.00      1.00      1.00      1200\n",
      "\n",
      "    accuracy                           1.00      2100\n",
      "   macro avg       1.00      1.00      1.00      2100\n",
      "weighted avg       1.00      1.00      1.00      2100\n",
      "\n"
     ]
    }
   ],
   "source": [
    "def show_confusion_matrix(validations, predictions):\n",
    "\n",
    "    matrix = metrics.confusion_matrix(validations, predictions)\n",
    "    plt.figure(figsize=(6, 4))\n",
    "    sns.heatmap(matrix,\n",
    "                cmap='coolwarm',\n",
    "                linecolor='white',\n",
    "                linewidths=1,\n",
    "                xticklabels=LABELS,\n",
    "                yticklabels=LABELS,\n",
    "                annot=True,\n",
    "                fmt='d')\n",
    "    plt.title('Confusion Matrix')\n",
    "    plt.ylabel('True Label')\n",
    "    plt.xlabel('Predicted Label')\n",
    "    plt.show()\n",
    "\n",
    "y_pred_test = model.predict(dftest)\n",
    "# Take the class with the highest probability from the test predictions\n",
    "max_y_pred_test = np.argmax(y_pred_test, axis=1)\n",
    "max_y_test = np.argmax(dftestlabels_hot, axis=1)\n",
    "\n",
    "show_confusion_matrix(max_y_test, max_y_pred_test)\n",
    "\n",
    "print(classification_report(max_y_test, max_y_pred_test))"
   ]
  },
  {
   "cell_type": "code",
   "execution_count": 36,
   "metadata": {},
   "outputs": [],
   "source": [
    "# model = keras.models.load_model(\"best_model.h5\")\n",
    "# print(model.summary())"
   ]
  },
  {
   "cell_type": "code",
   "execution_count": 37,
   "metadata": {},
   "outputs": [
    {
     "name": "stdout",
     "output_type": "stream",
     "text": [
      "113/113 [==============================] - 1s 8ms/step - loss: 0.6140 - sparse_categorical_accuracy: 0.8333\n",
      "Test accuracy 0.8333333134651184\n",
      "Test loss 0.6139875650405884\n",
      "113/113 [==============================] - 1s 8ms/step\n"
     ]
    },
    {
     "data": {
      "image/png": "[encoded data removed]",
      "text/plain": [
       "<Figure size 600x400 with 2 Axes>"
      ]
     },
     "metadata": {},
     "output_type": "display_data"
    },
    {
     "name": "stdout",
     "output_type": "stream",
     "text": [
      "              precision    recall  f1-score   support\n",
      "\n",
      "           0       0.75      1.00      0.86      1800\n",
      "           1       1.00      0.67      0.80      1800\n",
      "\n",
      "    accuracy                           0.83      3600\n",
      "   macro avg       0.88      0.83      0.83      3600\n",
      "weighted avg       0.88      0.83      0.83      3600\n",
      "\n"
     ]
    }
   ],
   "source": [
    "dfAwake_test1 = pd.read_csv('Data/Validation/validation_AData.txt', header=None, delim_whitespace=True)\n",
    "dfDrowsy_test1 = pd.read_csv('Data/Validation/validation_DData.txt', header=None, delim_whitespace=True)\n",
    "\n",
    "dfAwake_test1 = dfAwake_test1.drop(dfAwake_test1.iloc[:,11:14],axis = 1)\n",
    "dfAwake_test1 = dfAwake_test1.drop(dfAwake_test1.iloc[:,0:3],axis = 1)\n",
    "dfDrowsy_test1 = dfDrowsy_test1.drop(dfDrowsy_test1.iloc[:,11:14],axis = 1)\n",
    "dfDrowsy_test1 = dfDrowsy_test1.drop(dfDrowsy_test1.iloc[:,0:3],axis = 1)\n",
    "\n",
    "dfAwake_test1 = dfAwake_test1.to_numpy()\n",
    "dfDrowsy_test1 = dfDrowsy_test1.to_numpy()\n",
    "dfAwake_test1 = dfAwake_test1.reshape(1800,900,9)\n",
    "dfDrowsy_test1 = dfDrowsy_test1.reshape(1800,900,9)\n",
    "\n",
    "dfAwake_testLabels1 = np.zeros(1800)\n",
    "dfDrowsy_testLabels1 = np.ones(1800)\n",
    "\n",
    "dftest1 = np.concatenate((dfAwake_test1, dfDrowsy_test1))\n",
    "dftestlabels1 =np.concatenate((dfAwake_testLabels1, dfDrowsy_testLabels1))\n",
    "\n",
    "dftest1 = dftest1.astype('float32')\n",
    "dftestlabels1 = dftestlabels1.astype('float32')\n",
    "\n",
    "dftestlabels_hot1 = np_utils.to_categorical(dftestlabels1, num_classes)\n",
    "\n",
    "# model = keras.models.load_model(\"best_model(eeg).h5\")\n",
    "\n",
    "test_loss1, test_acc1 = model.evaluate(dftest1, dftestlabels1,verbose=1)\n",
    "\n",
    "print(\"Test accuracy\", test_acc1)\n",
    "print(\"Test loss\", test_loss1)\n",
    "\n",
    "y_pred_test1 = model.predict(dftest1)\n",
    "# Take the class with the highest probability from the test predictions\n",
    "max_y_pred_test1 = np.argmax(y_pred_test1, axis=1)\n",
    "# max_y_pred_test1 = np.rint(y_pred_test1)\n",
    "max_y_test1 = np.argmax(dftestlabels_hot1, axis=1)\n",
    "\n",
    "show_confusion_matrix(max_y_test1, max_y_pred_test1)\n",
    "\n",
    "print(classification_report(max_y_test1, max_y_pred_test1))"
   ]
  },
  {
   "cell_type": "code",
   "execution_count": 39,
   "metadata": {},
   "outputs": [
    {
     "name": "stdout",
     "output_type": "stream",
     "text": [
      "75/75 [==============================] - 0s 3ms/step - loss: 0.9176 - sparse_categorical_accuracy: 0.7500\n",
      "Test accuracy 0.75\n",
      "Test loss 0.9176015257835388\n",
      "75/75 [==============================] - 0s 3ms/step\n"
     ]
    },
    {
     "data": {
      "image/png": "[encoded data removed]",
      "text/plain": [
       "<Figure size 600x400 with 2 Axes>"
      ]
     },
     "metadata": {},
     "output_type": "display_data"
    },
    {
     "name": "stdout",
     "output_type": "stream",
     "text": [
      "              precision    recall  f1-score   support\n",
      "\n",
      "           0       0.67      1.00      0.80      1200\n",
      "           1       1.00      0.50      0.67      1200\n",
      "\n",
      "    accuracy                           0.75      2400\n",
      "   macro avg       0.83      0.75      0.73      2400\n",
      "weighted avg       0.83      0.75      0.73      2400\n",
      "\n"
     ]
    }
   ],
   "source": [
    "dfAwake_train1 = pd.read_csv('Data/Validation/Individual Data/AData1.txt', header=None, delim_whitespace=True)\n",
    "dfDrowsy_train1 = pd.read_csv('Data/Validation/Individual Data/DData1.txt', header=None, delim_whitespace=True)\n",
    "dfAwake_train2 = pd.read_csv('Data/Validation/Individual Data/AData3.txt', header=None, delim_whitespace=True)\n",
    "dfDrowsy_train2 = pd.read_csv('Data/Validation/Individual Data/DData3.txt', header=None, delim_whitespace=True)\n",
    "\n",
    "Awake_frames = [dfAwake_train1, dfAwake_train2]\n",
    "Drowsy_frames = [dfDrowsy_train1, dfDrowsy_train2]\n",
    "dfAwake_test1 = pd.concat(Awake_frames)\n",
    "dfDrowsy_test1 = pd.concat(Drowsy_frames)\n",
    "\n",
    "dfAwake_test1 = dfAwake_test1.drop(dfAwake_test1.iloc[:,11:14],axis = 1)\n",
    "dfAwake_test1 = dfAwake_test1.drop(dfAwake_test1.iloc[:,0:3],axis = 1)\n",
    "dfDrowsy_test1 = dfDrowsy_test1.drop(dfDrowsy_test1.iloc[:,11:14],axis = 1)\n",
    "dfDrowsy_test1 = dfDrowsy_test1.drop(dfDrowsy_test1.iloc[:,0:3],axis = 1)\n",
    "\n",
    "dfAwake_test1 = dfAwake_test1.to_numpy()\n",
    "dfDrowsy_test1 = dfDrowsy_test1.to_numpy()\n",
    "dfAwake_test1 = dfAwake_test1.reshape(1200,900,9)\n",
    "dfDrowsy_test1 = dfDrowsy_test1.reshape(1200,900,9)\n",
    "\n",
    "dfAwake_testLabels1 = np.zeros(1200)\n",
    "dfDrowsy_testLabels1 = np.ones(1200)\n",
    "\n",
    "dftest1 = np.concatenate((dfAwake_test1, dfDrowsy_test1))\n",
    "dftestlabels1 =np.concatenate((dfAwake_testLabels1, dfDrowsy_testLabels1))\n",
    "\n",
    "dftest1 = dftest1.astype('float32')\n",
    "dftestlabels1 = dftestlabels1.astype('float32')\n",
    "\n",
    "dftestlabels_hot1 = np_utils.to_categorical(dftestlabels1, num_classes)\n",
    "\n",
    "# model = keras.models.load_model(\"best_model(eeg).h5\")\n",
    "\n",
    "test_loss1, test_acc1 = model.evaluate(dftest1, dftestlabels1,verbose=1)\n",
    "\n",
    "print(\"Test accuracy\", test_acc1)\n",
    "print(\"Test loss\", test_loss1)\n",
    "\n",
    "y_pred_test1 = model.predict(dftest1)\n",
    "# Take the class with the highest probability from the test predictions\n",
    "max_y_pred_test1 = np.argmax(y_pred_test1, axis=1)\n",
    "# max_y_pred_test1 = np.rint(y_pred_test1)\n",
    "max_y_test1 = np.argmax(dftestlabels_hot1, axis=1)\n",
    "\n",
    "show_confusion_matrix(max_y_test1, max_y_pred_test1)\n",
    "\n",
    "print(classification_report(max_y_test1, max_y_pred_test1))"
   ]
  }
 ],
 "metadata": {
  "kernelspec": {
   "display_name": "Python 3",
   "language": "python",
   "name": "python3"
  },
  "language_info": {
   "codemirror_mode": {
    "name": "ipython",
    "version": 3
   },
   "file_extension": ".py",
   "mimetype": "text/x-python",
   "name": "python",
   "nbconvert_exporter": "python",
   "pygments_lexer": "ipython3",
   "version": "3.10.8"
  },
  "orig_nbformat": 4,
  "vscode": {
   "interpreter": {
    "hash": "26de051ba29f2982a8de78e945f0abaf191376122a1563185a90213a26c5da77"
   }
  }
 },
 "nbformat": 4,
 "nbformat_minor": 2
}
