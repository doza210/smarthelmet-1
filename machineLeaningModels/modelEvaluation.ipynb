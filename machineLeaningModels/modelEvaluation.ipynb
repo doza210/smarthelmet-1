{
 "cells": [
  {
   "cell_type": "code",
   "execution_count": 100,
   "metadata": {},
   "outputs": [],
   "source": [
    "from __future__ import print_function\n",
    "from matplotlib import pyplot as plt\n",
    "import numpy as np\n",
    "import pandas as pd\n",
    "import seaborn as sns\n",
    "from scipy import stats\n",
    "from IPython.display import display, HTML\n",
    "\n",
    "from sklearn import metrics\n",
    "from sklearn.metrics import classification_report\n",
    "from sklearn import preprocessing\n",
    "\n",
    "import keras\n",
    "from keras.models import Sequential\n",
    "from keras.layers import Dense, Dropout, Flatten, Reshape\n",
    "from keras.layers import Conv2D, MaxPooling2D\n",
    "from keras.utils import np_utils\n",
    "from keras.layers import BatchNormalization\n",
    "from keras.optimizers import Adam\n",
    "from keras import backend as K"
   ]
  },
  {
   "cell_type": "code",
   "execution_count": 101,
   "metadata": {},
   "outputs": [],
   "source": [
    "#7200 datasets\n",
    "dfAwake_train = pd.read_csv('Data/Validation/Individual Data/AData2.txt', header=None, delim_whitespace=True)\n",
    "dfDrowsy_train = pd.read_csv('Data/Validation/Individual Data/DData2.txt', header=None, delim_whitespace=True)\n",
    "# dfAwake_train2 = pd.read_csv('Data/Validation/Individual Data/AData2.txt', header=None, delim_whitespace=True)\n",
    "# dfDrowsy_train2 = pd.read_csv('Data/Validation/Individual Data/DData2.txt', header=None, delim_whitespace=True)\n",
    "# dfAwake_train3 = pd.read_csv('Data/Validation/Individual Data/AData3.txt', header=None, delim_whitespace=True)\n",
    "# dfDrowsy_train3 = pd.read_csv('Data/Validation/Individual Data/DData3.txt', header=None, delim_whitespace=True)\n",
    "\n",
    "\n",
    "# dfAwake_train1 = pd.read_csv('Data/Validation/validation_AData.txt', header=None, delim_whitespace=True)\n",
    "# dfDrowsy_train1 = pd.read_csv('Data/Validation/validation_DData.txt', header=None, delim_whitespace=True)\n",
    "# dfAwake_train2 = pd.read_csv('Data/testing_AData.txt', header=None, delim_whitespace=True)\n",
    "# dfDrowsy_train2 = pd.read_csv('Data/testing_DData.txt', header=None, delim_whitespace=True)\n",
    "# dfAwake_train2 = pd.read_csv('Data/Data for 2nd Level Classification/testing2_AData.txt', header=None, delim_whitespace=True)\n",
    "# dfDrowsy_train2 = pd.read_csv('Data/Data for 2nd Level Classification/testing2_DData.txt', header=None, delim_whitespace=True)\n",
    "\n",
    "# dfAwake_train = pd.read_csv('Data/Subset Data/for PERCLOS/Subset 5/subset5_train_AData.txt', header=None, delim_whitespace=True)\n",
    "# dfDrowsy_train = pd.read_csv('Data/Subset Data/for PERCLOS/Subset 5/subset5_train_DData.txt', header=None, delim_whitespace=True)\n",
    "# dfAwake_test = pd.read_csv('Data/Data for 2nd Level Classification/testing2_AData.txt', header=None, delim_whitespace=True)\n",
    "# dfDrowsy_test = pd.read_csv('Data/Data for 2nd Level Classification/testing2_DData.txt', header=None, delim_whitespace=True)"
   ]
  },
  {
   "cell_type": "code",
   "execution_count": 102,
   "metadata": {},
   "outputs": [],
   "source": [
    "# Awake_frames = [dfAwake_train1, dfAwake_train3]\n",
    "# Drowsy_frames = [dfDrowsy_train1, dfDrowsy_train3]\n",
    "# dfAwake_train = pd.concat(Awake_frames)\n",
    "# dfDrowsy_train = pd.concat(Drowsy_frames)"
   ]
  },
  {
   "cell_type": "code",
   "execution_count": 103,
   "metadata": {},
   "outputs": [
    {
     "name": "stdout",
     "output_type": "stream",
     "text": [
      "(540000, 15)\n",
      "(540000, 15)\n"
     ]
    }
   ],
   "source": [
    "print(dfAwake_train.shape)\n",
    "print(dfDrowsy_train.shape)\n",
    "# print(dfAwake_test.shape)\n",
    "# print(dfDrowsy_test.shape)"
   ]
  },
  {
   "attachments": {},
   "cell_type": "markdown",
   "metadata": {},
   "source": [
    "### Copying dataframe for individual Modules"
   ]
  },
  {
   "cell_type": "code",
   "execution_count": 104,
   "metadata": {},
   "outputs": [],
   "source": [
    "dfAwakeIMU_train = dfAwakePerclos_train = dfAwakeEEG_train = dfAwake_train\n",
    "dfDrowsyIMU_train = dfDrowsyPerclos_train = dfDrowsyEEG_train = dfDrowsy_train\n",
    "# dfAwakeIMU_test = dfAwakePerclos_test = dfAwakeEEG_test = dfAwake_test\n",
    "# dfDrowsyIMU_test = dfDrowsyPerclos_test = dfDrowsyEEG_test = dfDrowsy_test"
   ]
  },
  {
   "cell_type": "code",
   "execution_count": 105,
   "metadata": {},
   "outputs": [
    {
     "name": "stdout",
     "output_type": "stream",
     "text": [
      "(540000, 15)\n",
      "(540000, 15)\n"
     ]
    }
   ],
   "source": [
    "print(dfAwakeIMU_train.shape)\n",
    "print(dfDrowsyIMU_train.shape)\n",
    "# print(dfAwakeIMU_test.shape)\n",
    "# print(dfDrowsyIMU_test.shape)"
   ]
  },
  {
   "cell_type": "code",
   "execution_count": 106,
   "metadata": {},
   "outputs": [
    {
     "name": "stdout",
     "output_type": "stream",
     "text": [
      "(540000, 15)\n",
      "(540000, 15)\n"
     ]
    }
   ],
   "source": [
    "print(dfAwakePerclos_train.shape)\n",
    "print(dfDrowsyPerclos_train.shape)\n",
    "# print(dfAwakePerclos_test.shape)\n",
    "# print(dfDrowsyPerclos_test.shape)"
   ]
  },
  {
   "cell_type": "code",
   "execution_count": 107,
   "metadata": {},
   "outputs": [
    {
     "name": "stdout",
     "output_type": "stream",
     "text": [
      "(540000, 15)\n",
      "(540000, 15)\n"
     ]
    }
   ],
   "source": [
    "print(dfAwakeEEG_train.shape)\n",
    "print(dfDrowsyEEG_train.shape)\n",
    "# print(dfAwakeEEG_test.shape)\n",
    "# print(dfDrowsyEEG_test.shape)"
   ]
  },
  {
   "attachments": {},
   "cell_type": "markdown",
   "metadata": {},
   "source": [
    "### Dropping Unnecessary Columns for particular Modules"
   ]
  },
  {
   "cell_type": "code",
   "execution_count": 108,
   "metadata": {},
   "outputs": [
    {
     "name": "stdout",
     "output_type": "stream",
     "text": [
      "              12        13\n",
      "0      -0.004991 -0.012289\n",
      "1      -0.026580  0.042095\n",
      "2      -0.024016  0.034277\n",
      "3      -0.027958  0.001679\n",
      "4      -0.023743 -0.002415\n",
      "...          ...       ...\n",
      "539995 -0.003002 -0.019220\n",
      "539996  0.007412  0.001263\n",
      "539997 -0.000026 -0.008946\n",
      "539998  0.018446  0.006562\n",
      "539999  0.005884 -0.006587\n",
      "\n",
      "[540000 rows x 2 columns]\n",
      "              12        13\n",
      "0      -0.006646 -0.000191\n",
      "1      -0.008065 -0.010442\n",
      "2       0.001410  0.005196\n",
      "3       0.011025  0.000535\n",
      "4       0.007304 -0.000485\n",
      "...          ...       ...\n",
      "539995  0.030498 -0.012245\n",
      "539996  0.025213  0.012352\n",
      "539997 -0.008896  0.012818\n",
      "539998  0.003654 -0.010252\n",
      "539999  0.022081  0.029251\n",
      "\n",
      "[540000 rows x 2 columns]\n"
     ]
    }
   ],
   "source": [
    "### For IMU\n",
    "dfAwakeIMU_train = dfAwakeIMU_train.drop(14,axis = 1)\n",
    "dfAwakeIMU_train = dfAwakeIMU_train.drop(dfAwakeIMU_train.iloc[:,0:12],axis = 1)\n",
    "dfDrowsyIMU_train = dfDrowsyIMU_train.drop(14,axis = 1)\n",
    "dfDrowsyIMU_train = dfDrowsyIMU_train.drop(dfDrowsyIMU_train.iloc[:,0:12],axis = 1)\n",
    "# dfAwakeIMU_test = dfAwakeIMU_test.drop(14,axis = 1)\n",
    "# dfAwakeIMU_test = dfAwakeIMU_test.drop(dfAwakeIMU_test.iloc[:,0:12],axis = 1)\n",
    "# dfDrowsyIMU_test = dfDrowsyIMU_test.drop(14,axis = 1)\n",
    "# dfDrowsyIMU_test = dfDrowsyIMU_test.drop(dfDrowsyIMU_test.iloc[:,0:12],axis = 1)\n",
    "\n",
    "print(dfAwakeIMU_train)\n",
    "print(dfDrowsyIMU_train)"
   ]
  },
  {
   "cell_type": "code",
   "execution_count": 109,
   "metadata": {},
   "outputs": [
    {
     "name": "stdout",
     "output_type": "stream",
     "text": [
      "         14\n",
      "0       0.0\n",
      "1       0.0\n",
      "2       0.0\n",
      "3       0.0\n",
      "4       0.0\n",
      "...     ...\n",
      "539995  0.0\n",
      "539996  0.0\n",
      "539997  0.0\n",
      "539998  0.0\n",
      "539999  0.0\n",
      "\n",
      "[540000 rows x 1 columns]\n",
      "               14\n",
      "0        8.555555\n",
      "1        8.555555\n",
      "2        8.555555\n",
      "3        8.555555\n",
      "4        8.555555\n",
      "...           ...\n",
      "539995  22.888889\n",
      "539996  22.777779\n",
      "539997  22.777779\n",
      "539998  23.222223\n",
      "539999  23.222223\n",
      "\n",
      "[540000 rows x 1 columns]\n"
     ]
    }
   ],
   "source": [
    "### FOR PERCLOS\n",
    "dfAwakePerclos_train = dfAwakePerclos_train.drop(dfAwakePerclos_train.iloc[:,0:14],axis = 1)\n",
    "dfDrowsyPerclos_train = dfDrowsyPerclos_train.drop(dfDrowsyPerclos_train.iloc[:,0:14],axis = 1)\n",
    "# dfAwakePerclos_test = dfAwakePerclos_test.drop(dfAwakePerclos_test.iloc[:,0:14],axis = 1)\n",
    "# dfDrowsyPerclos_test = dfDrowsyPerclos_test.drop(dfDrowsyPerclos_test.iloc[:,0:14],axis = 1)\n",
    "\n",
    "print(dfAwakePerclos_train)\n",
    "print(dfDrowsyPerclos_train)"
   ]
  },
  {
   "cell_type": "code",
   "execution_count": 110,
   "metadata": {},
   "outputs": [
    {
     "name": "stdout",
     "output_type": "stream",
     "text": [
      "        3         4         5         6         7         8         9   \\\n",
      "0        1  0.525227  0.187351  0.021937  0.421053  0.087825  0.077120   \n",
      "1        1  0.525227  0.187351  0.021937  0.421053  0.087825  0.077120   \n",
      "2        1  0.525227  0.187351  0.021937  0.421053  0.087825  0.077120   \n",
      "3        1  0.370602  0.031048  0.014259  0.012687  0.022052  0.018130   \n",
      "4        1  0.370602  0.031048  0.014259  0.012687  0.022052  0.018130   \n",
      "...     ..       ...       ...       ...       ...       ...       ...   \n",
      "539995   1  0.127508  0.068039  0.012409  0.046695  0.025934  0.026758   \n",
      "539996   1  0.029756  0.009655  0.006366  0.021712  0.008406  0.007814   \n",
      "539997   1  0.029756  0.009655  0.006366  0.021712  0.008406  0.007814   \n",
      "539998   1  0.029756  0.009655  0.006366  0.021712  0.008406  0.007814   \n",
      "539999   1  0.046604  0.021132  0.027070  0.045697  0.032134  0.012888   \n",
      "\n",
      "              10  \n",
      "0       0.114739  \n",
      "1       0.114739  \n",
      "2       0.114739  \n",
      "3       0.014241  \n",
      "4       0.014241  \n",
      "...          ...  \n",
      "539995  0.006874  \n",
      "539996  0.003520  \n",
      "539997  0.003520  \n",
      "539998  0.003520  \n",
      "539999  0.006964  \n",
      "\n",
      "[540000 rows x 8 columns]\n",
      "        3         4         5         6         7         8         9   \\\n",
      "0        1  0.481826  0.146927  0.056911  0.010516  0.079477  0.012460   \n",
      "1        1  0.481826  0.146927  0.056911  0.010516  0.079477  0.012460   \n",
      "2        1  0.093008  0.075915  0.042785  0.013655  0.029334  0.016724   \n",
      "3        1  0.093008  0.075915  0.042785  0.013655  0.029334  0.016724   \n",
      "4        1  0.093008  0.075915  0.042785  0.013655  0.029334  0.016724   \n",
      "...     ..       ...       ...       ...       ...       ...       ...   \n",
      "539995   1  0.173320  0.049960  0.074870  0.028243  0.055165  0.048150   \n",
      "539996   1  0.173320  0.049960  0.074870  0.028243  0.055165  0.048150   \n",
      "539997   1  0.119558  0.028171  0.043094  0.046634  0.036646  0.039067   \n",
      "539998   1  0.119558  0.028171  0.043094  0.046634  0.036646  0.039067   \n",
      "539999   1  0.119558  0.028171  0.043094  0.046634  0.036646  0.039067   \n",
      "\n",
      "              10  \n",
      "0       0.027413  \n",
      "1       0.027413  \n",
      "2       0.004653  \n",
      "3       0.004653  \n",
      "4       0.004653  \n",
      "...          ...  \n",
      "539995  0.020632  \n",
      "539996  0.020632  \n",
      "539997  0.008748  \n",
      "539998  0.008748  \n",
      "539999  0.008748  \n",
      "\n",
      "[540000 rows x 8 columns]\n"
     ]
    }
   ],
   "source": [
    "### For EEG\n",
    "dfAwakeEEG_train = dfAwakeEEG_train.drop(dfAwakeEEG_train.iloc[:,11:15],axis = 1)\n",
    "dfAwakeEEG_train = dfAwakeEEG_train.drop(dfAwakeEEG_train.iloc[:,0:3],axis = 1)\n",
    "dfDrowsyEEG_train = dfDrowsyEEG_train.drop(dfDrowsyEEG_train.iloc[:,11:15],axis = 1)\n",
    "dfDrowsyEEG_train = dfDrowsyEEG_train.drop(dfDrowsyEEG_train.iloc[:,0:3],axis = 1)\n",
    "# dfAwakeEEG_test = dfAwakeEEG_test.drop(dfAwakeEEG_test.iloc[:,11:15],axis = 1)\n",
    "# dfAwakeEEG_test = dfAwakeEEG_test.drop(dfAwakeEEG_test.iloc[:,0:3],axis = 1)\n",
    "# dfDrowsyEEG_test = dfDrowsyEEG_test.drop(dfDrowsyEEG_test.iloc[:,11:15],axis = 1)\n",
    "# dfDrowsyEEG_test = dfDrowsyEEG_test.drop(dfDrowsyEEG_test.iloc[:,0:3],axis = 1)\n",
    "\n",
    "print(dfAwakeEEG_train)\n",
    "print(dfDrowsyEEG_train)"
   ]
  },
  {
   "cell_type": "code",
   "execution_count": 111,
   "metadata": {},
   "outputs": [
    {
     "name": "stdout",
     "output_type": "stream",
     "text": [
      "IMU Shapes:\n",
      "(540000, 2)\n",
      "(540000, 2)\n",
      "Perclos Shapes:\n",
      "(540000, 1)\n",
      "(540000, 1)\n",
      "EEG Shapes:\n",
      "(540000, 8)\n",
      "(540000, 8)\n"
     ]
    }
   ],
   "source": [
    "print(\"IMU Shapes:\")\n",
    "print(dfAwakeIMU_train.shape)\n",
    "print(dfDrowsyIMU_train.shape)\n",
    "# print(dfAwakeIMU_test.shape)\n",
    "# print(dfDrowsyIMU_test.shape)\n",
    "print(\"Perclos Shapes:\")\n",
    "print(dfAwakePerclos_train.shape)\n",
    "print(dfDrowsyPerclos_train.shape)\n",
    "# print(dfAwakePerclos_test.shape)\n",
    "# print(dfDrowsyPerclos_test.shape)\n",
    "print(\"EEG Shapes:\")\n",
    "print(dfAwakeEEG_train.shape)\n",
    "print(dfDrowsyEEG_train.shape)\n",
    "# print(dfAwakeEEG_test.shape)\n",
    "# print(dfDrowsyEEG_test.shape)"
   ]
  },
  {
   "attachments": {},
   "cell_type": "markdown",
   "metadata": {},
   "source": [
    "### Reshaping Data"
   ]
  },
  {
   "cell_type": "code",
   "execution_count": 112,
   "metadata": {},
   "outputs": [],
   "source": [
    "### FOR IMU\n",
    "dfAwakeIMU_train = dfAwakeIMU_train.to_numpy()\n",
    "dfDrowsyIMU_train = dfDrowsyIMU_train.to_numpy()\n",
    "dfAwakeIMU_train = dfAwakeIMU_train.reshape(600,900,2) # 3234 for subsets\n",
    "dfDrowsyIMU_train = dfDrowsyIMU_train.reshape(600,900,2) # 2700 for subsets\n",
    "# dfAwakeIMU_test = dfAwakeIMU_test.to_numpy()\n",
    "# dfDrowsyIMU_test = dfDrowsyIMU_test.to_numpy()\n",
    "# dfAwakeIMU_test = dfAwakeIMU_test.reshape(900,900,2)\n",
    "# dfDrowsyIMU_test = dfDrowsyIMU_test.reshape(1200,900,2)\n",
    "\n",
    "### FOR PERCLOS\n",
    "dfAwakePerclos_train = dfAwakePerclos_train.to_numpy()\n",
    "dfDrowsyPerclos_train = dfDrowsyPerclos_train.to_numpy()\n",
    "dfAwakePerclos_train = dfAwakePerclos_train.reshape(600,900,1)\n",
    "dfDrowsyPerclos_train = dfDrowsyPerclos_train.reshape(600,900,1)\n",
    "# dfAwakePerclos_test = dfAwakePerclos_test.to_numpy()\n",
    "# dfDrowsyPerclos_test = dfDrowsyPerclos_test.to_numpy()\n",
    "# dfAwakePerclos_test = dfAwakePerclos_test.reshape(900,900,1)\n",
    "# dfDrowsyPerclos_test = dfDrowsyPerclos_test.reshape(1200,900,1)\n",
    "\n",
    "### FOR EEG\n",
    "dfAwakeEEG_train = dfAwakeEEG_train.to_numpy()\n",
    "dfDrowsyEEG_train = dfDrowsyEEG_train.to_numpy()\n",
    "dfAwakeEEG_train = dfAwakeEEG_train.reshape(600,900,8)\n",
    "dfDrowsyEEG_train = dfDrowsyEEG_train.reshape(600,900,8)\n",
    "# dfAwakeEEG_test = dfAwakeEEG_test.to_numpy()\n",
    "# dfDrowsyEEG_test = dfDrowsyEEG_test.to_numpy()\n",
    "# dfAwakeEEG_test = dfAwakeEEG_test.reshape(900,900,8)\n",
    "# dfDrowsyEEG_test = dfDrowsyEEG_test.reshape(1200,900,8)\n"
   ]
  },
  {
   "cell_type": "code",
   "execution_count": 113,
   "metadata": {},
   "outputs": [
    {
     "name": "stdout",
     "output_type": "stream",
     "text": [
      "IMU Shapes:\n",
      "(600, 900, 2)\n",
      "(600, 900, 2)\n",
      "Perclos Shapes:\n",
      "(600, 900, 1)\n",
      "(600, 900, 1)\n",
      "EEG Shapes:\n",
      "(600, 900, 8)\n",
      "(600, 900, 8)\n"
     ]
    }
   ],
   "source": [
    "print(\"IMU Shapes:\")\n",
    "print(dfAwakeIMU_train.shape)\n",
    "print(dfDrowsyIMU_train.shape)\n",
    "# print(dfAwakeIMU_test.shape)\n",
    "# print(dfDrowsyIMU_test.shape)\n",
    "print(\"Perclos Shapes:\")\n",
    "print(dfAwakePerclos_train.shape)\n",
    "print(dfDrowsyPerclos_train.shape)\n",
    "# print(dfAwakePerclos_test.shape)\n",
    "# print(dfDrowsyPerclos_test.shape)\n",
    "print(\"EEG Shapes:\")\n",
    "print(dfAwakeEEG_train.shape)\n",
    "print(dfDrowsyEEG_train.shape)\n",
    "# print(dfAwakeEEG_test.shape)\n",
    "# print(dfDrowsyEEG_test.shape)"
   ]
  },
  {
   "cell_type": "code",
   "execution_count": 114,
   "metadata": {},
   "outputs": [
    {
     "name": "stdout",
     "output_type": "stream",
     "text": [
      "(600,)\n",
      "(600,)\n"
     ]
    }
   ],
   "source": [
    "dfAwake_trainLabels = np.zeros(600)\n",
    "print(dfAwake_trainLabels.shape)\n",
    "dfDrowsy_trainLabels = np.ones(600)\n",
    "print(dfDrowsy_trainLabels.shape)\n",
    "# dfAwake_testLabels = np.zeros(900)\n",
    "# print(dfAwake_testLabels.shape)\n",
    "# dfDrowsy_testLabels = np.ones(1200)\n",
    "# print(dfDrowsy_testLabels.shape)"
   ]
  },
  {
   "cell_type": "code",
   "execution_count": 115,
   "metadata": {},
   "outputs": [
    {
     "name": "stdout",
     "output_type": "stream",
     "text": [
      "[0. 0. 0. 0. 0. 0. 0. 0. 0. 0. 0. 0. 0. 0. 0. 0. 0. 0. 0. 0. 0. 0. 0. 0.\n",
      " 0. 0. 0. 0. 0. 0. 0. 0. 0. 0. 0. 0. 0. 0. 0. 0. 0. 0. 0. 0. 0. 0. 0. 0.\n",
      " 0. 0. 0. 0. 0. 0. 0. 0. 0. 0. 0. 0. 0. 0. 0. 0. 0. 0. 0. 0. 0. 0. 0. 0.\n",
      " 0. 0. 0. 0. 0. 0. 0. 0. 0. 0. 0. 0. 0. 0. 0. 0. 0. 0. 0. 0. 0. 0. 0. 0.\n",
      " 0. 0. 0. 0. 0. 0. 0. 0. 0. 0. 0. 0. 0. 0. 0. 0. 0. 0. 0. 0. 0. 0. 0. 0.\n",
      " 0. 0. 0. 0. 0. 0. 0. 0. 0. 0. 0. 0. 0. 0. 0. 0. 0. 0. 0. 0. 0. 0. 0. 0.\n",
      " 0. 0. 0. 0. 0. 0. 0. 0. 0. 0. 0. 0. 0. 0. 0. 0. 0. 0. 0. 0. 0. 0. 0. 0.\n",
      " 0. 0. 0. 0. 0. 0. 0. 0. 0. 0. 0. 0. 0. 0. 0. 0. 0. 0. 0. 0. 0. 0. 0. 0.\n",
      " 0. 0. 0. 0. 0. 0. 0. 0. 0. 0. 0. 0. 0. 0. 0. 0. 0. 0. 0. 0. 0. 0. 0. 0.\n",
      " 0. 0. 0. 0. 0. 0. 0. 0. 0. 0. 0. 0. 0. 0. 0. 0. 0. 0. 0. 0. 0. 0. 0. 0.\n",
      " 0. 0. 0. 0. 0. 0. 0. 0. 0. 0. 0. 0. 0. 0. 0. 0. 0. 0. 0. 0. 0. 0. 0. 0.\n",
      " 0. 0. 0. 0. 0. 0. 0. 0. 0. 0. 0. 0. 0. 0. 0. 0. 0. 0. 0. 0. 0. 0. 0. 0.\n",
      " 0. 0. 0. 0. 0. 0. 0. 0. 0. 0. 0. 0. 0. 0. 0. 0. 0. 0. 0. 0. 0. 0. 0. 0.\n",
      " 0. 0. 0. 0. 0. 0. 0. 0. 0. 0. 0. 0. 0. 0. 0. 0. 0. 0. 0. 0. 0. 0. 0. 0.\n",
      " 0. 0. 0. 0. 0. 0. 0. 0. 0. 0. 0. 0. 0. 0. 0. 0. 0. 0. 0. 0. 0. 0. 0. 0.\n",
      " 0. 0. 0. 0. 0. 0. 0. 0. 0. 0. 0. 0. 0. 0. 0. 0. 0. 0. 0. 0. 0. 0. 0. 0.\n",
      " 0. 0. 0. 0. 0. 0. 0. 0. 0. 0. 0. 0. 0. 0. 0. 0. 0. 0. 0. 0. 0. 0. 0. 0.\n",
      " 0. 0. 0. 0. 0. 0. 0. 0. 0. 0. 0. 0. 0. 0. 0. 0. 0. 0. 0. 0. 0. 0. 0. 0.\n",
      " 0. 0. 0. 0. 0. 0. 0. 0. 0. 0. 0. 0. 0. 0. 0. 0. 0. 0. 0. 0. 0. 0. 0. 0.\n",
      " 0. 0. 0. 0. 0. 0. 0. 0. 0. 0. 0. 0. 0. 0. 0. 0. 0. 0. 0. 0. 0. 0. 0. 0.\n",
      " 0. 0. 0. 0. 0. 0. 0. 0. 0. 0. 0. 0. 0. 0. 0. 0. 0. 0. 0. 0. 0. 0. 0. 0.\n",
      " 0. 0. 0. 0. 0. 0. 0. 0. 0. 0. 0. 0. 0. 0. 0. 0. 0. 0. 0. 0. 0. 0. 0. 0.\n",
      " 0. 0. 0. 0. 0. 0. 0. 0. 0. 0. 0. 0. 0. 0. 0. 0. 0. 0. 0. 0. 0. 0. 0. 0.\n",
      " 0. 0. 0. 0. 0. 0. 0. 0. 0. 0. 0. 0. 0. 0. 0. 0. 0. 0. 0. 0. 0. 0. 0. 0.\n",
      " 0. 0. 0. 0. 0. 0. 0. 0. 0. 0. 0. 0. 0. 0. 0. 0. 0. 0. 0. 0. 0. 0. 0. 0.]\n",
      "[1. 1. 1. 1. 1. 1. 1. 1. 1. 1. 1. 1. 1. 1. 1. 1. 1. 1. 1. 1. 1. 1. 1. 1.\n",
      " 1. 1. 1. 1. 1. 1. 1. 1. 1. 1. 1. 1. 1. 1. 1. 1. 1. 1. 1. 1. 1. 1. 1. 1.\n",
      " 1. 1. 1. 1. 1. 1. 1. 1. 1. 1. 1. 1. 1. 1. 1. 1. 1. 1. 1. 1. 1. 1. 1. 1.\n",
      " 1. 1. 1. 1. 1. 1. 1. 1. 1. 1. 1. 1. 1. 1. 1. 1. 1. 1. 1. 1. 1. 1. 1. 1.\n",
      " 1. 1. 1. 1. 1. 1. 1. 1. 1. 1. 1. 1. 1. 1. 1. 1. 1. 1. 1. 1. 1. 1. 1. 1.\n",
      " 1. 1. 1. 1. 1. 1. 1. 1. 1. 1. 1. 1. 1. 1. 1. 1. 1. 1. 1. 1. 1. 1. 1. 1.\n",
      " 1. 1. 1. 1. 1. 1. 1. 1. 1. 1. 1. 1. 1. 1. 1. 1. 1. 1. 1. 1. 1. 1. 1. 1.\n",
      " 1. 1. 1. 1. 1. 1. 1. 1. 1. 1. 1. 1. 1. 1. 1. 1. 1. 1. 1. 1. 1. 1. 1. 1.\n",
      " 1. 1. 1. 1. 1. 1. 1. 1. 1. 1. 1. 1. 1. 1. 1. 1. 1. 1. 1. 1. 1. 1. 1. 1.\n",
      " 1. 1. 1. 1. 1. 1. 1. 1. 1. 1. 1. 1. 1. 1. 1. 1. 1. 1. 1. 1. 1. 1. 1. 1.\n",
      " 1. 1. 1. 1. 1. 1. 1. 1. 1. 1. 1. 1. 1. 1. 1. 1. 1. 1. 1. 1. 1. 1. 1. 1.\n",
      " 1. 1. 1. 1. 1. 1. 1. 1. 1. 1. 1. 1. 1. 1. 1. 1. 1. 1. 1. 1. 1. 1. 1. 1.\n",
      " 1. 1. 1. 1. 1. 1. 1. 1. 1. 1. 1. 1. 1. 1. 1. 1. 1. 1. 1. 1. 1. 1. 1. 1.\n",
      " 1. 1. 1. 1. 1. 1. 1. 1. 1. 1. 1. 1. 1. 1. 1. 1. 1. 1. 1. 1. 1. 1. 1. 1.\n",
      " 1. 1. 1. 1. 1. 1. 1. 1. 1. 1. 1. 1. 1. 1. 1. 1. 1. 1. 1. 1. 1. 1. 1. 1.\n",
      " 1. 1. 1. 1. 1. 1. 1. 1. 1. 1. 1. 1. 1. 1. 1. 1. 1. 1. 1. 1. 1. 1. 1. 1.\n",
      " 1. 1. 1. 1. 1. 1. 1. 1. 1. 1. 1. 1. 1. 1. 1. 1. 1. 1. 1. 1. 1. 1. 1. 1.\n",
      " 1. 1. 1. 1. 1. 1. 1. 1. 1. 1. 1. 1. 1. 1. 1. 1. 1. 1. 1. 1. 1. 1. 1. 1.\n",
      " 1. 1. 1. 1. 1. 1. 1. 1. 1. 1. 1. 1. 1. 1. 1. 1. 1. 1. 1. 1. 1. 1. 1. 1.\n",
      " 1. 1. 1. 1. 1. 1. 1. 1. 1. 1. 1. 1. 1. 1. 1. 1. 1. 1. 1. 1. 1. 1. 1. 1.\n",
      " 1. 1. 1. 1. 1. 1. 1. 1. 1. 1. 1. 1. 1. 1. 1. 1. 1. 1. 1. 1. 1. 1. 1. 1.\n",
      " 1. 1. 1. 1. 1. 1. 1. 1. 1. 1. 1. 1. 1. 1. 1. 1. 1. 1. 1. 1. 1. 1. 1. 1.\n",
      " 1. 1. 1. 1. 1. 1. 1. 1. 1. 1. 1. 1. 1. 1. 1. 1. 1. 1. 1. 1. 1. 1. 1. 1.\n",
      " 1. 1. 1. 1. 1. 1. 1. 1. 1. 1. 1. 1. 1. 1. 1. 1. 1. 1. 1. 1. 1. 1. 1. 1.\n",
      " 1. 1. 1. 1. 1. 1. 1. 1. 1. 1. 1. 1. 1. 1. 1. 1. 1. 1. 1. 1. 1. 1. 1. 1.]\n"
     ]
    }
   ],
   "source": [
    "print(dfAwake_trainLabels)\n",
    "print(dfDrowsy_trainLabels)\n",
    "# print(dfAwake_testLabels)\n",
    "# print(dfDrowsy_testLabels)"
   ]
  },
  {
   "attachments": {},
   "cell_type": "markdown",
   "metadata": {},
   "source": [
    "### Combining Awake Data and Drowsy Data"
   ]
  },
  {
   "cell_type": "code",
   "execution_count": 116,
   "metadata": {},
   "outputs": [
    {
     "name": "stdout",
     "output_type": "stream",
     "text": [
      "(1200, 900, 2)\n",
      "(1200, 900, 1)\n",
      "(1200, 900, 8)\n",
      "(1200,)\n",
      "[[[-0.0049912  -0.01228897]\n",
      "  [-0.02658015  0.04209471]\n",
      "  [-0.02401646  0.03427691]\n",
      "  ...\n",
      "  [-0.01505767  0.00072728]\n",
      "  [-0.01258709 -0.00507971]\n",
      "  [-0.02270618  0.0195644 ]]\n",
      "\n",
      " [[-0.02658015  0.04209471]\n",
      "  [-0.02401646  0.03427691]\n",
      "  [-0.02795795  0.00167872]\n",
      "  ...\n",
      "  [-0.01258709 -0.00507971]\n",
      "  [-0.02270618  0.0195644 ]\n",
      "  [-0.01358249  0.01359302]]\n",
      "\n",
      " [[-0.02401646  0.03427691]\n",
      "  [-0.02795795  0.00167872]\n",
      "  [-0.02374288 -0.00241484]\n",
      "  ...\n",
      "  [-0.02270618  0.0195644 ]\n",
      "  [-0.01358249  0.01359302]\n",
      "  [-0.01070532  0.00254426]]\n",
      "\n",
      " ...\n",
      "\n",
      " [[-0.00869238  0.00032933]\n",
      "  [ 0.0079058  -0.00863488]\n",
      "  [ 0.00409615 -0.00566169]\n",
      "  ...\n",
      "  [ 0.03049769 -0.01224534]\n",
      "  [ 0.02521335  0.01235201]\n",
      "  [-0.00889551  0.01281838]]\n",
      "\n",
      " [[ 0.0079058  -0.00863488]\n",
      "  [ 0.00409615 -0.00566169]\n",
      "  [-0.00035878  0.01276773]\n",
      "  ...\n",
      "  [ 0.02521335  0.01235201]\n",
      "  [-0.00889551  0.01281838]\n",
      "  [ 0.00365369 -0.01025151]]\n",
      "\n",
      " [[ 0.00409615 -0.00566169]\n",
      "  [-0.00035878  0.01276773]\n",
      "  [-0.0017771   0.00099309]\n",
      "  ...\n",
      "  [-0.00889551  0.01281838]\n",
      "  [ 0.00365369 -0.01025151]\n",
      "  [ 0.02208123  0.0292511 ]]]\n",
      "[[[ 0.      ]\n",
      "  [ 0.      ]\n",
      "  [ 0.      ]\n",
      "  ...\n",
      "  [ 0.      ]\n",
      "  [ 0.      ]\n",
      "  [ 0.      ]]\n",
      "\n",
      " [[ 0.      ]\n",
      "  [ 0.      ]\n",
      "  [ 0.      ]\n",
      "  ...\n",
      "  [ 0.      ]\n",
      "  [ 0.      ]\n",
      "  [ 0.      ]]\n",
      "\n",
      " [[ 0.      ]\n",
      "  [ 0.      ]\n",
      "  [ 0.      ]\n",
      "  ...\n",
      "  [ 0.      ]\n",
      "  [ 0.      ]\n",
      "  [ 0.      ]]\n",
      "\n",
      " ...\n",
      "\n",
      " [[12.111111]\n",
      "  [12.      ]\n",
      "  [11.666667]\n",
      "  ...\n",
      "  [22.888889]\n",
      "  [22.777779]\n",
      "  [22.777779]]\n",
      "\n",
      " [[12.      ]\n",
      "  [11.666667]\n",
      "  [11.666667]\n",
      "  ...\n",
      "  [22.777779]\n",
      "  [22.777779]\n",
      "  [23.222223]]\n",
      "\n",
      " [[11.666667]\n",
      "  [11.666667]\n",
      "  [11.666667]\n",
      "  ...\n",
      "  [22.777779]\n",
      "  [23.222223]\n",
      "  [23.222223]]]\n",
      "[[[1.       0.525227 0.187351 ... 0.087825 0.07712  0.114739]\n",
      "  [1.       0.525227 0.187351 ... 0.087825 0.07712  0.114739]\n",
      "  [1.       0.525227 0.187351 ... 0.087825 0.07712  0.114739]\n",
      "  ...\n",
      "  [1.       0.775021 0.066838 ... 0.097906 0.022357 0.040897]\n",
      "  [1.       0.782698 0.246787 ... 0.231151 0.123779 0.058995]\n",
      "  [1.       0.782698 0.246787 ... 0.231151 0.123779 0.058995]]\n",
      "\n",
      " [[1.       0.525227 0.187351 ... 0.087825 0.07712  0.114739]\n",
      "  [1.       0.525227 0.187351 ... 0.087825 0.07712  0.114739]\n",
      "  [1.       0.370602 0.031048 ... 0.022052 0.01813  0.014241]\n",
      "  ...\n",
      "  [1.       0.782698 0.246787 ... 0.231151 0.123779 0.058995]\n",
      "  [1.       0.782698 0.246787 ... 0.231151 0.123779 0.058995]\n",
      "  [1.       0.782698 0.246787 ... 0.231151 0.123779 0.058995]]\n",
      "\n",
      " [[1.       0.525227 0.187351 ... 0.087825 0.07712  0.114739]\n",
      "  [1.       0.370602 0.031048 ... 0.022052 0.01813  0.014241]\n",
      "  [1.       0.370602 0.031048 ... 0.022052 0.01813  0.014241]\n",
      "  ...\n",
      "  [1.       0.782698 0.246787 ... 0.231151 0.123779 0.058995]\n",
      "  [1.       0.782698 0.246787 ... 0.231151 0.123779 0.058995]\n",
      "  [1.       0.068883 0.059651 ... 0.020741 0.009043 0.006104]]\n",
      "\n",
      " ...\n",
      "\n",
      " [[1.       0.64382  0.056318 ... 1.202878 0.431175 0.282995]\n",
      "  [1.       0.103843 0.063993 ... 0.023915 0.069827 0.021087]\n",
      "  [1.       0.103843 0.063993 ... 0.023915 0.069827 0.021087]\n",
      "  ...\n",
      "  [1.       0.17332  0.04996  ... 0.055165 0.04815  0.020632]\n",
      "  [1.       0.17332  0.04996  ... 0.055165 0.04815  0.020632]\n",
      "  [1.       0.119558 0.028171 ... 0.036646 0.039067 0.008748]]\n",
      "\n",
      " [[1.       0.103843 0.063993 ... 0.023915 0.069827 0.021087]\n",
      "  [1.       0.103843 0.063993 ... 0.023915 0.069827 0.021087]\n",
      "  [1.       0.103843 0.063993 ... 0.023915 0.069827 0.021087]\n",
      "  ...\n",
      "  [1.       0.17332  0.04996  ... 0.055165 0.04815  0.020632]\n",
      "  [1.       0.119558 0.028171 ... 0.036646 0.039067 0.008748]\n",
      "  [1.       0.119558 0.028171 ... 0.036646 0.039067 0.008748]]\n",
      "\n",
      " [[1.       0.103843 0.063993 ... 0.023915 0.069827 0.021087]\n",
      "  [1.       0.103843 0.063993 ... 0.023915 0.069827 0.021087]\n",
      "  [1.       0.110804 0.048915 ... 0.021382 0.012294 0.011019]\n",
      "  ...\n",
      "  [1.       0.119558 0.028171 ... 0.036646 0.039067 0.008748]\n",
      "  [1.       0.119558 0.028171 ... 0.036646 0.039067 0.008748]\n",
      "  [1.       0.119558 0.028171 ... 0.036646 0.039067 0.008748]]]\n",
      "[0. 0. 0. ... 1. 1. 1.]\n"
     ]
    }
   ],
   "source": [
    "# dftrainIMU = dfAwakeIMU_train\n",
    "# dftrainPerclos = dfAwakePerclos_train\n",
    "# dftrainEEG = dfAwakeEEG_train\n",
    "# dftrainlabels = dfAwake_trainLabels\n",
    "dftrainIMU = np.concatenate((dfAwakeIMU_train, dfDrowsyIMU_train))\n",
    "dftrainPerclos = np.concatenate((dfAwakePerclos_train, dfDrowsyPerclos_train))\n",
    "dftrainEEG = np.concatenate((dfAwakeEEG_train, dfDrowsyEEG_train))\n",
    "dftrainlabels = np.concatenate((dfAwake_trainLabels, dfDrowsy_trainLabels))\n",
    "print(dftrainIMU.shape)\n",
    "print(dftrainPerclos.shape)\n",
    "print(dftrainEEG.shape)\n",
    "print(dftrainlabels.shape)\n",
    "print(dftrainIMU)\n",
    "print(dftrainPerclos)\n",
    "print(dftrainEEG)\n",
    "print(dftrainlabels)"
   ]
  },
  {
   "attachments": {},
   "cell_type": "markdown",
   "metadata": {},
   "source": [
    "### SHUFFLING DATA"
   ]
  },
  {
   "cell_type": "code",
   "execution_count": 117,
   "metadata": {},
   "outputs": [],
   "source": [
    "# idx = np.random.permutation(len(dftrainlabels))\n",
    "# print(idx)"
   ]
  },
  {
   "cell_type": "code",
   "execution_count": 118,
   "metadata": {},
   "outputs": [],
   "source": [
    "# dftrainIMU=dftrainIMU[idx]\n",
    "# dftrainPerclos=dftrainPerclos[idx]\n",
    "# dftrainEEG=dftrainEEG[idx]\n",
    "# dftrainlabels=dftrainlabels[idx]"
   ]
  },
  {
   "cell_type": "code",
   "execution_count": 119,
   "metadata": {},
   "outputs": [
    {
     "name": "stdout",
     "output_type": "stream",
     "text": [
      "(1200, 900, 2)\n",
      "(1200, 900, 1)\n",
      "(1200, 900, 8)\n",
      "(1200,)\n",
      "[[[-0.0049912  -0.01228897]\n",
      "  [-0.02658015  0.04209471]\n",
      "  [-0.02401646  0.03427691]\n",
      "  ...\n",
      "  [-0.01505767  0.00072728]\n",
      "  [-0.01258709 -0.00507971]\n",
      "  [-0.02270618  0.0195644 ]]\n",
      "\n",
      " [[-0.02658015  0.04209471]\n",
      "  [-0.02401646  0.03427691]\n",
      "  [-0.02795795  0.00167872]\n",
      "  ...\n",
      "  [-0.01258709 -0.00507971]\n",
      "  [-0.02270618  0.0195644 ]\n",
      "  [-0.01358249  0.01359302]]\n",
      "\n",
      " [[-0.02401646  0.03427691]\n",
      "  [-0.02795795  0.00167872]\n",
      "  [-0.02374288 -0.00241484]\n",
      "  ...\n",
      "  [-0.02270618  0.0195644 ]\n",
      "  [-0.01358249  0.01359302]\n",
      "  [-0.01070532  0.00254426]]\n",
      "\n",
      " ...\n",
      "\n",
      " [[-0.00869238  0.00032933]\n",
      "  [ 0.0079058  -0.00863488]\n",
      "  [ 0.00409615 -0.00566169]\n",
      "  ...\n",
      "  [ 0.03049769 -0.01224534]\n",
      "  [ 0.02521335  0.01235201]\n",
      "  [-0.00889551  0.01281838]]\n",
      "\n",
      " [[ 0.0079058  -0.00863488]\n",
      "  [ 0.00409615 -0.00566169]\n",
      "  [-0.00035878  0.01276773]\n",
      "  ...\n",
      "  [ 0.02521335  0.01235201]\n",
      "  [-0.00889551  0.01281838]\n",
      "  [ 0.00365369 -0.01025151]]\n",
      "\n",
      " [[ 0.00409615 -0.00566169]\n",
      "  [-0.00035878  0.01276773]\n",
      "  [-0.0017771   0.00099309]\n",
      "  ...\n",
      "  [-0.00889551  0.01281838]\n",
      "  [ 0.00365369 -0.01025151]\n",
      "  [ 0.02208123  0.0292511 ]]]\n",
      "[[[ 0.      ]\n",
      "  [ 0.      ]\n",
      "  [ 0.      ]\n",
      "  ...\n",
      "  [ 0.      ]\n",
      "  [ 0.      ]\n",
      "  [ 0.      ]]\n",
      "\n",
      " [[ 0.      ]\n",
      "  [ 0.      ]\n",
      "  [ 0.      ]\n",
      "  ...\n",
      "  [ 0.      ]\n",
      "  [ 0.      ]\n",
      "  [ 0.      ]]\n",
      "\n",
      " [[ 0.      ]\n",
      "  [ 0.      ]\n",
      "  [ 0.      ]\n",
      "  ...\n",
      "  [ 0.      ]\n",
      "  [ 0.      ]\n",
      "  [ 0.      ]]\n",
      "\n",
      " ...\n",
      "\n",
      " [[12.111111]\n",
      "  [12.      ]\n",
      "  [11.666667]\n",
      "  ...\n",
      "  [22.888889]\n",
      "  [22.777779]\n",
      "  [22.777779]]\n",
      "\n",
      " [[12.      ]\n",
      "  [11.666667]\n",
      "  [11.666667]\n",
      "  ...\n",
      "  [22.777779]\n",
      "  [22.777779]\n",
      "  [23.222223]]\n",
      "\n",
      " [[11.666667]\n",
      "  [11.666667]\n",
      "  [11.666667]\n",
      "  ...\n",
      "  [22.777779]\n",
      "  [23.222223]\n",
      "  [23.222223]]]\n",
      "[[[1.       0.525227 0.187351 ... 0.087825 0.07712  0.114739]\n",
      "  [1.       0.525227 0.187351 ... 0.087825 0.07712  0.114739]\n",
      "  [1.       0.525227 0.187351 ... 0.087825 0.07712  0.114739]\n",
      "  ...\n",
      "  [1.       0.775021 0.066838 ... 0.097906 0.022357 0.040897]\n",
      "  [1.       0.782698 0.246787 ... 0.231151 0.123779 0.058995]\n",
      "  [1.       0.782698 0.246787 ... 0.231151 0.123779 0.058995]]\n",
      "\n",
      " [[1.       0.525227 0.187351 ... 0.087825 0.07712  0.114739]\n",
      "  [1.       0.525227 0.187351 ... 0.087825 0.07712  0.114739]\n",
      "  [1.       0.370602 0.031048 ... 0.022052 0.01813  0.014241]\n",
      "  ...\n",
      "  [1.       0.782698 0.246787 ... 0.231151 0.123779 0.058995]\n",
      "  [1.       0.782698 0.246787 ... 0.231151 0.123779 0.058995]\n",
      "  [1.       0.782698 0.246787 ... 0.231151 0.123779 0.058995]]\n",
      "\n",
      " [[1.       0.525227 0.187351 ... 0.087825 0.07712  0.114739]\n",
      "  [1.       0.370602 0.031048 ... 0.022052 0.01813  0.014241]\n",
      "  [1.       0.370602 0.031048 ... 0.022052 0.01813  0.014241]\n",
      "  ...\n",
      "  [1.       0.782698 0.246787 ... 0.231151 0.123779 0.058995]\n",
      "  [1.       0.782698 0.246787 ... 0.231151 0.123779 0.058995]\n",
      "  [1.       0.068883 0.059651 ... 0.020741 0.009043 0.006104]]\n",
      "\n",
      " ...\n",
      "\n",
      " [[1.       0.64382  0.056318 ... 1.202878 0.431175 0.282995]\n",
      "  [1.       0.103843 0.063993 ... 0.023915 0.069827 0.021087]\n",
      "  [1.       0.103843 0.063993 ... 0.023915 0.069827 0.021087]\n",
      "  ...\n",
      "  [1.       0.17332  0.04996  ... 0.055165 0.04815  0.020632]\n",
      "  [1.       0.17332  0.04996  ... 0.055165 0.04815  0.020632]\n",
      "  [1.       0.119558 0.028171 ... 0.036646 0.039067 0.008748]]\n",
      "\n",
      " [[1.       0.103843 0.063993 ... 0.023915 0.069827 0.021087]\n",
      "  [1.       0.103843 0.063993 ... 0.023915 0.069827 0.021087]\n",
      "  [1.       0.103843 0.063993 ... 0.023915 0.069827 0.021087]\n",
      "  ...\n",
      "  [1.       0.17332  0.04996  ... 0.055165 0.04815  0.020632]\n",
      "  [1.       0.119558 0.028171 ... 0.036646 0.039067 0.008748]\n",
      "  [1.       0.119558 0.028171 ... 0.036646 0.039067 0.008748]]\n",
      "\n",
      " [[1.       0.103843 0.063993 ... 0.023915 0.069827 0.021087]\n",
      "  [1.       0.103843 0.063993 ... 0.023915 0.069827 0.021087]\n",
      "  [1.       0.110804 0.048915 ... 0.021382 0.012294 0.011019]\n",
      "  ...\n",
      "  [1.       0.119558 0.028171 ... 0.036646 0.039067 0.008748]\n",
      "  [1.       0.119558 0.028171 ... 0.036646 0.039067 0.008748]\n",
      "  [1.       0.119558 0.028171 ... 0.036646 0.039067 0.008748]]]\n",
      "[0. 0. 0. ... 1. 1. 1.]\n"
     ]
    }
   ],
   "source": [
    "print(dftrainIMU.shape)\n",
    "print(dftrainPerclos.shape)\n",
    "print(dftrainEEG.shape)\n",
    "print(dftrainlabels.shape)\n",
    "print(dftrainIMU)\n",
    "print(dftrainPerclos)\n",
    "print(dftrainEEG)\n",
    "print(dftrainlabels)"
   ]
  },
  {
   "cell_type": "code",
   "execution_count": 120,
   "metadata": {},
   "outputs": [],
   "source": [
    "# dftestIMU = np.concatenate((dfAwakeIMU_test, dfDrowsyIMU_test))\n",
    "# dftestPerclos = np.concatenate((dfAwakePerclos_test, dfDrowsyPerclos_test))\n",
    "# dftestEEG = np.concatenate((dfAwakeEEG_test, dfDrowsyEEG_test))\n",
    "# dftestlabels =np.concatenate((dfAwake_testLabels, dfDrowsy_testLabels))\n",
    "# print(dftestIMU.shape)\n",
    "# print(dftestPerclos.shape)\n",
    "# print(dftestEEG.shape)\n",
    "# print(dftestlabels.shape)\n",
    "# print(dftestIMU)\n",
    "# print(dftestPerclos)\n",
    "# print(dftestEEG)\n",
    "# print(dftestlabels)"
   ]
  },
  {
   "cell_type": "code",
   "execution_count": 121,
   "metadata": {},
   "outputs": [],
   "source": [
    "dftrainIMU = dftrainIMU.astype('float32')\n",
    "dftrainPerclos = dftrainPerclos.astype('float32')\n",
    "dftrainEEG = dftrainEEG.astype('float32')\n",
    "dftrainlabels = dftrainlabels.astype('float32')\n",
    "\n",
    "dftrainlabels_hot = np_utils.to_categorical(dftrainlabels, 2)"
   ]
  },
  {
   "cell_type": "code",
   "execution_count": 122,
   "metadata": {},
   "outputs": [
    {
     "name": "stdout",
     "output_type": "stream",
     "text": [
      "New dfttrainlabels shape:  [[1. 0.]\n",
      " [1. 0.]\n",
      " [1. 0.]\n",
      " ...\n",
      " [0. 1.]\n",
      " [0. 1.]\n",
      " [0. 1.]]\n",
      "New dfttrainlabels shape:  (1200,)\n",
      "New dfttrainlabels shape:  [0. 0. 0. ... 1. 1. 1.]\n"
     ]
    }
   ],
   "source": [
    "print('New dfttrainlabels shape: ', dftrainlabels_hot)\n",
    "print('New dfttrainlabels shape: ', dftrainlabels.shape)\n",
    "print('New dfttrainlabels shape: ', dftrainlabels)"
   ]
  },
  {
   "cell_type": "code",
   "execution_count": 123,
   "metadata": {},
   "outputs": [],
   "source": [
    "LABELS = ['Awake','Drowsy']"
   ]
  },
  {
   "attachments": {},
   "cell_type": "markdown",
   "metadata": {},
   "source": [
    "### Loading Models And Evaluating training Data from Each Module"
   ]
  },
  {
   "cell_type": "code",
   "execution_count": 124,
   "metadata": {},
   "outputs": [
    {
     "name": "stdout",
     "output_type": "stream",
     "text": [
      "38/38 [==============================] - 0s 2ms/step - loss: 0.5329 - sparse_categorical_accuracy: 0.7500\n",
      "IMU:\n",
      "Train accuracy 0.75\n",
      "Train loss 0.532899022102356\n",
      "38/38 [==============================] - 0s 2ms/step - loss: 0.0203 - sparse_categorical_accuracy: 1.0000\n",
      "PERCLOS:\n",
      "Train accuracy 1.0\n",
      "Train loss 0.02033764123916626\n",
      "38/38 [==============================] - 0s 3ms/step - loss: 0.9856 - sparse_categorical_accuracy: 0.5000\n",
      "EEG:\n",
      "Train accuracy 0.5\n",
      "Train loss 0.985569179058075\n"
     ]
    }
   ],
   "source": [
    "### FOR IMU\n",
    "modelIMU = keras.models.load_model(\"best_model(imuv3).h5\")\n",
    "\n",
    "train_loss, train_acc = modelIMU.evaluate(dftrainIMU, dftrainlabels,verbose=1)\n",
    "\n",
    "print(\"IMU:\")\n",
    "print(\"Train accuracy\", train_acc)\n",
    "print(\"Train loss\", train_loss)\n",
    "\n",
    "### FOR PERCLOS\n",
    "modelPerclos = keras.models.load_model(\"best_model(perclosv2).h5\")\n",
    "\n",
    "train_loss, train_acc = modelPerclos.evaluate(dftrainPerclos, dftrainlabels,verbose=1)\n",
    "\n",
    "print(\"PERCLOS:\")\n",
    "print(\"Train accuracy\", train_acc)\n",
    "print(\"Train loss\", train_loss)\n",
    "\n",
    "### FOR EEG\n",
    "modelEEG = keras.models.load_model(\"best_model(eegv2).h5\")\n",
    "\n",
    "train_loss, train_acc = modelEEG.evaluate(dftrainEEG, dftrainlabels,verbose=1)\n",
    "\n",
    "print(\"EEG:\")\n",
    "print(\"Train accuracy\", train_acc)\n",
    "print(\"Train loss\", train_loss)"
   ]
  },
  {
   "cell_type": "code",
   "execution_count": 125,
   "metadata": {},
   "outputs": [
    {
     "name": "stdout",
     "output_type": "stream",
     "text": [
      "38/38 [==============================] - 0s 2ms/step\n",
      "38/38 [==============================] - 0s 2ms/step\n",
      "38/38 [==============================] - 0s 2ms/step\n"
     ]
    }
   ],
   "source": [
    "y_pred_train_IMU = modelIMU.predict(dftrainIMU)\n",
    "y_pred_train_Perclos = modelPerclos.predict(dftrainPerclos)\n",
    "y_pred_train_EEG = modelEEG.predict(dftrainEEG)\n",
    "max_y_train = np.argmax(dftrainlabels_hot, axis=1)\n",
    "\n",
    "max_y_pred_train_IMU = np.argmax(y_pred_train_IMU, axis=1)\n",
    "max_y_pred_train_Perclos = np.argmax(y_pred_train_Perclos, axis=1)\n",
    "max_y_pred_train_EEG = np.argmax(y_pred_train_EEG, axis=1)"
   ]
  },
  {
   "cell_type": "code",
   "execution_count": 126,
   "metadata": {},
   "outputs": [
    {
     "name": "stdout",
     "output_type": "stream",
     "text": [
      "IMU Confusion matrix\n"
     ]
    },
    {
     "data": {
      "image/png": "[encoded data removed]",
      "text/plain": [
       "<Figure size 600x400 with 2 Axes>"
      ]
     },
     "metadata": {},
     "output_type": "display_data"
    },
    {
     "name": "stdout",
     "output_type": "stream",
     "text": [
      "PERCLOS Confusion matrix\n"
     ]
    },
    {
     "data": {
      "image/png": "[encoded data removed]",
      "text/plain": [
       "<Figure size 600x400 with 2 Axes>"
      ]
     },
     "metadata": {},
     "output_type": "display_data"
    },
    {
     "name": "stdout",
     "output_type": "stream",
     "text": [
      "EEG Confusion matrix\n"
     ]
    },
    {
     "data": {
      "image/png": "[encoded data removed]",
      "text/plain": [
       "<Figure size 600x400 with 2 Axes>"
      ]
     },
     "metadata": {},
     "output_type": "display_data"
    }
   ],
   "source": [
    "def show_confusion_matrix(validations, predictions):\n",
    "\n",
    "    matrix = metrics.confusion_matrix(validations, predictions)\n",
    "    plt.figure(figsize=(6, 4))\n",
    "    sns.heatmap(matrix,\n",
    "                cmap='coolwarm',\n",
    "                linecolor='white',\n",
    "                linewidths=1,\n",
    "                xticklabels=LABELS,\n",
    "                yticklabels=LABELS,\n",
    "                annot=True,\n",
    "                fmt='d')\n",
    "    plt.title('Confusion Matrix')\n",
    "    plt.ylabel('True Label')\n",
    "    plt.xlabel('Predicted Label')\n",
    "    plt.show()\n",
    "\n",
    "print(\"IMU Confusion matrix\")\n",
    "show_confusion_matrix(max_y_train, max_y_pred_train_IMU)\n",
    "print(\"PERCLOS Confusion matrix\")\n",
    "show_confusion_matrix(max_y_train, max_y_pred_train_Perclos)\n",
    "print(\"EEG Confusion matrix\")\n",
    "show_confusion_matrix(max_y_train, max_y_pred_train_EEG)"
   ]
  },
  {
   "attachments": {},
   "cell_type": "markdown",
   "metadata": {},
   "source": [
    "### Getting Results compared to Actual label of data"
   ]
  },
  {
   "cell_type": "code",
   "execution_count": null,
   "metadata": {},
   "outputs": [],
   "source": [
    "print(\"Results of Model for IMU:\")\n",
    "print(max_y_pred_train_IMU)\n",
    "print(\"Results of Model for Perclos:\")\n",
    "print(max_y_pred_train_Perclos)\n",
    "print(\"Results of Model for EEG:\")\n",
    "print(max_y_pred_train_EEG)\n",
    "print(\"Actual Label:\")\n",
    "print(max_y_train)\n",
    "\n",
    "# with np.printoptions(threshold=np.inf):\n",
    "#     print(\"Results of Model for IMU:\")\n",
    "#     print(max_y_pred_train_IMU)\n",
    "#     print(\"Results of Model for Perclos:\")\n",
    "#     print(max_y_pred_train_Perclos)\n",
    "#     print(\"Results of Model for EEG:\")\n",
    "#     print(max_y_pred_train_EEG)\n",
    "#     print(\"Actual Label:\")\n",
    "#     print(max_y_train)"
   ]
  },
  {
   "cell_type": "code",
   "execution_count": null,
   "metadata": {},
   "outputs": [],
   "source": [
    "print(max_y_train.shape)"
   ]
  },
  {
   "attachments": {},
   "cell_type": "markdown",
   "metadata": {},
   "source": [
    "### Reshaping Results"
   ]
  },
  {
   "cell_type": "code",
   "execution_count": null,
   "metadata": {},
   "outputs": [],
   "source": [
    "max_y_pred_train_IMU = np.array(max_y_pred_train_IMU)\n",
    "max_y_pred_train_Perclos = np.array(max_y_pred_train_Perclos)\n",
    "max_y_pred_train_EEG = np.array(max_y_pred_train_EEG)\n",
    "max_y_train = np.array(max_y_train)\n",
    "\n",
    "\n",
    "max_y_pred_train_IMU = max_y_pred_train_IMU.reshape(5700,)\n",
    "max_y_pred_train_Perclos = max_y_pred_train_Perclos.reshape(5700,)\n",
    "max_y_pred_train_EEG = max_y_pred_train_EEG.reshape(5700,)\n",
    "max_y_train = max_y_train.reshape(5700,)"
   ]
  },
  {
   "cell_type": "code",
   "execution_count": null,
   "metadata": {},
   "outputs": [],
   "source": [
    "print(max_y_pred_train_IMU.shape)\n",
    "print(max_y_pred_train_Perclos.shape)\n",
    "print(max_y_pred_train_EEG.shape)\n",
    "print(max_y_train.shape)"
   ]
  },
  {
   "cell_type": "code",
   "execution_count": null,
   "metadata": {},
   "outputs": [],
   "source": [
    "max_y_pred_train_IMU = pd.DataFrame(max_y_pred_train_IMU)\n",
    "max_y_pred_train_Perclos = pd.DataFrame(max_y_pred_train_Perclos)\n",
    "max_y_pred_train_EEG = pd.DataFrame(max_y_pred_train_EEG)\n",
    "max_y_train = pd.DataFrame(max_y_train)"
   ]
  },
  {
   "cell_type": "code",
   "execution_count": null,
   "metadata": {},
   "outputs": [],
   "source": [
    "print(max_y_pred_train_IMU.shape)\n",
    "print(max_y_pred_train_Perclos.shape)\n",
    "print(max_y_pred_train_EEG.shape)\n",
    "print(max_y_train.shape)"
   ]
  },
  {
   "cell_type": "code",
   "execution_count": null,
   "metadata": {},
   "outputs": [],
   "source": [
    "print(max_y_pred_train_IMU)\n",
    "print(max_y_pred_train_Perclos)\n",
    "print(max_y_pred_train_EEG)\n",
    "print(max_y_train)"
   ]
  },
  {
   "attachments": {},
   "cell_type": "markdown",
   "metadata": {},
   "source": [
    "### Saving Training Results to a File"
   ]
  },
  {
   "cell_type": "code",
   "execution_count": null,
   "metadata": {},
   "outputs": [],
   "source": [
    "max_y_pred_train_IMU.to_csv('imuData.txt',index=False,encoding = 'utf-8')\n",
    "max_y_pred_train_Perclos.to_csv('perclosData.txt',index=False,encoding = 'utf-8')\n",
    "max_y_pred_train_EEG.to_csv('eegData.txt',index=False,encoding = 'utf-8')\n",
    "max_y_train.to_csv('labelsData.txt',index=False,encoding = 'utf-8')"
   ]
  },
  {
   "attachments": {},
   "cell_type": "markdown",
   "metadata": {},
   "source": [
    "### Do the same for Testing Data"
   ]
  },
  {
   "cell_type": "code",
   "execution_count": null,
   "metadata": {},
   "outputs": [],
   "source": [
    "# dftestIMU = dftestIMU.astype('float32')\n",
    "# dftestPerclos = dftestPerclos.astype('float32')\n",
    "# dftestEEG = dftestEEG.astype('float32')\n",
    "# dftestlabels = dftestlabels.astype('float32')\n",
    "\n",
    "# dftestlabels_hot = np_utils.to_categorical(dftestlabels, 2)"
   ]
  },
  {
   "cell_type": "code",
   "execution_count": null,
   "metadata": {},
   "outputs": [],
   "source": [
    "# print('New dfttrainlabels shape: ', dftestlabels_hot)\n",
    "# print('New dfttrainlabels shape: ', dftestlabels.shape)\n",
    "# print('New dfttrainlabels shape: ', dftestlabels)"
   ]
  },
  {
   "cell_type": "code",
   "execution_count": null,
   "metadata": {},
   "outputs": [],
   "source": [
    "# ### FOR IMU\n",
    "# modelIMU = keras.models.load_model(\"best_model(imuv3).h5\")\n",
    "\n",
    "# test_loss, test_acc = modelIMU.evaluate(dftestIMU, dftestlabels,verbose=1)\n",
    "\n",
    "# print(\"IMU:\")\n",
    "# print(\"Test accuracy\", test_acc)\n",
    "# print(\"Test loss\", test_loss)\n",
    "\n",
    "# ### FOR PERCLOS\n",
    "# modelPerclos = keras.models.load_model(\"best_model(perclosv2).h5\")\n",
    "\n",
    "# test_loss, test_acc = modelPerclos.evaluate(dftestPerclos, dftestlabels,verbose=1)\n",
    "\n",
    "# print(\"PERCLOS:\")\n",
    "# print(\"Test accuracy\", test_acc)\n",
    "# print(\"Test loss\", test_loss)\n",
    "\n",
    "# ### FOR EEG\n",
    "# modelEEG = keras.models.load_model(\"best_model(eeg).h5\")\n",
    "\n",
    "# test_loss, test_acc = modelEEG.evaluate(dftestEEG, dftestlabels,verbose=1)\n",
    "\n",
    "# print(\"EEG:\")\n",
    "# print(\"Test accuracy\", test_acc)\n",
    "# print(\"Test loss\", test_loss)"
   ]
  },
  {
   "cell_type": "code",
   "execution_count": null,
   "metadata": {},
   "outputs": [],
   "source": [
    "# y_pred_test_IMU = modelIMU.predict(dftestIMU)\n",
    "# y_pred_test_Perclos = modelPerclos.predict(dftestPerclos)\n",
    "# y_pred_test_EEG = modelEEG.predict(dftestEEG)\n",
    "# max_y_test = np.argmax(dftestlabels_hot, axis=1)\n",
    "\n",
    "# max_y_pred_test_IMU = np.argmax(y_pred_test_IMU, axis=1)\n",
    "# max_y_pred_test_Perclos = np.argmax(y_pred_test_Perclos, axis=1)\n",
    "# max_y_pred_test_EEG = np.argmax(y_pred_test_EEG, axis=1)"
   ]
  },
  {
   "cell_type": "code",
   "execution_count": null,
   "metadata": {},
   "outputs": [],
   "source": [
    "# print(\"Results of Model for IMU:\")\n",
    "# print(max_y_pred_test_IMU)\n",
    "# print(\"Results of Model for Perclos:\")\n",
    "# print(max_y_pred_test_Perclos)\n",
    "# print(\"Results of Model for EEG:\")\n",
    "# print(max_y_pred_test_EEG)\n",
    "# print(\"Actual Label:\")\n",
    "# print(max_y_test)"
   ]
  },
  {
   "cell_type": "code",
   "execution_count": null,
   "metadata": {},
   "outputs": [],
   "source": [
    "# print(max_y_test.shape)"
   ]
  },
  {
   "cell_type": "code",
   "execution_count": null,
   "metadata": {},
   "outputs": [],
   "source": [
    "# max_y_pred_test_IMU = np.array(max_y_pred_test_IMU)\n",
    "# max_y_pred_test_Perclos = np.array(max_y_pred_test_Perclos)\n",
    "# max_y_pred_test_EEG = np.array(max_y_pred_test_EEG)\n",
    "# max_y_test = np.array(max_y_test)\n",
    "\n",
    "\n",
    "# max_y_pred_test_IMU = max_y_pred_test_IMU.reshape(2100,)\n",
    "# max_y_pred_test_Perclos = max_y_pred_test_Perclos.reshape(2100,)\n",
    "# max_y_pred_test_EEG = max_y_pred_test_EEG.reshape(2100,)\n",
    "# max_y_test = max_y_test.reshape(2100,)"
   ]
  },
  {
   "cell_type": "code",
   "execution_count": null,
   "metadata": {},
   "outputs": [],
   "source": [
    "# print(max_y_pred_test_IMU.shape)\n",
    "# print(max_y_pred_test_Perclos.shape)\n",
    "# print(max_y_pred_test_EEG.shape)\n",
    "# print(max_y_test.shape)"
   ]
  },
  {
   "cell_type": "code",
   "execution_count": null,
   "metadata": {},
   "outputs": [],
   "source": [
    "# max_y_pred_test_IMU = pd.DataFrame(max_y_pred_test_IMU)\n",
    "# max_y_pred_test_Perclos = pd.DataFrame(max_y_pred_test_Perclos)\n",
    "# max_y_pred_test_EEG = pd.DataFrame(max_y_pred_test_EEG)\n",
    "# max_y_test = pd.DataFrame(max_y_test)"
   ]
  },
  {
   "cell_type": "code",
   "execution_count": null,
   "metadata": {},
   "outputs": [],
   "source": [
    "# print(max_y_pred_test_IMU.shape)\n",
    "# print(max_y_pred_test_Perclos.shape)\n",
    "# print(max_y_pred_test_EEG.shape)\n",
    "# print(max_y_test.shape)"
   ]
  },
  {
   "cell_type": "code",
   "execution_count": null,
   "metadata": {},
   "outputs": [],
   "source": [
    "# print(max_y_pred_test_IMU)\n",
    "# print(max_y_pred_test_Perclos)\n",
    "# print(max_y_pred_test_EEG)\n",
    "# print(max_y_test)"
   ]
  },
  {
   "cell_type": "code",
   "execution_count": null,
   "metadata": {},
   "outputs": [],
   "source": [
    "# max_y_pred_test_IMU.to_csv('imuDatatest.txt',index=False,encoding = 'utf-8')\n",
    "# max_y_pred_test_Perclos.to_csv('perclosDatatest.txt',index=False,encoding = 'utf-8')\n",
    "# max_y_pred_test_EEG.to_csv('eegDatatest.txt',index=False,encoding = 'utf-8')\n",
    "# max_y_test.to_csv('labelsDatatest.txt',index=False,encoding = 'utf-8')"
   ]
  }
 ],
 "metadata": {
  "kernelspec": {
   "display_name": "Python 3",
   "language": "python",
   "name": "python3"
  },
  "language_info": {
   "codemirror_mode": {
    "name": "ipython",
    "version": 3
   },
   "file_extension": ".py",
   "mimetype": "text/x-python",
   "name": "python",
   "nbconvert_exporter": "python",
   "pygments_lexer": "ipython3",
   "version": "3.10.8"
  },
  "orig_nbformat": 4,
  "vscode": {
   "interpreter": {
    "hash": "26de051ba29f2982a8de78e945f0abaf191376122a1563185a90213a26c5da77"
   }
  }
 },
 "nbformat": 4,
 "nbformat_minor": 2
}
